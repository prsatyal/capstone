{
  "cells": [
    {
      "cell_type": "code",
      "execution_count": 2,
      "id": "edebc30c",
      "metadata": {
        "id": "edebc30c"
      },
      "outputs": [],
      "source": [
        "import pandas as pd\n",
        "import numpy as np\n",
        "\n",
        "#Data Visualization\n",
        "import matplotlib.pyplot as plt\n",
        "\n",
        "#Text Color\n",
        "from termcolor import colored\n",
        "\n",
        "#Train Test Split\n",
        "from sklearn.model_selection import train_test_split\n",
        "\n",
        "#Model Evaluation\n",
        "from sklearn.metrics import confusion_matrix, precision_score, recall_score, accuracy_score\n",
        "from mlxtend.plotting import plot_confusion_matrix\n",
        "\n",
        "#Deep Learning\n",
        "import tensorflow as tf\n",
        "from tensorflow.keras.models import Model, Sequential\n",
        "from tensorflow.keras.layers import Embedding, LSTM, Dense, Dropout, GlobalMaxPooling1D, Bidirectional\n",
        "from tensorflow.keras.preprocessing.text import Tokenizer\n",
        "from tensorflow.keras.optimizers import Adam\n",
        "from tensorflow.keras.preprocessing.sequence import pad_sequences\n",
        "from tensorflow.keras.callbacks import ModelCheckpoint, EarlyStopping\n",
        "from tensorflow.keras.utils import plot_model\n",
        "\n",
        "import keras\n",
        "\n",
        "from transformers import BertTokenizer\n",
        "from tqdm.auto import tqdm\n",
        "\n",
        "import pandas as pd\n",
        "import numpy as np"
      ]
    },
    {
      "cell_type": "code",
      "execution_count": 3,
      "id": "LlHiWs4_UrcC",
      "metadata": {
        "colab": {
          "base_uri": "https://localhost:8080/"
        },
        "id": "LlHiWs4_UrcC",
        "outputId": "9db0601a-d4dd-46a3-ec30-297aac6a62e8"
      },
      "outputs": [
        {
          "name": "stdout",
          "output_type": "stream",
          "text": [
            "Drive already mounted at /content/drive; to attempt to forcibly remount, call drive.mount(\"/content/drive\", force_remount=True).\n"
          ]
        }
      ],
      "source": [
        "### loading google drive\n",
        "from google.colab import drive\n",
        "drive.mount('/content/drive')"
      ]
    },
    {
      "cell_type": "code",
      "execution_count": 4,
      "id": "dRHv05neUsOa",
      "metadata": {
        "colab": {
          "base_uri": "https://localhost:8080/"
        },
        "id": "dRHv05neUsOa",
        "outputId": "5e0df28c-4538-4f91-ccf5-7b5763988235"
      },
      "outputs": [
        {
          "name": "stdout",
          "output_type": "stream",
          "text": [
            "/content/drive/MyDrive/Colab Notebooks/498-CAPSTONE/Data/data_for_model\n"
          ]
        }
      ],
      "source": [
        "%cd \"/content/drive/MyDrive/Colab Notebooks/498-CAPSTONE/Data/data_for_model\""
      ]
    },
    {
      "cell_type": "code",
      "execution_count": 5,
      "id": "22a78d7b",
      "metadata": {
        "colab": {
          "base_uri": "https://localhost:8080/",
          "height": 424
        },
        "id": "22a78d7b",
        "outputId": "8450c6dd-ed81-41dd-cafb-2f54e38df60e"
      },
      "outputs": [
        {
          "data": {
            "text/html": [
              "\n",
              "  <div id=\"df-4e20b110-42ff-4f33-a031-45085da32101\">\n",
              "    <div class=\"colab-df-container\">\n",
              "      <div>\n",
              "<style scoped>\n",
              "    .dataframe tbody tr th:only-of-type {\n",
              "        vertical-align: middle;\n",
              "    }\n",
              "\n",
              "    .dataframe tbody tr th {\n",
              "        vertical-align: top;\n",
              "    }\n",
              "\n",
              "    .dataframe thead th {\n",
              "        text-align: right;\n",
              "    }\n",
              "</style>\n",
              "<table border=\"1\" class=\"dataframe\">\n",
              "  <thead>\n",
              "    <tr style=\"text-align: right;\">\n",
              "      <th></th>\n",
              "      <th>cleaned_text</th>\n",
              "      <th>class</th>\n",
              "      <th>selftext_length</th>\n",
              "    </tr>\n",
              "  </thead>\n",
              "  <tbody>\n",
              "    <tr>\n",
              "      <th>0</th>\n",
              "      <td>what is the point see no point in doing life y...</td>\n",
              "      <td>suicide</td>\n",
              "      <td>282</td>\n",
              "    </tr>\n",
              "    <tr>\n",
              "      <th>1</th>\n",
              "      <td>had shotgun off safety in my mouth today i am ...</td>\n",
              "      <td>suicide</td>\n",
              "      <td>308</td>\n",
              "    </tr>\n",
              "    <tr>\n",
              "      <th>2</th>\n",
              "      <td>i am going to commit suicide within next few h...</td>\n",
              "      <td>suicide</td>\n",
              "      <td>76</td>\n",
              "    </tr>\n",
              "    <tr>\n",
              "      <th>3</th>\n",
              "      <td>depression and no one around be been dealing w...</td>\n",
              "      <td>suicide</td>\n",
              "      <td>108</td>\n",
              "    </tr>\n",
              "    <tr>\n",
              "      <th>4</th>\n",
              "      <td>nothing like seeing all the other posts around...</td>\n",
              "      <td>suicide</td>\n",
              "      <td>25</td>\n",
              "    </tr>\n",
              "    <tr>\n",
              "      <th>...</th>\n",
              "      <td>...</td>\n",
              "      <td>...</td>\n",
              "      <td>...</td>\n",
              "    </tr>\n",
              "    <tr>\n",
              "      <th>17015</th>\n",
              "      <td>accounts incredibly overdue a life entirely un...</td>\n",
              "      <td>stressed</td>\n",
              "      <td>28</td>\n",
              "    </tr>\n",
              "    <tr>\n",
              "      <th>17016</th>\n",
              "      <td>hey so i come from a middle class family and s...</td>\n",
              "      <td>stressed</td>\n",
              "      <td>59</td>\n",
              "    </tr>\n",
              "    <tr>\n",
              "      <th>17017</th>\n",
              "      <td>but then i will get there and he will drop the...</td>\n",
              "      <td>stressed</td>\n",
              "      <td>77</td>\n",
              "    </tr>\n",
              "    <tr>\n",
              "      <th>17018</th>\n",
              "      <td>i do not have the ability to cope with it anym...</td>\n",
              "      <td>stressed</td>\n",
              "      <td>61</td>\n",
              "    </tr>\n",
              "    <tr>\n",
              "      <th>17019</th>\n",
              "      <td>i was talking to my mon this morning and she s...</td>\n",
              "      <td>stressed</td>\n",
              "      <td>24</td>\n",
              "    </tr>\n",
              "  </tbody>\n",
              "</table>\n",
              "<p>17020 rows × 3 columns</p>\n",
              "</div>\n",
              "      <button class=\"colab-df-convert\" onclick=\"convertToInteractive('df-4e20b110-42ff-4f33-a031-45085da32101')\"\n",
              "              title=\"Convert this dataframe to an interactive table.\"\n",
              "              style=\"display:none;\">\n",
              "        \n",
              "  <svg xmlns=\"http://www.w3.org/2000/svg\" height=\"24px\"viewBox=\"0 0 24 24\"\n",
              "       width=\"24px\">\n",
              "    <path d=\"M0 0h24v24H0V0z\" fill=\"none\"/>\n",
              "    <path d=\"M18.56 5.44l.94 2.06.94-2.06 2.06-.94-2.06-.94-.94-2.06-.94 2.06-2.06.94zm-11 1L8.5 8.5l.94-2.06 2.06-.94-2.06-.94L8.5 2.5l-.94 2.06-2.06.94zm10 10l.94 2.06.94-2.06 2.06-.94-2.06-.94-.94-2.06-.94 2.06-2.06.94z\"/><path d=\"M17.41 7.96l-1.37-1.37c-.4-.4-.92-.59-1.43-.59-.52 0-1.04.2-1.43.59L10.3 9.45l-7.72 7.72c-.78.78-.78 2.05 0 2.83L4 21.41c.39.39.9.59 1.41.59.51 0 1.02-.2 1.41-.59l7.78-7.78 2.81-2.81c.8-.78.8-2.07 0-2.86zM5.41 20L4 18.59l7.72-7.72 1.47 1.35L5.41 20z\"/>\n",
              "  </svg>\n",
              "      </button>\n",
              "      \n",
              "  <style>\n",
              "    .colab-df-container {\n",
              "      display:flex;\n",
              "      flex-wrap:wrap;\n",
              "      gap: 12px;\n",
              "    }\n",
              "\n",
              "    .colab-df-convert {\n",
              "      background-color: #E8F0FE;\n",
              "      border: none;\n",
              "      border-radius: 50%;\n",
              "      cursor: pointer;\n",
              "      display: none;\n",
              "      fill: #1967D2;\n",
              "      height: 32px;\n",
              "      padding: 0 0 0 0;\n",
              "      width: 32px;\n",
              "    }\n",
              "\n",
              "    .colab-df-convert:hover {\n",
              "      background-color: #E2EBFA;\n",
              "      box-shadow: 0px 1px 2px rgba(60, 64, 67, 0.3), 0px 1px 3px 1px rgba(60, 64, 67, 0.15);\n",
              "      fill: #174EA6;\n",
              "    }\n",
              "\n",
              "    [theme=dark] .colab-df-convert {\n",
              "      background-color: #3B4455;\n",
              "      fill: #D2E3FC;\n",
              "    }\n",
              "\n",
              "    [theme=dark] .colab-df-convert:hover {\n",
              "      background-color: #434B5C;\n",
              "      box-shadow: 0px 1px 3px 1px rgba(0, 0, 0, 0.15);\n",
              "      filter: drop-shadow(0px 1px 2px rgba(0, 0, 0, 0.3));\n",
              "      fill: #FFFFFF;\n",
              "    }\n",
              "  </style>\n",
              "\n",
              "      <script>\n",
              "        const buttonEl =\n",
              "          document.querySelector('#df-4e20b110-42ff-4f33-a031-45085da32101 button.colab-df-convert');\n",
              "        buttonEl.style.display =\n",
              "          google.colab.kernel.accessAllowed ? 'block' : 'none';\n",
              "\n",
              "        async function convertToInteractive(key) {\n",
              "          const element = document.querySelector('#df-4e20b110-42ff-4f33-a031-45085da32101');\n",
              "          const dataTable =\n",
              "            await google.colab.kernel.invokeFunction('convertToInteractive',\n",
              "                                                     [key], {});\n",
              "          if (!dataTable) return;\n",
              "\n",
              "          const docLinkHtml = 'Like what you see? Visit the ' +\n",
              "            '<a target=\"_blank\" href=https://colab.research.google.com/notebooks/data_table.ipynb>data table notebook</a>'\n",
              "            + ' to learn more about interactive tables.';\n",
              "          element.innerHTML = '';\n",
              "          dataTable['output_type'] = 'display_data';\n",
              "          await google.colab.output.renderOutput(dataTable, element);\n",
              "          const docLink = document.createElement('div');\n",
              "          docLink.innerHTML = docLinkHtml;\n",
              "          element.appendChild(docLink);\n",
              "        }\n",
              "      </script>\n",
              "    </div>\n",
              "  </div>\n",
              "  "
            ],
            "text/plain": [
              "                                            cleaned_text     class  \\\n",
              "0      what is the point see no point in doing life y...   suicide   \n",
              "1      had shotgun off safety in my mouth today i am ...   suicide   \n",
              "2      i am going to commit suicide within next few h...   suicide   \n",
              "3      depression and no one around be been dealing w...   suicide   \n",
              "4      nothing like seeing all the other posts around...   suicide   \n",
              "...                                                  ...       ...   \n",
              "17015  accounts incredibly overdue a life entirely un...  stressed   \n",
              "17016  hey so i come from a middle class family and s...  stressed   \n",
              "17017  but then i will get there and he will drop the...  stressed   \n",
              "17018  i do not have the ability to cope with it anym...  stressed   \n",
              "17019  i was talking to my mon this morning and she s...  stressed   \n",
              "\n",
              "       selftext_length  \n",
              "0                  282  \n",
              "1                  308  \n",
              "2                   76  \n",
              "3                  108  \n",
              "4                   25  \n",
              "...                ...  \n",
              "17015               28  \n",
              "17016               59  \n",
              "17017               77  \n",
              "17018               61  \n",
              "17019               24  \n",
              "\n",
              "[17020 rows x 3 columns]"
            ]
          },
          "execution_count": 5,
          "metadata": {},
          "output_type": "execute_result"
        }
      ],
      "source": [
        "df=pd.read_csv(\"Final_data_model_no_stop_lement.csv\")\n",
        "df"
      ]
    },
    {
      "cell_type": "code",
      "execution_count": 6,
      "id": "gJ0gSXc_vTkY",
      "metadata": {
        "colab": {
          "base_uri": "https://localhost:8080/"
        },
        "id": "gJ0gSXc_vTkY",
        "outputId": "a49cb0b3-822e-45cf-f055-7a5530adb131"
      },
      "outputs": [
        {
          "data": {
            "text/plain": [
              "stressed      2\n",
              "depression    1\n",
              "Name: class, dtype: int64"
            ]
          },
          "execution_count": 6,
          "metadata": {},
          "output_type": "execute_result"
        }
      ],
      "source": [
        "dd=df[df[\"cleaned_text\"].duplicated()]\n",
        "dd[\"class\"].value_counts()"
      ]
    },
    {
      "cell_type": "code",
      "execution_count": 7,
      "id": "J-y8S0TqRFcS",
      "metadata": {
        "id": "J-y8S0TqRFcS"
      },
      "outputs": [],
      "source": [
        "### Dropping na values and duplicates\n",
        "\n",
        "df=df.dropna()\n",
        "df=df.drop_duplicates()\n",
        "df=df.reset_index(drop=True)"
      ]
    },
    {
      "cell_type": "code",
      "execution_count": 8,
      "id": "BagTmnpWwlgd",
      "metadata": {
        "colab": {
          "base_uri": "https://localhost:8080/"
        },
        "id": "BagTmnpWwlgd",
        "outputId": "c7b6003e-b7b9-4218-afe0-6d3035505581"
      },
      "outputs": [
        {
          "data": {
            "text/plain": [
              "suicide          10162\n",
              "depression        4338\n",
              "stressed          1484\n",
              "casual-talk       1018\n",
              "high-suicidal       16\n",
              "Name: class, dtype: int64"
            ]
          },
          "execution_count": 8,
          "metadata": {},
          "output_type": "execute_result"
        }
      ],
      "source": [
        "df[\"class\"].value_counts()"
      ]
    },
    {
      "cell_type": "code",
      "execution_count": 9,
      "id": "eeb95b8f",
      "metadata": {
        "id": "eeb95b8f"
      },
      "outputs": [],
      "source": [
        "## Splitting data to X and Y\n",
        "\n",
        "X=df[\"cleaned_text\"].astype(str)\n",
        "Y= df['class']\n"
      ]
    },
    {
      "cell_type": "code",
      "execution_count": 10,
      "id": "41c16dd4",
      "metadata": {
        "colab": {
          "base_uri": "https://localhost:8080/"
        },
        "id": "41c16dd4",
        "outputId": "8df768de-db0f-40ba-d560-331f9059d87e"
      },
      "outputs": [
        {
          "data": {
            "text/plain": [
              "982"
            ]
          },
          "execution_count": 10,
          "metadata": {},
          "output_type": "execute_result"
        }
      ],
      "source": [
        "### ensuring data is loaded in string format and analyzing max length of text\n",
        "\n",
        "text_data= df['cleaned_text'].astype(str)\n",
        "\n",
        "max_len=text_data.map(lambda x: len(x.split())).max()\n",
        "\n",
        "max_len"
      ]
    },
    {
      "cell_type": "code",
      "execution_count": 11,
      "id": "1754bf0d",
      "metadata": {
        "colab": {
          "base_uri": "https://localhost:8080/"
        },
        "id": "1754bf0d",
        "outputId": "90c48681-e5f8-4db6-ca8b-293c18730f6a"
      },
      "outputs": [
        {
          "data": {
            "text/plain": [
              "count    17018.000000\n",
              "mean       128.096897\n",
              "std        107.049252\n",
              "min          3.000000\n",
              "25%         50.000000\n",
              "50%         95.000000\n",
              "75%        178.000000\n",
              "max        982.000000\n",
              "Name: selftext_length, dtype: float64"
            ]
          },
          "execution_count": 11,
          "metadata": {},
          "output_type": "execute_result"
        }
      ],
      "source": [
        "### Looking at Statistics of data\n",
        "df[\"selftext_length\"]= [len(df[\"cleaned_text\"][i].split()) for i in range(len(df))]\n",
        "df[\"selftext_length\"].describe()\n",
        "\n"
      ]
    },
    {
      "cell_type": "code",
      "execution_count": 12,
      "id": "10784002",
      "metadata": {
        "colab": {
          "base_uri": "https://localhost:8080/"
        },
        "id": "10784002",
        "outputId": "aa51eefe-cf31-4d19-fffa-ab8f9b195a29"
      },
      "outputs": [
        {
          "data": {
            "text/plain": [
              "depression    110\n",
              "suicide         2\n",
              "Name: class, dtype: int64"
            ]
          },
          "execution_count": 12,
          "metadata": {},
          "output_type": "execute_result"
        }
      ],
      "source": [
        "### Dropping depression and suicide data that are more than 500 words long because they are outiers\n",
        "s\n",
        "dd=df[df[\"selftext_length\"]>=500]\n",
        "dd[\"class\"].value_counts()\n",
        "\n"
      ]
    },
    {
      "cell_type": "code",
      "execution_count": 13,
      "id": "c9ed6912",
      "metadata": {
        "id": "c9ed6912"
      },
      "outputs": [],
      "source": [
        "data=pd.DataFrame()\n",
        "data[\"X\"]=df[\"cleaned_text\"].astype(str)\n",
        "data[\"Y\"]=df['class']"
      ]
    },
    {
      "cell_type": "code",
      "execution_count": 14,
      "id": "c47d454d",
      "metadata": {
        "id": "c47d454d"
      },
      "outputs": [],
      "source": [
        "## Defining training and testing data. This way the model will never see the testing dataset\n",
        "\n",
        "train_df,test_df= train_test_split(data,\n",
        "                                   train_size=0.70, \n",
        "                                   shuffle=True, \n",
        "                                   random_state=42, \n",
        "                                   stratify=Y)"
      ]
    },
    {
      "cell_type": "code",
      "execution_count": 15,
      "id": "429633f1",
      "metadata": {
        "id": "429633f1"
      },
      "outputs": [],
      "source": [
        "### encoding labels to 0-4 since we have 5 classes\n",
        "\n",
        "from sklearn.preprocessing import LabelEncoder\n",
        "le = LabelEncoder()\n",
        "\n",
        "train_df['Sentiment_label'] = le.fit_transform(train_df['Y'])\n",
        "test_df['Sentiment_label'] = le.transform(test_df['Y'])\n"
      ]
    },
    {
      "cell_type": "code",
      "execution_count": 16,
      "id": "50b58a6f",
      "metadata": {
        "colab": {
          "base_uri": "https://localhost:8080/"
        },
        "id": "50b58a6f",
        "outputId": "6e010922-60e7-4bc1-cdce-6f4ba41c4d2b"
      },
      "outputs": [
        {
          "name": "stdout",
          "output_type": "stream",
          "text": [
            "0 casual-talk\n",
            "1 depression\n",
            "2 high-suicidal\n",
            "3 stressed\n",
            "4 suicide\n"
          ]
        }
      ],
      "source": [
        "## Creating label dict so we know what the encodings are\n",
        "\n",
        "label_dict = (test_df[['Y','Sentiment_label']].drop_duplicates()\n",
        "              .sort_values(by='Sentiment_label')\n",
        "              .reset_index(drop=True)['Y']\n",
        "              .to_dict())\n",
        "\n",
        "for index, key in label_dict.items():\n",
        "    print(index, key)"
      ]
    },
    {
      "cell_type": "code",
      "execution_count": 17,
      "id": "MhQkzafDSClH",
      "metadata": {
        "id": "MhQkzafDSClH"
      },
      "outputs": [],
      "source": [
        "### Creating labels_5 variable for visualizng data into this class\n",
        "labels_5 = ['Casual-Talk','Depression','Highly-Suicidal',\"Stressed\",\"Suicide\"]"
      ]
    },
    {
      "cell_type": "code",
      "execution_count": 18,
      "id": "c3369707",
      "metadata": {
        "colab": {
          "base_uri": "https://localhost:8080/"
        },
        "id": "c3369707",
        "outputId": "88101873-08f1-4138-ceb9-b88e04a6341e"
      },
      "outputs": [
        {
          "data": {
            "text/plain": [
              "11912"
            ]
          },
          "execution_count": 18,
          "metadata": {},
          "output_type": "execute_result"
        }
      ],
      "source": [
        "len(train_df)"
      ]
    },
    {
      "cell_type": "code",
      "execution_count": 19,
      "id": "a355d46e",
      "metadata": {
        "id": "a355d46e"
      },
      "outputs": [],
      "source": [
        "### training data and label\n",
        "x_train = train_df['X']\n",
        "y_train = train_df['Sentiment_label']"
      ]
    },
    {
      "cell_type": "code",
      "execution_count": 20,
      "id": "48038b3b",
      "metadata": {
        "colab": {
          "base_uri": "https://localhost:8080/"
        },
        "id": "48038b3b",
        "outputId": "7b1d8093-167f-411d-f938-6b343ccf2b56"
      },
      "outputs": [
        {
          "name": "stdout",
          "output_type": "stream",
          "text": [
            "5106 testing examples\n"
          ]
        }
      ],
      "source": [
        "### testing data and labels\n",
        "\n",
        "x_test = test_df['X']\n",
        "y_test = test_df['Sentiment_label']\n",
        "print(f\"{len(x_test)} testing examples\")"
      ]
    },
    {
      "cell_type": "markdown",
      "id": "e26ebe5b",
      "metadata": {
        "id": "e26ebe5b"
      },
      "source": [
        "## Naive Bayes (Baseline Model)\n",
        "\n",
        "### Creating abaseline model to compare models"
      ]
    },
    {
      "cell_type": "code",
      "execution_count": 21,
      "id": "2cd90f67",
      "metadata": {
        "id": "2cd90f67"
      },
      "outputs": [],
      "source": [
        "from sklearn.feature_extraction.text import TfidfVectorizer\n",
        "from sklearn.naive_bayes import MultinomialNB\n",
        "from sklearn.pipeline import make_pipeline\n",
        "\n",
        "from sklearn.model_selection import train_test_split\n",
        "\n",
        "from sklearn.metrics import confusion_matrix, precision_score, recall_score, accuracy_score, classification_report, confusion_matrix\n",
        "from mlxtend.plotting import plot_confusion_matrix"
      ]
    },
    {
      "cell_type": "code",
      "execution_count": 22,
      "id": "2f20baa9",
      "metadata": {
        "id": "2f20baa9"
      },
      "outputs": [],
      "source": [
        "model = make_pipeline(TfidfVectorizer(), MultinomialNB())\n",
        "model.fit(x_train, y_train)"
      ]
    },
    {
      "cell_type": "code",
      "execution_count": null,
      "id": "05cf3f33",
      "metadata": {},
      "outputs": [],
      "source": [
        "### Model Makes predictions\n",
        "y_hat = model.predict(x_test)"
      ]
    },
    {
      "cell_type": "code",
      "execution_count": null,
      "id": "lg22CwwOaG72",
      "metadata": {
        "id": "lg22CwwOaG72"
      },
      "outputs": [],
      "source": [
        "### writing function to show cosnfusion matrix\n",
        "\n",
        "\n",
        "import seaborn as sns\n",
        "print(\"Accuracy:\", accuracy_score(y_test, y_hat))\n",
        "labels_5 = ['Casual-Talk','Depression','Highly-Suicidal',\"Stressed\",\"Suicide\"]\n",
        "\n",
        "def print_cf1(y_test, y_hat):\n",
        "    cm = confusion_matrix(y_test, y_hat)\n",
        "    sns.set(font_scale = 1.4, color_codes=True, palette=\"deep\")\n",
        "    sns.heatmap(pd.DataFrame(cm, index=labels_5,columns=[0,1,2,3,4]), \n",
        "                annot = True,\n",
        "                annot_kws = {\"size\":16},\n",
        "                fmt=\"d\",\n",
        "                cmap=\"YlGnBu\")\n",
        "    plt.title(\"Confusion Matrix\")\n",
        "    plt.xlabel(\"Predicted Value\")\n",
        "    plt.xticks([0,1,2,3,4], labels_5, rotation=45)\n",
        "    plt.ylabel(\"True Value\")\n",
        "    plt.show()"
      ]
    },
    {
      "cell_type": "code",
      "execution_count": 23,
      "id": "b86777f0",
      "metadata": {
        "colab": {
          "base_uri": "https://localhost:8080/",
          "height": 408
        },
        "id": "b86777f0",
        "outputId": "e3b4c6a0-e5bb-4104-fe12-d9a2568fe206",
        "scrolled": true
      },
      "outputs": [
        {
          "name": "stdout",
          "output_type": "stream",
          "text": [
            "Accuracy: 0.6390520955738347\n"
          ]
        },
        {
          "data": {
            "image/png": "[encoded data removed]",
            "text/plain": [
              "<Figure size 432x288 with 2 Axes>"
            ]
          },
          "metadata": {},
          "output_type": "display_data"
        }
      ],
      "source": [
        "### Confusion Matrix of Bas Model\n",
        "    \n",
        "print_cf1(y_test, y_hat)"
      ]
    },
    {
      "cell_type": "code",
      "execution_count": 24,
      "id": "a9075e36",
      "metadata": {
        "colab": {
          "base_uri": "https://localhost:8080/"
        },
        "id": "a9075e36",
        "outputId": "11413ee0-921c-4664-f727-ec5a3a9c91ce"
      },
      "outputs": [
        {
          "name": "stdout",
          "output_type": "stream",
          "text": [
            "                 precision    recall  f1-score   support\n",
            "\n",
            "    Casual-Talk       1.00      0.00      0.01       305\n",
            "     Depression       0.96      0.17      0.28      1302\n",
            "Highly-Suicidal       0.00      0.00      0.00         5\n",
            "       Stressed       0.00      0.00      0.00       445\n",
            "        Suicide       0.62      1.00      0.77      3049\n",
            "\n",
            "       accuracy                           0.64      5106\n",
            "      macro avg       0.52      0.23      0.21      5106\n",
            "   weighted avg       0.68      0.64      0.53      5106\n",
            "\n"
          ]
        },
        {
          "name": "stderr",
          "output_type": "stream",
          "text": [
            "/usr/local/lib/python3.7/dist-packages/sklearn/metrics/_classification.py:1318: UndefinedMetricWarning: Precision and F-score are ill-defined and being set to 0.0 in labels with no predicted samples. Use `zero_division` parameter to control this behavior.\n",
            "  _warn_prf(average, modifier, msg_start, len(result))\n",
            "/usr/local/lib/python3.7/dist-packages/sklearn/metrics/_classification.py:1318: UndefinedMetricWarning: Precision and F-score are ill-defined and being set to 0.0 in labels with no predicted samples. Use `zero_division` parameter to control this behavior.\n",
            "  _warn_prf(average, modifier, msg_start, len(result))\n",
            "/usr/local/lib/python3.7/dist-packages/sklearn/metrics/_classification.py:1318: UndefinedMetricWarning: Precision and F-score are ill-defined and being set to 0.0 in labels with no predicted samples. Use `zero_division` parameter to control this behavior.\n",
            "  _warn_prf(average, modifier, msg_start, len(result))\n"
          ]
        }
      ],
      "source": [
        "### Classification report of base model\n",
        "\n",
        "print(classification_report(y_test, y_hat, target_names=labels_5))"
      ]
    },
    {
      "cell_type": "markdown",
      "id": "778d5ead",
      "metadata": {
        "id": "778d5ead"
      },
      "source": [
        "### Building Bert Model"
      ]
    },
    {
      "cell_type": "code",
      "execution_count": 25,
      "id": "35b31c3c",
      "metadata": {
        "id": "35b31c3c"
      },
      "outputs": [],
      "source": [
        "import keras\n",
        "from sklearn.preprocessing import LabelEncoder\n",
        "from sklearn.pipeline import Pipeline\n",
        "from keras.utils.np_utils import to_categorical\n",
        "\n",
        "### Converting Y to Categorical\n",
        "\n",
        "# Y = keras.utils.to_categorical(Y, num_classes)\n",
        "# labels = Y"
      ]
    },
    {
      "cell_type": "markdown",
      "id": "2b6bdea0",
      "metadata": {
        "id": "2b6bdea0"
      },
      "source": [
        "## Bert"
      ]
    },
    {
      "cell_type": "code",
      "execution_count": 27,
      "id": "da9515bc",
      "metadata": {
        "id": "da9515bc"
      },
      "outputs": [],
      "source": [
        "### using maximum length of text to 500\n",
        "\n",
        "max_length=500\n",
        "\n",
        "MAX_LENGTH=max_length\n",
        "max_len=max_length\n",
        "maxlen=max_len"
      ]
    },
    {
      "cell_type": "code",
      "execution_count": 28,
      "id": "47341f28",
      "metadata": {
        "id": "47341f28"
      },
      "outputs": [],
      "source": [
        "tokenizer = BertTokenizer.from_pretrained('bert-base-cased')"
      ]
    },
    {
      "cell_type": "code",
      "execution_count": 29,
      "id": "96b6ccad",
      "metadata": {
        "id": "96b6ccad"
      },
      "outputs": [],
      "source": [
        "### Defining Tokenizing function to tokenize texts\n",
        "\n",
        "\n",
        "def tokenize(sentences, tokenizer):\n",
        "    input_ids, input_masks, input_segments = [], [], []\n",
        "    for sentence in tqdm(sentences):\n",
        "        inputs = tokenizer.encode_plus(sentence, \n",
        "                                       add_special_tokens=True, \n",
        "                                       max_length=MAX_LENGTH, \n",
        "                                       pad_to_max_length=True, \n",
        "                                       return_attention_mask=True, \n",
        "                                       return_token_type_ids=True, \n",
        "                                       truncation=True)\n",
        "        input_ids.append(inputs['input_ids'])\n",
        "        input_masks.append(inputs['attention_mask'])\n",
        "        input_segments.append(inputs['token_type_ids'])        \n",
        "        \n",
        "    return np.asarray(input_ids, dtype='int32'), np.asarray(input_masks, dtype='int32')"
      ]
    },
    {
      "cell_type": "code",
      "execution_count": 30,
      "id": "a3c42df9",
      "metadata": {
        "colab": {
          "base_uri": "https://localhost:8080/",
          "height": 136,
          "referenced_widgets": [
            "e5360a088c66418a8570250eaeeb6af4",
            "40bf5f89fbd34ad19b4903335fd329b1",
            "54ce808f2d534c5bbf170e549bc5bd7d",
            "b6992dd26de44a5d85e26b5906c3b78b",
            "843d78ed24cd44d98a6778eacebf05ed",
            "c8559907f13a43228a919207f01adc6a",
            "2e9f5a688bee4bdea24bebe3d2d17d16",
            "c6e81ac71bd743ffb1ea86b84836ed4f",
            "7db1dc313f254029885fa7ed06600dd0",
            "f145cacf993841948340dc5b00b2adae",
            "5eec475fee4547a399c77029a916ae4a",
            "d1da7b7a561e4c0590533ff74b91c163",
            "034d85113bce48f3beb73bd8f2e515cf",
            "5a36cf9c67224dec99b492bbb2921306",
            "93ccc5012e7b4c93bdc5001d877273d0",
            "6d40d80c9ef244139bbb901e0c7bffb0",
            "2913109abf6740dfbaddfe1d076a0dbc",
            "e3e55f2bd2f348acaaa900605e797d09",
            "19aae274cd564934a5c32f7ee0ffd85f",
            "54e506551c274cafa4f35258aaa9c7aa",
            "f42593a2ed124d199f0913cc34c5b650",
            "6abfc2e8db864e2393ca6a87e5cf88f2"
          ]
        },
        "id": "a3c42df9",
        "outputId": "bda252da-5cfd-4507-b715-36409c736d80"
      },
      "outputs": [
        {
          "data": {
            "application/vnd.jupyter.widget-view+json": {
              "model_id": "e5360a088c66418a8570250eaeeb6af4",
              "version_major": 2,
              "version_minor": 0
            },
            "text/plain": [
              "  0%|          | 0/11912 [00:00<?, ?it/s]"
            ]
          },
          "metadata": {},
          "output_type": "display_data"
        },
        {
          "name": "stderr",
          "output_type": "stream",
          "text": [
            "/usr/local/lib/python3.7/dist-packages/transformers/tokenization_utils_base.py:2310: FutureWarning: The `pad_to_max_length` argument is deprecated and will be removed in a future version, use `padding=True` or `padding='longest'` to pad to the longest sequence in the batch, or use `padding='max_length'` to pad to a max length. In this case, you can give a specific length with `max_length` (e.g. `max_length=45`) or leave max_length to None to pad to the maximal input size of the model (e.g. 512 for Bert).\n",
            "  FutureWarning,\n"
          ]
        },
        {
          "data": {
            "application/vnd.jupyter.widget-view+json": {
              "model_id": "d1da7b7a561e4c0590533ff74b91c163",
              "version_major": 2,
              "version_minor": 0
            },
            "text/plain": [
              "  0%|          | 0/5106 [00:00<?, ?it/s]"
            ]
          },
          "metadata": {},
          "output_type": "display_data"
        }
      ],
      "source": [
        "### Tokenizing training and testing data\n",
        "\n",
        "X_train = tokenize(x_train, tokenizer)\n",
        "X_test = tokenize(x_test, tokenizer)"
      ]
    },
    {
      "cell_type": "markdown",
      "id": "a3193df0",
      "metadata": {
        "id": "a3193df0"
      },
      "source": [
        "##### Building Model Architecture "
      ]
    },
    {
      "cell_type": "code",
      "execution_count": 31,
      "id": "60c1fb71",
      "metadata": {
        "id": "60c1fb71"
      },
      "outputs": [],
      "source": [
        "from transformers import TFBertModel\n",
        "from transformers import AutoConfig"
      ]
    },
    {
      "cell_type": "code",
      "execution_count": 32,
      "id": "HYd_NrvwYjnD",
      "metadata": {
        "colab": {
          "base_uri": "https://localhost:8080/"
        },
        "id": "HYd_NrvwYjnD",
        "outputId": "ebd5fe4b-39b5-41f3-8e07-0b60d68913cc"
      },
      "outputs": [
        {
          "name": "stderr",
          "output_type": "stream",
          "text": [
            "Some layers from the model checkpoint at bert-base-cased were not used when initializing TFBertModel: ['nsp___cls', 'mlm___cls']\n",
            "- This IS expected if you are initializing TFBertModel from the checkpoint of a model trained on another task or with another architecture (e.g. initializing a BertForSequenceClassification model from a BertForPreTraining model).\n",
            "- This IS NOT expected if you are initializing TFBertModel from the checkpoint of a model that you expect to be exactly identical (initializing a BertForSequenceClassification model from a BertForSequenceClassification model).\n",
            "All the layers of TFBertModel were initialized from the model checkpoint at bert-base-cased.\n",
            "If your task is similar to the task the model of the checkpoint was trained on, you can already use TFBertModel for predictions without further training.\n"
          ]
        },
        {
          "name": "stdout",
          "output_type": "stream",
          "text": [
            "Model: \"model\"\n",
            "__________________________________________________________________________________________________\n",
            " Layer (type)                   Output Shape         Param #     Connected to                     \n",
            "==================================================================================================\n",
            " input_token (InputLayer)       [(None, 500)]        0           []                               \n",
            "                                                                                                  \n",
            " masked_token (InputLayer)      [(None, 500)]        0           []                               \n",
            "                                                                                                  \n",
            " bert (TFBertMainLayer)         TFBaseModelOutputWi  108310272   ['input_token[0][0]',            \n",
            "                                thPoolingAndCrossAt               'masked_token[0][0]']           \n",
            "                                tentions(last_hidde                                               \n",
            "                                n_state=(None, 500,                                               \n",
            "                                 768),                                                            \n",
            "                                 pooler_output=(Non                                               \n",
            "                                e, 768),                                                          \n",
            "                                 past_key_values=No                                               \n",
            "                                ne, hidden_states=N                                               \n",
            "                                one, attentions=Non                                               \n",
            "                                e, cross_attentions                                               \n",
            "                                =None)                                                            \n",
            "                                                                                                  \n",
            " bidirectional (Bidirectional)  (None, 500, 512)     2099200     ['bert[0][0]']                   \n",
            "                                                                                                  \n",
            " dropout_37 (Dropout)           (None, 500, 512)     0           ['bidirectional[0][0]']          \n",
            "                                                                                                  \n",
            " bidirectional_1 (Bidirectional  (None, 500, 128)    295424      ['dropout_37[0][0]']             \n",
            " )                                                                                                \n",
            "                                                                                                  \n",
            " dropout_38 (Dropout)           (None, 500, 128)     0           ['bidirectional_1[0][0]']        \n",
            "                                                                                                  \n",
            " global_max_pooling1d (GlobalMa  (None, 128)         0           ['dropout_38[0][0]']             \n",
            " xPooling1D)                                                                                      \n",
            "                                                                                                  \n",
            " dense (Dense)                  (None, 128)          16512       ['global_max_pooling1d[0][0]']   \n",
            "                                                                                                  \n",
            " dropout_39 (Dropout)           (None, 128)          0           ['dense[0][0]']                  \n",
            "                                                                                                  \n",
            " dense_1 (Dense)                (None, 64)           8256        ['dropout_39[0][0]']             \n",
            "                                                                                                  \n",
            " dropout_40 (Dropout)           (None, 64)           0           ['dense_1[0][0]']                \n",
            "                                                                                                  \n",
            " dense_2 (Dense)                (None, 5)            325         ['dropout_40[0][0]']             \n",
            "                                                                                                  \n",
            "==================================================================================================\n",
            "Total params: 110,729,989\n",
            "Trainable params: 2,419,717\n",
            "Non-trainable params: 108,310,272\n",
            "__________________________________________________________________________________________________\n"
          ]
        }
      ],
      "source": [
        "### model architecture\n",
        "\n",
        "config = AutoConfig.from_pretrained(\"bert-base-cased\", output_hidden_states=True, output_attentions=True)\n",
        "bert = TFBertModel.from_pretrained('bert-base-cased') # bert base model with pretrained weights\n",
        "\n",
        "input_ids_in = tf.keras.layers.Input(shape=(MAX_LENGTH,), name='input_token', dtype='int32')\n",
        "input_masks_in = tf.keras.layers.Input(shape=(MAX_LENGTH,), name='masked_token', dtype='int32') \n",
        "\n",
        "embedding_layer = bert.bert(input_ids = input_ids_in, attention_mask = input_masks_in)[0]\n",
        "\n",
        "X = tf.keras.layers.Bidirectional(tf.keras.layers.LSTM(256, return_sequences=True))(embedding_layer)\n",
        "X = tf.keras.layers.Dropout(0.5)(X)\n",
        "# X = tf.keras.layers.GlobalMaxPool1D()(X)\n",
        "\n",
        "X = tf.keras.layers.Bidirectional(tf.keras.layers.LSTM(64, return_sequences=True))(X)\n",
        "X = tf.keras.layers.Dropout(0.5)(X)\n",
        "X = tf.keras.layers.GlobalMaxPool1D()(X)\n",
        "\n",
        "\n",
        "X = tf.keras.layers.Dense(128, activation='relu')(X)\n",
        "X = tf.keras.layers.Dropout(0.5)(X)\n",
        "\n",
        "X = tf.keras.layers.Dense(64, activation='relu')(X)\n",
        "X = tf.keras.layers.Dropout(0.5)(X)\n",
        "\n",
        "X = tf.keras.layers.Dense(5, activation='softmax')(X)\n",
        "\n",
        "model = tf.keras.Model(inputs=[input_ids_in, input_masks_in], outputs = X)\n",
        "\n",
        "for layer in model.layers[:3]:\n",
        "    layer.trainable = False\n",
        "\n",
        "model.summary()"
      ]
    },
    {
      "cell_type": "code",
      "execution_count": 33,
      "id": "7t-T2ed6VmmR",
      "metadata": {
        "colab": {
          "base_uri": "https://localhost:8080/"
        },
        "id": "7t-T2ed6VmmR",
        "outputId": "c02756fc-0e2f-4d0d-9907-821137011334"
      },
      "outputs": [
        {
          "name": "stdout",
          "output_type": "stream",
          "text": [
            "/content/drive/MyDrive/Colab Notebooks/498-CAPSTONE/model\n"
          ]
        }
      ],
      "source": [
        "%cd \"/content/drive/MyDrive/Colab Notebooks/498-CAPSTONE/model\""
      ]
    },
    {
      "cell_type": "code",
      "execution_count": 34,
      "id": "a0e43f7c",
      "metadata": {
        "colab": {
          "base_uri": "https://localhost:8080/"
        },
        "id": "a0e43f7c",
        "outputId": "26de299c-3487-421d-fc41-0a8a7ed04ddc"
      },
      "outputs": [
        {
          "name": "stdout",
          "output_type": "stream",
          "text": [
            "checkpoint\n",
            "electra_full.h5\n",
            "electra_full_model_epoch_1.00__val_loss1.0882__val_accuracy_0.5921.h5\n",
            "electra_full_model_epoch_1.00__val_loss1.1013__val_accuracy_0.5921.h5\n",
            "electra_full_model_epoch_1.00__val_loss1.18__val_accuracy_0.59.h5\n",
            "electra_full_model_epoch_2.00__val_loss1.0807__val_accuracy_0.5921.h5\n",
            "electra_full_model_epoch_2.00__val_loss1.0835__val_accuracy_0.5921.h5\n",
            "electra_full_model_epoch_2.00__val_loss1.13__val_accuracy_0.59.h5\n",
            "electra_full_model_epoch_3.00__val_loss1.0607__val_accuracy_0.5921.h5\n",
            "electra_full_model_epoch_3.00__val_loss1.0609__val_accuracy_0.5921.h5\n",
            "electra_full_model_epoch_4.00__val_loss1.0894__val_accuracy_0.5921.h5\n",
            "electra_full_model_epoch_4.00__val_loss1.0974__val_accuracy_0.5921.h5\n",
            "electra_full_model_epoch_5.00__val_loss1.0961__val_accuracy_0.5921.h5\n",
            "electra_full_model_epoch_5.00__val_loss1.1021__val_accuracy_0.5921.h5\n",
            "electra_full_model_epoch_6.00__val_loss1.1027__val_accuracy_0.5921.h5\n",
            "electra_full_model_epoch_7.00__val_loss1.0743__val_accuracy_0.5921.h5\n",
            "electra_full_model.h5\n",
            "electra_model_epoch_10.00__val_loss0.5159__val_accuracy_0.8296.h5\n",
            "electra_model_epoch_1.00__val_loss1.2508__val_accuracy_0.5921.h5\n",
            "electra_model_epoch_11.00__val_loss0.5033__val_accuracy_0.8330.h5\n",
            "electra_model_epoch_12.00__val_loss0.4827__val_accuracy_0.8391.h5\n",
            "electra_model_epoch_13.00__val_loss0.5605__val_accuracy_0.8360.h5\n",
            "electra_model_epoch_14.00__val_loss0.4834__val_accuracy_0.8366.h5\n",
            "electra_model_epoch_15.00__val_loss0.4821__val_accuracy_0.8366.h5\n",
            "electra_model_epoch_16.00__val_loss0.4770__val_accuracy_0.8467.h5\n",
            "electra_model_epoch_17.00__val_loss0.4735__val_accuracy_0.8500.h5\n",
            "electra_model_epoch_18.00__val_loss0.5086__val_accuracy_0.8377.h5\n",
            "electra_model_epoch_19.00__val_loss0.5535__val_accuracy_0.8265.h5\n",
            "electra_model_epoch_20.00__val_loss0.5109__val_accuracy_0.8629.h5\n",
            "electra_model_epoch_2.00__val_loss0.8539__val_accuracy_0.7625.h5\n",
            "electra_model_epoch_21.00__val_loss0.5301__val_accuracy_0.8565.h5\n",
            "electra_model_epoch_22.00__val_loss0.4879__val_accuracy_0.8517.h5\n",
            "electra_model_epoch_23.00__val_loss0.5130__val_accuracy_0.8629.h5\n",
            "electra_model_epoch_24.00__val_loss0.5588__val_accuracy_0.8668.h5\n",
            "electra_model_epoch_25.00__val_loss0.5589__val_accuracy_0.8363.h5\n",
            "electra_model_epoch_26.00__val_loss0.4838__val_accuracy_0.8615.h5\n",
            "electra_model_epoch_27.00__val_loss0.5109__val_accuracy_0.8651.h5\n",
            "electra_model_epoch_3.00__val_loss0.7483__val_accuracy_0.7501.h5\n",
            "electra_model_epoch_4.00__val_loss0.8168__val_accuracy_0.7633.h5\n",
            "electra_model_epoch_5.00__val_loss0.6228__val_accuracy_0.7784.h5\n",
            "electra_model_epoch_6.00__val_loss0.5853__val_accuracy_0.8212.h5\n",
            "electra_model_epoch_7.00__val_loss0.5948__val_accuracy_0.8170.h5\n",
            "electra_model_epoch_8.00__val_loss0.5267__val_accuracy_0.8296.h5\n",
            "electra_model_epoch_9.00__val_loss0.5424__val_accuracy_0.8349.h5\n",
            "\u001b[0m\u001b[01;34mFinal_models\u001b[0m/\n",
            "LSTM_bert_model_epoch_10.00__val_loss_0.417__val_accuracy_0.864.h5\n",
            "LSTM_bert_model_epoch_1.00__val_loss_0.918__val_accuracy_0.661.h5\n",
            "LSTM_bert_model_epoch_11.00__val_loss_0.396__val_accuracy_0.871.h5\n",
            "LSTM_bert_model_epoch_12.00__val_loss_0.407__val_accuracy_0.862.h5\n",
            "LSTM_bert_model_epoch_13.00__val_loss_0.388__val_accuracy_0.874.h5\n",
            "LSTM_bert_model_epoch_14.00__val_loss_0.376__val_accuracy_0.879.h5\n",
            "LSTM_bert_model_epoch_14.00__val_loss0.38__val_accuracy_0.88.h5\n",
            "LSTM_bert_model_epoch_15.00__val_loss_0.398__val_accuracy_0.864.h5\n",
            "LSTM_bert_model_epoch_16.00__val_loss_0.373__val_accuracy_0.873.h5\n",
            "LSTM_bert_model_epoch_17.00__val_loss_0.365__val_accuracy_0.879.h5\n",
            "LSTM_bert_model_epoch_18.00__val_loss_0.368__val_accuracy_0.878.h5\n",
            "LSTM_bert_model_epoch_18.00__val_loss0.37__val_accuracy_0.88.h5\n",
            "LSTM_bert_model_epoch_19.00__val_loss_0.388__val_accuracy_0.869.h5\n",
            "LSTM_bert_model_epoch_20.00__val_loss0.38__val_accuracy_0.87.h5\n",
            "LSTM_bert_model_epoch_20.00__val_loss_0.402__val_accuracy_0.861.h5\n",
            "LSTM_bert_model_epoch_2.00__val_loss_0.741__val_accuracy_0.760.h5\n",
            "LSTM_bert_model_epoch_21.00__val_loss0.37__val_accuracy_0.88.h5\n",
            "LSTM_bert_model_epoch_21.00__val_loss_0.384__val_accuracy_0.875.h5\n",
            "LSTM_bert_model_epoch_22.00__val_loss_0.372__val_accuracy_0.877.h5\n",
            "LSTM_bert_model_epoch_22.00__val_loss0.39__val_accuracy_0.87.h5\n",
            "LSTM_bert_model_epoch_23.00__val_loss_0.380__val_accuracy_0.872.h5\n",
            "LSTM_bert_model_epoch_23.00__val_loss0.40__val_accuracy_0.88.h5\n",
            "LSTM_bert_model_epoch_24.00__val_loss_0.376__val_accuracy_0.879.h5\n",
            "LSTM_bert_model_epoch_24.00__val_loss0.38__val_accuracy_0.88.h5\n",
            "LSTM_bert_model_epoch_25.00__val_loss_0.425__val_accuracy_0.873.h5\n",
            "LSTM_bert_model_epoch_26.00__val_loss_0.387__val_accuracy_0.872.h5\n",
            "LSTM_bert_model_epoch_27.00__val_loss_0.376__val_accuracy_0.878.h5\n",
            "LSTM_bert_model_epoch_3.00__val_loss_0.632__val_accuracy_0.835.h5\n",
            "LSTM_bert_model_epoch_4.00__val_loss_0.566__val_accuracy_0.846.h5\n",
            "LSTM_bert_model_epoch_5.00__val_loss_0.600__val_accuracy_0.836.h5\n",
            "LSTM_bert_model_epoch_6.00__val_loss_0.485__val_accuracy_0.865.h5\n",
            "LSTM_bert_model_epoch_7.00__val_loss_0.472__val_accuracy_0.847.h5\n",
            "LSTM_bert_model_epoch_8.00__val_loss_0.442__val_accuracy_0.862.h5\n",
            "LSTM_bert_model_epoch_9.00__val_loss_0.409__val_accuracy_0.874.h5\n",
            "model.png\n",
            "new_electra_full_weights.data-00000-of-00001\n",
            "new_electra_full_weights.index\n"
          ]
        }
      ],
      "source": [
        "%ls"
      ]
    },
    {
      "cell_type": "code",
      "execution_count": 35,
      "id": "dd9c4d21",
      "metadata": {
        "id": "dd9c4d21"
      },
      "outputs": [],
      "source": [
        "### Define Optimizer, loss function and accuracy metrics\n",
        "\n",
        "optim = tf.keras.optimizers.Adam()\n",
        "loss_func = tf.keras.losses.CategoricalCrossentropy()\n",
        "acc = tf.keras.metrics.CategoricalAccuracy('accuracy')"
      ]
    },
    {
      "cell_type": "code",
      "execution_count": 36,
      "id": "58ca4354",
      "metadata": {
        "colab": {
          "base_uri": "https://localhost:8080/"
        },
        "id": "58ca4354",
        "outputId": "56d991a4-5f6f-40cd-b3f7-ef40d8eb4d94"
      },
      "outputs": [
        {
          "name": "stdout",
          "output_type": "stream",
          "text": [
            "Model: \"model\"\n",
            "__________________________________________________________________________________________________\n",
            " Layer (type)                   Output Shape         Param #     Connected to                     \n",
            "==================================================================================================\n",
            " input_token (InputLayer)       [(None, 500)]        0           []                               \n",
            "                                                                                                  \n",
            " masked_token (InputLayer)      [(None, 500)]        0           []                               \n",
            "                                                                                                  \n",
            " bert (TFBertMainLayer)         TFBaseModelOutputWi  108310272   ['input_token[0][0]',            \n",
            "                                thPoolingAndCrossAt               'masked_token[0][0]']           \n",
            "                                tentions(last_hidde                                               \n",
            "                                n_state=(None, 500,                                               \n",
            "                                 768),                                                            \n",
            "                                 pooler_output=(Non                                               \n",
            "                                e, 768),                                                          \n",
            "                                 past_key_values=No                                               \n",
            "                                ne, hidden_states=N                                               \n",
            "                                one, attentions=Non                                               \n",
            "                                e, cross_attentions                                               \n",
            "                                =None)                                                            \n",
            "                                                                                                  \n",
            " bidirectional (Bidirectional)  (None, 500, 512)     2099200     ['bert[0][0]']                   \n",
            "                                                                                                  \n",
            " dropout_37 (Dropout)           (None, 500, 512)     0           ['bidirectional[0][0]']          \n",
            "                                                                                                  \n",
            " bidirectional_1 (Bidirectional  (None, 500, 128)    295424      ['dropout_37[0][0]']             \n",
            " )                                                                                                \n",
            "                                                                                                  \n",
            " dropout_38 (Dropout)           (None, 500, 128)     0           ['bidirectional_1[0][0]']        \n",
            "                                                                                                  \n",
            " global_max_pooling1d (GlobalMa  (None, 128)         0           ['dropout_38[0][0]']             \n",
            " xPooling1D)                                                                                      \n",
            "                                                                                                  \n",
            " dense (Dense)                  (None, 128)          16512       ['global_max_pooling1d[0][0]']   \n",
            "                                                                                                  \n",
            " dropout_39 (Dropout)           (None, 128)          0           ['dense[0][0]']                  \n",
            "                                                                                                  \n",
            " dense_1 (Dense)                (None, 64)           8256        ['dropout_39[0][0]']             \n",
            "                                                                                                  \n",
            " dropout_40 (Dropout)           (None, 64)           0           ['dense_1[0][0]']                \n",
            "                                                                                                  \n",
            " dense_2 (Dense)                (None, 5)            325         ['dropout_40[0][0]']             \n",
            "                                                                                                  \n",
            "==================================================================================================\n",
            "Total params: 110,729,989\n",
            "Trainable params: 2,419,717\n",
            "Non-trainable params: 108,310,272\n",
            "__________________________________________________________________________________________________\n"
          ]
        }
      ],
      "source": [
        "### Compiling model\n",
        "model.compile(loss=loss_func, \n",
        "                        optimizer=optim, \n",
        "                        metrics=[tf.keras.metrics.categorical_accuracy,\n",
        "\n",
        "                                ])\n",
        "                        \n",
        "                        \n",
        "                        \n",
        "                        \n",
        "model.summary()"
      ]
    },
    {
      "cell_type": "code",
      "execution_count": 37,
      "id": "ccaf57d2",
      "metadata": {
        "id": "ccaf57d2"
      },
      "outputs": [],
      "source": [
        "filepath= \"LSTM_bert_model_epoch_{epoch:.2f}__val_loss_{val_loss:.2f}__val_accuracy_{val_categorical_accuracy:.2f}.h5\"\n"
      ]
    },
    {
      "cell_type": "code",
      "execution_count": 38,
      "id": "254a88be",
      "metadata": {
        "id": "254a88be"
      },
      "outputs": [],
      "source": [
        "### Define constants\n",
        "\n",
        "\n",
        "epoch=200\n",
        "patiences= 10\n",
        "batch_size= 128"
      ]
    },
    {
      "cell_type": "code",
      "execution_count": 39,
      "id": "efd7872a",
      "metadata": {
        "id": "efd7872a"
      },
      "outputs": [],
      "source": [
        "### Define Call Backs\n",
        "cp_callback = tf.keras.callbacks.ModelCheckpoint(\n",
        "    filepath, \n",
        "    verbose=2, \n",
        "    save_weights_only=False,\n",
        "    mode=\"max\",\n",
        "    save_best_only=False,\n",
        "    save_freq=\"epoch\")"
      ]
    },
    {
      "cell_type": "code",
      "execution_count": 40,
      "id": "ff322fbd",
      "metadata": {
        "id": "ff322fbd"
      },
      "outputs": [],
      "source": [
        "### Converting training and testing values to categorical since model needs categorical data not encodings\n",
        "\n",
        "Y_train_cat = keras.utils.to_categorical(y_train)\n",
        "\n",
        "Y_test_cat = keras.utils.to_categorical(y_test)\n"
      ]
    },
    {
      "cell_type": "code",
      "execution_count": null,
      "id": "b644f56b",
      "metadata": {},
      "outputs": [],
      "source": [
        "# #### load the model's weight and train the model\n",
        "# from tensorflow.keras.models import load_model\n",
        "\n",
        "# model=load_model(\"LSTM_bert_model_epoch_11.00__val_loss_0.38__val_accuracy_0.88.h5\",\n",
        "#                         custom_objects={'TFBertModel':TFBertModel})"
      ]
    },
    {
      "cell_type": "code",
      "execution_count": 41,
      "id": "b6aee0a4",
      "metadata": {
        "colab": {
          "base_uri": "https://localhost:8080/"
        },
        "id": "b6aee0a4",
        "outputId": "9ed244c3-51ef-42a3-a700-7592d8014ade",
        "scrolled": false
      },
      "outputs": [
        {
          "name": "stdout",
          "output_type": "stream",
          "text": [
            "Epoch 1/200\n",
            "66/66 [==============================] - ETA: 0s - loss: 1.0808 - categorical_accuracy: 0.5939\n",
            "Epoch 1: saving model to LSTM_bert_model_epoch_1.00__val_loss_0.94__val_accuracy_0.68.h5\n",
            "66/66 [==============================] - 90s 1s/step - loss: 1.0808 - categorical_accuracy: 0.5939 - val_loss: 0.9371 - val_categorical_accuracy: 0.6827\n",
            "Epoch 2/200\n",
            "66/66 [==============================] - ETA: 0s - loss: 0.7509 - categorical_accuracy: 0.7417\n",
            "Epoch 2: saving model to LSTM_bert_model_epoch_2.00__val_loss_0.71__val_accuracy_0.80.h5\n",
            "66/66 [==============================] - 65s 992ms/step - loss: 0.7509 - categorical_accuracy: 0.7417 - val_loss: 0.7093 - val_categorical_accuracy: 0.8044\n",
            "Epoch 3/200\n",
            "66/66 [==============================] - ETA: 0s - loss: 0.6216 - categorical_accuracy: 0.7876\n",
            "Epoch 3: saving model to LSTM_bert_model_epoch_3.00__val_loss_0.66__val_accuracy_0.83.h5\n",
            "66/66 [==============================] - 65s 992ms/step - loss: 0.6216 - categorical_accuracy: 0.7876 - val_loss: 0.6594 - val_categorical_accuracy: 0.8299\n",
            "Epoch 4/200\n",
            "66/66 [==============================] - ETA: 0s - loss: 0.5501 - categorical_accuracy: 0.8167\n",
            "Epoch 4: saving model to LSTM_bert_model_epoch_4.00__val_loss_0.55__val_accuracy_0.84.h5\n",
            "66/66 [==============================] - 65s 992ms/step - loss: 0.5501 - categorical_accuracy: 0.8167 - val_loss: 0.5500 - val_categorical_accuracy: 0.8386\n",
            "Epoch 5/200\n",
            "66/66 [==============================] - ETA: 0s - loss: 0.4839 - categorical_accuracy: 0.8408\n",
            "Epoch 5: saving model to LSTM_bert_model_epoch_5.00__val_loss_0.55__val_accuracy_0.84.h5\n",
            "66/66 [==============================] - 65s 992ms/step - loss: 0.4839 - categorical_accuracy: 0.8408 - val_loss: 0.5471 - val_categorical_accuracy: 0.8383\n",
            "Epoch 6/200\n",
            "66/66 [==============================] - ETA: 0s - loss: 0.4316 - categorical_accuracy: 0.8592\n",
            "Epoch 6: saving model to LSTM_bert_model_epoch_6.00__val_loss_0.50__val_accuracy_0.86.h5\n",
            "66/66 [==============================] - 65s 992ms/step - loss: 0.4316 - categorical_accuracy: 0.8592 - val_loss: 0.5017 - val_categorical_accuracy: 0.8607\n",
            "Epoch 7/200\n",
            "66/66 [==============================] - ETA: 0s - loss: 0.4097 - categorical_accuracy: 0.8704\n",
            "Epoch 7: saving model to LSTM_bert_model_epoch_7.00__val_loss_0.50__val_accuracy_0.87.h5\n",
            "66/66 [==============================] - 65s 992ms/step - loss: 0.4097 - categorical_accuracy: 0.8704 - val_loss: 0.4954 - val_categorical_accuracy: 0.8691\n",
            "Epoch 8/200\n",
            "66/66 [==============================] - ETA: 0s - loss: 0.3897 - categorical_accuracy: 0.8778\n",
            "Epoch 8: saving model to LSTM_bert_model_epoch_8.00__val_loss_0.47__val_accuracy_0.84.h5\n",
            "66/66 [==============================] - 65s 993ms/step - loss: 0.3897 - categorical_accuracy: 0.8778 - val_loss: 0.4712 - val_categorical_accuracy: 0.8450\n",
            "Epoch 9/200\n",
            "66/66 [==============================] - ETA: 0s - loss: 0.3600 - categorical_accuracy: 0.8840\n",
            "Epoch 9: saving model to LSTM_bert_model_epoch_9.00__val_loss_0.45__val_accuracy_0.86.h5\n",
            "66/66 [==============================] - 65s 992ms/step - loss: 0.3600 - categorical_accuracy: 0.8840 - val_loss: 0.4474 - val_categorical_accuracy: 0.8618\n",
            "Epoch 10/200\n",
            "66/66 [==============================] - ETA: 0s - loss: 0.3322 - categorical_accuracy: 0.8955\n",
            "Epoch 10: saving model to LSTM_bert_model_epoch_10.00__val_loss_0.43__val_accuracy_0.88.h5\n",
            "66/66 [==============================] - 65s 992ms/step - loss: 0.3322 - categorical_accuracy: 0.8955 - val_loss: 0.4298 - val_categorical_accuracy: 0.8752\n",
            "Epoch 11/200\n",
            "66/66 [==============================] - ETA: 0s - loss: 0.2997 - categorical_accuracy: 0.9024\n",
            "Epoch 11: saving model to LSTM_bert_model_epoch_11.00__val_loss_0.38__val_accuracy_0.88.h5\n",
            "66/66 [==============================] - 65s 992ms/step - loss: 0.2997 - categorical_accuracy: 0.9024 - val_loss: 0.3840 - val_categorical_accuracy: 0.8816\n",
            "Epoch 12/200\n",
            "66/66 [==============================] - ETA: 0s - loss: 0.2812 - categorical_accuracy: 0.9122\n",
            "Epoch 12: saving model to LSTM_bert_model_epoch_12.00__val_loss_0.39__val_accuracy_0.88.h5\n",
            "66/66 [==============================] - 65s 991ms/step - loss: 0.2812 - categorical_accuracy: 0.9122 - val_loss: 0.3875 - val_categorical_accuracy: 0.8786\n",
            "Epoch 13/200\n",
            "66/66 [==============================] - ETA: 0s - loss: 0.2595 - categorical_accuracy: 0.9178\n",
            "Epoch 13: saving model to LSTM_bert_model_epoch_13.00__val_loss_0.38__val_accuracy_0.88.h5\n",
            "66/66 [==============================] - 65s 992ms/step - loss: 0.2595 - categorical_accuracy: 0.9178 - val_loss: 0.3800 - val_categorical_accuracy: 0.8755\n",
            "Epoch 14/200\n",
            "66/66 [==============================] - ETA: 0s - loss: 0.2438 - categorical_accuracy: 0.9238\n",
            "Epoch 14: saving model to LSTM_bert_model_epoch_14.00__val_loss_0.38__val_accuracy_0.87.h5\n",
            "66/66 [==============================] - 65s 993ms/step - loss: 0.2438 - categorical_accuracy: 0.9238 - val_loss: 0.3767 - val_categorical_accuracy: 0.8719\n",
            "Epoch 15/200\n",
            "66/66 [==============================] - ETA: 0s - loss: 0.2277 - categorical_accuracy: 0.9334\n",
            "Epoch 15: saving model to LSTM_bert_model_epoch_15.00__val_loss_0.37__val_accuracy_0.87.h5\n",
            "66/66 [==============================] - 65s 992ms/step - loss: 0.2277 - categorical_accuracy: 0.9334 - val_loss: 0.3690 - val_categorical_accuracy: 0.8741\n",
            "Epoch 16/200\n",
            "66/66 [==============================] - ETA: 0s - loss: 0.2184 - categorical_accuracy: 0.9279\n",
            "Epoch 16: saving model to LSTM_bert_model_epoch_16.00__val_loss_0.39__val_accuracy_0.87.h5\n",
            "66/66 [==============================] - 65s 992ms/step - loss: 0.2184 - categorical_accuracy: 0.9279 - val_loss: 0.3913 - val_categorical_accuracy: 0.8668\n",
            "Epoch 17/200\n",
            "66/66 [==============================] - ETA: 0s - loss: 0.1865 - categorical_accuracy: 0.9412\n",
            "Epoch 17: saving model to LSTM_bert_model_epoch_17.00__val_loss_0.39__val_accuracy_0.87.h5\n",
            "66/66 [==============================] - 65s 991ms/step - loss: 0.1865 - categorical_accuracy: 0.9412 - val_loss: 0.3903 - val_categorical_accuracy: 0.8668\n",
            "Epoch 18/200\n",
            "66/66 [==============================] - ETA: 0s - loss: 0.1893 - categorical_accuracy: 0.9399\n",
            "Epoch 18: saving model to LSTM_bert_model_epoch_18.00__val_loss_0.44__val_accuracy_0.83.h5\n",
            "66/66 [==============================] - 65s 993ms/step - loss: 0.1893 - categorical_accuracy: 0.9399 - val_loss: 0.4418 - val_categorical_accuracy: 0.8332\n",
            "Epoch 19/200\n",
            "66/66 [==============================] - ETA: 0s - loss: 0.1877 - categorical_accuracy: 0.9442\n",
            "Epoch 19: saving model to LSTM_bert_model_epoch_19.00__val_loss_0.38__val_accuracy_0.87.h5\n",
            "66/66 [==============================] - 65s 991ms/step - loss: 0.1877 - categorical_accuracy: 0.9442 - val_loss: 0.3819 - val_categorical_accuracy: 0.8705\n",
            "Epoch 20/200\n",
            "66/66 [==============================] - ETA: 0s - loss: 0.1648 - categorical_accuracy: 0.9470\n",
            "Epoch 20: saving model to LSTM_bert_model_epoch_20.00__val_loss_0.46__val_accuracy_0.85.h5\n",
            "66/66 [==============================] - 65s 992ms/step - loss: 0.1648 - categorical_accuracy: 0.9470 - val_loss: 0.4586 - val_categorical_accuracy: 0.8486\n",
            "Epoch 21/200\n",
            "66/66 [==============================] - ETA: 0s - loss: 0.1347 - categorical_accuracy: 0.9590\n",
            "Epoch 21: saving model to LSTM_bert_model_epoch_21.00__val_loss_0.42__val_accuracy_0.86.h5\n",
            "66/66 [==============================] - 65s 992ms/step - loss: 0.1347 - categorical_accuracy: 0.9590 - val_loss: 0.4247 - val_categorical_accuracy: 0.8570\n",
            "Epoch 22/200\n",
            "66/66 [==============================] - ETA: 0s - loss: 0.1195 - categorical_accuracy: 0.9603\n",
            "Epoch 22: saving model to LSTM_bert_model_epoch_22.00__val_loss_0.40__val_accuracy_0.87.h5\n",
            "66/66 [==============================] - 65s 992ms/step - loss: 0.1195 - categorical_accuracy: 0.9603 - val_loss: 0.3962 - val_categorical_accuracy: 0.8705\n",
            "Epoch 23/200\n",
            "66/66 [==============================] - ETA: 0s - loss: 0.1127 - categorical_accuracy: 0.9667\n",
            "Epoch 23: saving model to LSTM_bert_model_epoch_23.00__val_loss_0.43__val_accuracy_0.86.h5\n",
            "66/66 [==============================] - 65s 992ms/step - loss: 0.1127 - categorical_accuracy: 0.9667 - val_loss: 0.4307 - val_categorical_accuracy: 0.8626\n",
            "Epoch 24/200\n",
            "66/66 [==============================] - ETA: 0s - loss: 0.1036 - categorical_accuracy: 0.9685\n",
            "Epoch 24: saving model to LSTM_bert_model_epoch_24.00__val_loss_0.42__val_accuracy_0.87.h5\n",
            "66/66 [==============================] - 65s 993ms/step - loss: 0.1036 - categorical_accuracy: 0.9685 - val_loss: 0.4177 - val_categorical_accuracy: 0.8716\n",
            "Epoch 25/200\n",
            "66/66 [==============================] - ETA: 0s - loss: 0.0925 - categorical_accuracy: 0.9722\n",
            "Epoch 25: saving model to LSTM_bert_model_epoch_25.00__val_loss_0.48__val_accuracy_0.86.h5\n",
            "66/66 [==============================] - 65s 991ms/step - loss: 0.0925 - categorical_accuracy: 0.9722 - val_loss: 0.4768 - val_categorical_accuracy: 0.8601\n"
          ]
        }
      ],
      "source": [
        "#### Training the model\n",
        "\n",
        "hist = model.fit(\n",
        "    X_train, \n",
        "    Y_train_cat, \n",
        "    epochs =epoch,\n",
        "    batch_size=batch_size,\n",
        "    shuffle= True,\n",
        "    validation_split=.3,\\\n",
        "    verbose=1,\n",
        "    \n",
        "    callbacks=[cp_callback,\n",
        "               tf.keras.callbacks.EarlyStopping(monitor='val_loss', patience=patiences)]\n",
        ")"
      ]
    },
    {
      "cell_type": "code",
      "execution_count": 43,
      "id": "0f2a0d84",
      "metadata": {
        "colab": {
          "base_uri": "https://localhost:8080/",
          "height": 459
        },
        "id": "0f2a0d84",
        "outputId": "91b6d9f7-d3b6-4ff3-cf03-c7f54b30ef9b"
      },
      "outputs": [
        {
          "name": "stdout",
          "output_type": "stream",
          "text": [
            "dict_keys(['loss', 'categorical_accuracy', 'val_loss', 'val_categorical_accuracy'])\n"
          ]
        },
        {
          "data": {
            "text/plain": [
              "<matplotlib.legend.Legend at 0x7fe4144a4fd0>"
            ]
          },
          "execution_count": 43,
          "metadata": {},
          "output_type": "execute_result"
        },
        {
          "data": {
            "image/png": "[encoded data removed]",
            "text/plain": [
              "<Figure size 864x432 with 2 Axes>"
            ]
          },
          "metadata": {},
          "output_type": "display_data"
        }
      ],
      "source": [
        "### Analying preformance of the model\n",
        "\n",
        "history_dict = hist.history\n",
        "\n",
        "\n",
        "print(history_dict.keys())\n",
        "\n",
        "acc = history_dict['categorical_accuracy']\n",
        "val_acc = history_dict['val_categorical_accuracy']\n",
        "loss = history_dict['loss']\n",
        "val_loss = history_dict['val_loss']\n",
        "\n",
        "epochs = range(1, len(acc) + 1)\n",
        "fig = plt.figure(figsize=(12, 6))\n",
        "fig.tight_layout()\n",
        "\n",
        "plt.subplot(2, 1, 1)\n",
        "# r is for \"solid red line\"\n",
        "plt.plot(epochs, loss, 'r', label='Training loss')\n",
        "# b is for \"solid blue line\"\n",
        "plt.plot(epochs, val_loss, 'b', label='Validation loss')\n",
        "plt.title('Training and validation loss')\n",
        "# plt.xlabel('Epochs')\n",
        "plt.ylabel('Loss')\n",
        "plt.legend()\n",
        "\n",
        "plt.subplot(2, 1, 2)\n",
        "plt.plot(epochs, acc, 'r', label='Training acc')\n",
        "plt.plot(epochs, val_acc, 'b', label='Validation acc')\n",
        "plt.title('Training and validation accuracy')\n",
        "plt.xlabel('Epochs')\n",
        "plt.ylabel('Accuracy')\n",
        "plt.legend(loc='lower right')"
      ]
    },
    {
      "cell_type": "code",
      "execution_count": 44,
      "id": "2b79ad5d",
      "metadata": {
        "id": "2b79ad5d"
      },
      "outputs": [],
      "source": [
        "### Defining functing to get the minimum value loss and maximum accuracy in Training\n",
        "\n",
        "\n",
        "def get_min_val_loss_epoch(history):\n",
        "    return \"0\"+str(np.argmin(hist.history['val_loss'])+1)\n",
        "\n",
        "def get_max_val_acc_epoch(history):\n",
        "    return \"0\"+str(np.argmax(hist.history['val_categorical_accuracy'])+1)"
      ]
    },
    {
      "cell_type": "markdown",
      "id": "1d283d0d",
      "metadata": {},
      "source": [
        "### Evaluating model"
      ]
    },
    {
      "cell_type": "code",
      "execution_count": 46,
      "id": "728001e6",
      "metadata": {
        "colab": {
          "base_uri": "https://localhost:8080/"
        },
        "id": "728001e6",
        "outputId": "59665a74-aa52-4705-8a85-f0ebddb02ff3"
      },
      "outputs": [
        {
          "name": "stdout",
          "output_type": "stream",
          "text": [
            "160/160 [==============================] - 28s 176ms/step - loss: 0.4594 - categorical_accuracy: 0.8682\n",
            "Loss: 0.45935651659965515\n",
            "Accuracy: 0.8681942820549011\n"
          ]
        }
      ],
      "source": [
        "test_loss, test_accuracy = model.evaluate(X_test,Y_test_cat )\n",
        "\n",
        "print(f'Loss: {test_loss}')\n",
        "print(f'Accuracy: {test_accuracy}')\n"
      ]
    },
    {
      "cell_type": "code",
      "execution_count": 47,
      "id": "a85ae46a",
      "metadata": {
        "colab": {
          "base_uri": "https://localhost:8080/",
          "height": 36
        },
        "id": "a85ae46a",
        "outputId": "1c04f4a9-b65a-46af-d3c5-e62ace12ae7e"
      },
      "outputs": [
        {
          "data": {
            "application/vnd.google.colaboratory.intrinsic+json": {
              "type": "string"
            },
            "text/plain": [
              "'011'"
            ]
          },
          "execution_count": 47,
          "metadata": {},
          "output_type": "execute_result"
        }
      ],
      "source": [
        "epoch_num = get_max_val_acc_epoch(hist)\n",
        "epoch_num\n",
        "# model.load_weights(output_dir+\"/weights.\"+epoch_num+\".hdf5\") # Load in model weights"
      ]
    },
    {
      "cell_type": "code",
      "execution_count": null,
      "id": "394f46df",
      "metadata": {},
      "outputs": [],
      "source": []
    },
    {
      "cell_type": "code",
      "execution_count": 48,
      "id": "bb94c8a0",
      "metadata": {
        "colab": {
          "base_uri": "https://localhost:8080/"
        },
        "id": "bb94c8a0",
        "outputId": "06ffb14e-7344-42d0-b8eb-09cea4dc3f2e"
      },
      "outputs": [
        {
          "name": "stdout",
          "output_type": "stream",
          "text": [
            "160/160 [==============================] - 32s 171ms/step\n"
          ]
        }
      ],
      "source": [
        "### Model Predictions\n",
        "\n",
        "y_test_probs = model.predict(X_test)\n",
        "\n",
        "# Turn probabilities into an interger prediction\n",
        "y_hat = []\n",
        "for prob in y_test_probs:\n",
        "    y_hat.append(np.argmax(prob))"
      ]
    },
    {
      "cell_type": "code",
      "execution_count": 49,
      "id": "76b444cd",
      "metadata": {
        "colab": {
          "base_uri": "https://localhost:8080/",
          "height": 408
        },
        "id": "76b444cd",
        "outputId": "49034997-cfee-40e4-c84e-0913708a6481"
      },
      "outputs": [
        {
          "name": "stdout",
          "output_type": "stream",
          "text": [
            "Accuracy: 0.8681942812377595\n"
          ]
        },
        {
          "data": {
            "image/png": "[encoded data removed]",
            "text/plain": [
              "<Figure size 432x288 with 2 Axes>"
            ]
          },
          "metadata": {},
          "output_type": "display_data"
        }
      ],
      "source": [
        "### Confustion Matrix\n",
        "\n",
        "print(\"Accuracy:\", accuracy_score(y_test, y_hat))\n",
        "print_cf1(y_test, y_hat)"
      ]
    },
    {
      "cell_type": "code",
      "execution_count": 50,
      "id": "62ff4b6f",
      "metadata": {
        "colab": {
          "base_uri": "https://localhost:8080/"
        },
        "id": "62ff4b6f",
        "outputId": "1eea2334-d94a-4056-b3d2-94dfa285cae5"
      },
      "outputs": [
        {
          "name": "stdout",
          "output_type": "stream",
          "text": [
            "                 precision    recall  f1-score   support\n",
            "\n",
            "    Casual-Talk       0.69      0.70      0.70       305\n",
            "     Depression       0.94      0.75      0.84      1302\n",
            "Highly-Suicidal       0.00      0.00      0.00         5\n",
            "       Stressed       0.66      0.88      0.75       445\n",
            "        Suicide       0.90      0.93      0.92      3049\n",
            "\n",
            "       accuracy                           0.87      5106\n",
            "      macro avg       0.64      0.65      0.64      5106\n",
            "   weighted avg       0.88      0.87      0.87      5106\n",
            "\n"
          ]
        },
        {
          "name": "stderr",
          "output_type": "stream",
          "text": [
            "/usr/local/lib/python3.7/dist-packages/sklearn/metrics/_classification.py:1318: UndefinedMetricWarning: Precision and F-score are ill-defined and being set to 0.0 in labels with no predicted samples. Use `zero_division` parameter to control this behavior.\n",
            "  _warn_prf(average, modifier, msg_start, len(result))\n",
            "/usr/local/lib/python3.7/dist-packages/sklearn/metrics/_classification.py:1318: UndefinedMetricWarning: Precision and F-score are ill-defined and being set to 0.0 in labels with no predicted samples. Use `zero_division` parameter to control this behavior.\n",
            "  _warn_prf(average, modifier, msg_start, len(result))\n",
            "/usr/local/lib/python3.7/dist-packages/sklearn/metrics/_classification.py:1318: UndefinedMetricWarning: Precision and F-score are ill-defined and being set to 0.0 in labels with no predicted samples. Use `zero_division` parameter to control this behavior.\n",
            "  _warn_prf(average, modifier, msg_start, len(result))\n"
          ]
        }
      ],
      "source": [
        "### Classification Report\n",
        "\n",
        "print(classification_report(y_test, y_hat, target_names=labels_5))"
      ]
    },
    {
      "cell_type": "code",
      "execution_count": 51,
      "id": "65ca4e62",
      "metadata": {
        "id": "65ca4e62",
        "scrolled": true
      },
      "outputs": [],
      "source": [
        "### Inspecting data that was not classified properly\n",
        "[print(example, '\\n') for example in x_test[(y_test == 2) & (np.asarray(y_hat) == 0)][:5]];\n"
      ]
    },
    {
      "cell_type": "markdown",
      "id": "65287b75",
      "metadata": {
        "id": "65287b75"
      },
      "source": [
        "## Saving and Loading model"
      ]
    },
    {
      "cell_type": "code",
      "execution_count": 52,
      "id": "88fe9b13",
      "metadata": {
        "colab": {
          "base_uri": "https://localhost:8080/",
          "height": 36
        },
        "id": "88fe9b13",
        "outputId": "8202b4aa-e847-49ec-a9ff-e694753e6340"
      },
      "outputs": [
        {
          "data": {
            "application/vnd.google.colaboratory.intrinsic+json": {
              "type": "string"
            },
            "text/plain": [
              "'/content/drive/MyDrive/Colab Notebooks/498-CAPSTONE/model'"
            ]
          },
          "execution_count": 52,
          "metadata": {},
          "output_type": "execute_result"
        }
      ],
      "source": [
        "%pwd"
      ]
    },
    {
      "cell_type": "code",
      "execution_count": 53,
      "id": "161ea37c",
      "metadata": {
        "id": "161ea37c"
      },
      "outputs": [],
      "source": [
        "from tensorflow.keras.models import save_model, load_model\n",
        "\n",
        "save_model(model,\"bert_nov6.h5\")\n",
        "\n",
        "model.save(\"bert_nov6.h5\")\n"
      ]
    },
    {
      "cell_type": "code",
      "execution_count": 86,
      "id": "e57f8659",
      "metadata": {
        "id": "e57f8659"
      },
      "outputs": [],
      "source": [
        "loaded_model=load_model(\"LSTM_bert_model_epoch_11.00__val_loss_0.38__val_accuracy_0.88.h5\",\n",
        "                        custom_objects={'TFBertModel':TFBertModel})"
      ]
    },
    {
      "cell_type": "markdown",
      "id": "ff58b56a",
      "metadata": {
        "id": "ff58b56a"
      },
      "source": [
        "#### evaluating loaded_model"
      ]
    },
    {
      "cell_type": "code",
      "execution_count": 87,
      "id": "b7334130",
      "metadata": {
        "colab": {
          "base_uri": "https://localhost:8080/"
        },
        "id": "b7334130",
        "outputId": "b0de0e50-a095-4cce-9724-ef62b0b78d2b"
      },
      "outputs": [
        {
          "name": "stdout",
          "output_type": "stream",
          "text": [
            "160/160 [==============================] - 33s 177ms/step - loss: 0.4009 - categorical_accuracy: 0.8733\n",
            "Loss: 0.40085119009017944\n",
            "Accuracy: 0.8732863068580627\n"
          ]
        }
      ],
      "source": [
        "test_loss, test_accuracy = loaded_model.evaluate(X_test,Y_test_cat)\n",
        "\n",
        "print(f'Loss: {test_loss}')\n",
        "print(f'Accuracy: {test_accuracy}')\n"
      ]
    },
    {
      "cell_type": "code",
      "execution_count": 88,
      "id": "d72952a9",
      "metadata": {
        "colab": {
          "base_uri": "https://localhost:8080/"
        },
        "id": "d72952a9",
        "outputId": "6830c48c-1510-4879-fdde-0aff5aca8869"
      },
      "outputs": [
        {
          "name": "stdout",
          "output_type": "stream",
          "text": [
            "160/160 [==============================] - 32s 172ms/step\n"
          ]
        }
      ],
      "source": [
        "y_test_probs = loaded_model.predict(X_test)\n",
        "\n",
        "# Turn probabilities into an interger prediction\n",
        "y_hat = []\n",
        "for prob in y_test_probs:\n",
        "    y_hat.append(np.argmax(prob))"
      ]
    },
    {
      "cell_type": "code",
      "execution_count": 89,
      "id": "ca4b3351",
      "metadata": {
        "colab": {
          "base_uri": "https://localhost:8080/",
          "height": 408
        },
        "id": "ca4b3351",
        "outputId": "89837914-4f89-4077-b391-7d301b6dd726"
      },
      "outputs": [
        {
          "name": "stdout",
          "output_type": "stream",
          "text": [
            "Accuracy: 0.873286329808069\n"
          ]
        },
        {
          "data": {
            "image/png": "[encoded data removed]",
            "text/plain": [
              "<Figure size 432x288 with 2 Axes>"
            ]
          },
          "metadata": {},
          "output_type": "display_data"
        }
      ],
      "source": [
        "print(\"Accuracy:\", accuracy_score(y_test, y_hat))\n",
        "print_cf1(y_test, y_hat)"
      ]
    },
    {
      "cell_type": "code",
      "execution_count": 90,
      "id": "722430f2",
      "metadata": {
        "colab": {
          "base_uri": "https://localhost:8080/"
        },
        "id": "722430f2",
        "outputId": "4596d8db-1461-46ea-eec6-9aaabc0975a5"
      },
      "outputs": [
        {
          "name": "stdout",
          "output_type": "stream",
          "text": [
            "                 precision    recall  f1-score   support\n",
            "\n",
            "    Casual-Talk       0.67      0.70      0.68       305\n",
            "     Depression       0.92      0.78      0.84      1302\n",
            "Highly-Suicidal       0.00      0.00      0.00         5\n",
            "       Stressed       0.86      0.68      0.76       445\n",
            "        Suicide       0.88      0.96      0.92      3049\n",
            "\n",
            "       accuracy                           0.87      5106\n",
            "      macro avg       0.67      0.62      0.64      5106\n",
            "   weighted avg       0.87      0.87      0.87      5106\n",
            "\n"
          ]
        },
        {
          "name": "stderr",
          "output_type": "stream",
          "text": [
            "/usr/local/lib/python3.7/dist-packages/sklearn/metrics/_classification.py:1318: UndefinedMetricWarning: Precision and F-score are ill-defined and being set to 0.0 in labels with no predicted samples. Use `zero_division` parameter to control this behavior.\n",
            "  _warn_prf(average, modifier, msg_start, len(result))\n",
            "/usr/local/lib/python3.7/dist-packages/sklearn/metrics/_classification.py:1318: UndefinedMetricWarning: Precision and F-score are ill-defined and being set to 0.0 in labels with no predicted samples. Use `zero_division` parameter to control this behavior.\n",
            "  _warn_prf(average, modifier, msg_start, len(result))\n",
            "/usr/local/lib/python3.7/dist-packages/sklearn/metrics/_classification.py:1318: UndefinedMetricWarning: Precision and F-score are ill-defined and being set to 0.0 in labels with no predicted samples. Use `zero_division` parameter to control this behavior.\n",
            "  _warn_prf(average, modifier, msg_start, len(result))\n"
          ]
        }
      ],
      "source": [
        "print(classification_report(y_test, y_hat, target_names=labels_5))"
      ]
    },
    {
      "cell_type": "markdown",
      "id": "0c5a5d95",
      "metadata": {},
      "source": [
        "### Test the model from out of the box data that is not from reditt"
      ]
    },
    {
      "cell_type": "code",
      "execution_count": 91,
      "id": "77519b5f",
      "metadata": {
        "id": "77519b5f"
      },
      "outputs": [],
      "source": [
        "sentiment_model=loaded_model"
      ]
    },
    {
      "cell_type": "code",
      "execution_count": 93,
      "id": "bb22879f",
      "metadata": {
        "id": "bb22879f"
      },
      "outputs": [],
      "source": [
        "from transformers import BertTokenizer\n",
        "tokenizer = BertTokenizer.from_pretrained('bert-base-cased')\n",
        "labels_5=['Casual-Talk', 'Depression', 'Highly-Suicidal', 'Stressed', 'Suicide']\n",
        "def prepare_data(input_text, tokenizer):\n",
        "    token = tokenizer.encode_plus(\n",
        "        input_text,\n",
        "        max_length=500, \n",
        "        truncation=True, \n",
        "        padding='max_length', \n",
        "        add_special_tokens=True,\n",
        "        return_tensors='tf'\n",
        "    )\n",
        "    return {\n",
        "        'input_token': tf.cast(token.input_ids, tf.float64),\n",
        "        'masked_token': tf.cast(token.attention_mask, tf.float64)\n",
        "    }\n",
        "\n",
        "def make_prediction(model, processed_data, classes=labels_5):\n",
        "    probs = model.predict(processed_data)[0]\n",
        "    return classes[np.argmax(probs)]"
      ]
    },
    {
      "cell_type": "code",
      "execution_count": 94,
      "id": "9ac2696a",
      "metadata": {
        "colab": {
          "base_uri": "https://localhost:8080/"
        },
        "id": "9ac2696a",
        "outputId": "bd055c39-a441-4b91-d032-a805a1c5f4ec"
      },
      "outputs": [
        {
          "name": "stdout",
          "output_type": "stream",
          "text": [
            "1/1 [==============================] - 5s 5s/step\n",
            "Predicted Sentiment:     Suicide\n"
          ]
        }
      ],
      "source": [
        "input_text = (\"I don 't deserve to be alive. I don't want to face the trials of reality, which is obviously cowardice. I have let this cowardice envelop me, and I can't shake it off.\")\n",
        "processed_data = prepare_data(input_text, tokenizer)\n",
        "result = make_prediction(sentiment_model, processed_data=processed_data)\n",
        "print(f\"Predicted Sentiment:     {result}\")"
      ]
    },
    {
      "cell_type": "code",
      "execution_count": 95,
      "id": "8a94fca6",
      "metadata": {
        "colab": {
          "base_uri": "https://localhost:8080/"
        },
        "id": "8a94fca6",
        "outputId": "0d0ca163-a86e-4cdc-de10-a24ca231f3af"
      },
      "outputs": [
        {
          "name": "stdout",
          "output_type": "stream",
          "text": [
            "1/1 [==============================] - 0s 64ms/step\n",
            "Predicted Sentiment: Suicide\n"
          ]
        }
      ],
      "source": [
        "input_text = (\"I will be - You lookup. Stars little lights  Little places where you Cannot live with your  Lungs and your skin But  with your heart. My little world will meet, Yours and yours mine.  My organs, though left Behind in the earth to become The trees, or to live and Be wanted in another's body, I will be there as Another dot to join the dots, So that when you look up, I will be there, and you know  I will be free.\")\n",
        "processed_data = prepare_data(input_text, tokenizer)\n",
        "result = make_prediction(sentiment_model, processed_data=processed_data)\n",
        "print(f\"Predicted Sentiment: {result}\")"
      ]
    },
    {
      "cell_type": "code",
      "execution_count": 96,
      "id": "889230a1",
      "metadata": {
        "colab": {
          "base_uri": "https://localhost:8080/"
        },
        "id": "889230a1",
        "outputId": "60618ec0-a99d-4fbc-d073-bc5592da3735"
      },
      "outputs": [
        {
          "name": "stdout",
          "output_type": "stream",
          "text": [
            "1/1 [==============================] - 0s 63ms/step\n",
            "Predicted Sentiment: Suicide\n"
          ]
        }
      ],
      "source": [
        "input_text = (\"I guess I'm nothing more than another suicidal white girl,\" \"Just another first-world brat succumbing to society's perfect illusions \")\n",
        "processed_data = prepare_data(input_text, tokenizer)\n",
        "result = make_prediction(sentiment_model, processed_data=processed_data)\n",
        "print(f\"Predicted Sentiment: {result}\")"
      ]
    },
    {
      "cell_type": "code",
      "execution_count": 97,
      "id": "43247c30",
      "metadata": {
        "colab": {
          "base_uri": "https://localhost:8080/"
        },
        "id": "43247c30",
        "outputId": "746f60dc-cfb3-41d9-840d-11516743668d"
      },
      "outputs": [
        {
          "name": "stdout",
          "output_type": "stream",
          "text": [
            "1/1 [==============================] - 0s 63ms/step\n",
            "Predicted Sentiment: Suicide\n"
          ]
        }
      ],
      "source": [
        "input_text = (\"We are each given a life. We're supposed to live it. I don 't. It's as simple as that It comes suddenly and then dissolves\")\n",
        "processed_data = prepare_data(input_text, tokenizer)\n",
        "result = make_prediction(sentiment_model, processed_data=processed_data)\n",
        "print(f\"Predicted Sentiment: {result}\")"
      ]
    },
    {
      "cell_type": "code",
      "execution_count": 98,
      "id": "e1ef9447",
      "metadata": {
        "colab": {
          "base_uri": "https://localhost:8080/"
        },
        "id": "e1ef9447",
        "outputId": "4e604ab6-9c85-498b-c3ca-7c751caaa655"
      },
      "outputs": [
        {
          "name": "stdout",
          "output_type": "stream",
          "text": [
            "1/1 [==============================] - 0s 64ms/step\n",
            "Predicted Sentiment: Depression\n"
          ]
        }
      ],
      "source": [
        "input_text = (\"if I fail these exams, I know that my will be ruined and I can kiss University goodbye. I can kiss my life goodbye. All I want is to be a good psychologist. I can't do that without a proper degree and a Masters\")\n",
        "processed_data = prepare_data(input_text, tokenizer)\n",
        "result = make_prediction(sentiment_model, processed_data=processed_data)\n",
        "print(f\"Predicted Sentiment: {result}\")"
      ]
    },
    {
      "cell_type": "code",
      "execution_count": 99,
      "id": "60e7c9d9",
      "metadata": {
        "colab": {
          "base_uri": "https://localhost:8080/"
        },
        "id": "60e7c9d9",
        "outputId": "81f9a9a8-52ac-4478-8ba3-604de4895739"
      },
      "outputs": [
        {
          "name": "stdout",
          "output_type": "stream",
          "text": [
            "1/1 [==============================] - 0s 66ms/step\n",
            "Predicted Sentiment: Suicide\n"
          ]
        }
      ],
      "source": [
        "input_text = (\"i will die\")\n",
        "processed_data = prepare_data(input_text, tokenizer)\n",
        "result = make_prediction(sentiment_model, processed_data=processed_data)\n",
        "print(f\"Predicted Sentiment: {result}\")"
      ]
    },
    {
      "cell_type": "code",
      "execution_count": 100,
      "id": "43af8360",
      "metadata": {
        "colab": {
          "base_uri": "https://localhost:8080/"
        },
        "id": "43af8360",
        "outputId": "64941e86-ca56-40fc-e497-85b6f171449e"
      },
      "outputs": [
        {
          "name": "stdout",
          "output_type": "stream",
          "text": [
            "1/1 [==============================] - 0s 65ms/step\n",
            "Predicted Sentiment: Suicide\n"
          ]
        }
      ],
      "source": [
        "input_text = (\"i want to die\")\n",
        "processed_data = prepare_data(input_text, tokenizer)\n",
        "result = make_prediction(sentiment_model, processed_data=processed_data)\n",
        "print(f\"Predicted Sentiment: {result}\")"
      ]
    },
    {
      "cell_type": "code",
      "execution_count": 101,
      "id": "ed1d34b0",
      "metadata": {
        "colab": {
          "base_uri": "https://localhost:8080/"
        },
        "id": "ed1d34b0",
        "outputId": "96cebc68-a1c9-4d1c-89ad-b20e6608cf13"
      },
      "outputs": [
        {
          "name": "stdout",
          "output_type": "stream",
          "text": [
            "1/1 [==============================] - 0s 66ms/step\n",
            "Predicted Sentiment: Suicide\n"
          ]
        }
      ],
      "source": [
        "input_text = (\"i want to kill myself\")\n",
        "processed_data = prepare_data(input_text, tokenizer)\n",
        "result = make_prediction(sentiment_model, processed_data=processed_data)\n",
        "print(f\"Predicted Sentiment: {result}\")"
      ]
    },
    {
      "cell_type": "code",
      "execution_count": 102,
      "id": "55f72987",
      "metadata": {
        "colab": {
          "base_uri": "https://localhost:8080/"
        },
        "id": "55f72987",
        "outputId": "5ce942d2-c37a-40bc-f394-fc6376645ac3"
      },
      "outputs": [
        {
          "name": "stdout",
          "output_type": "stream",
          "text": [
            "1/1 [==============================] - 0s 63ms/step\n",
            "Predicted Sentiment:    Suicide\n"
          ]
        }
      ],
      "source": [
        "# input_text = (\"i forgot my car keys, i will jump out of the building\")\n",
        "# input_text= (\"just die\")\n",
        "input_text =(\" i will jump out of the building\")\n",
        "processed_data = prepare_data(input_text, tokenizer)\n",
        "result = make_prediction(sentiment_model, processed_data=processed_data)\n",
        "print(f\"Predicted Sentiment:    {result}\")"
      ]
    },
    {
      "cell_type": "code",
      "execution_count": 103,
      "id": "98483777",
      "metadata": {
        "colab": {
          "base_uri": "https://localhost:8080/"
        },
        "id": "98483777",
        "outputId": "2fd47f76-d691-4b73-bf8d-c6de708661d3"
      },
      "outputs": [
        {
          "name": "stdout",
          "output_type": "stream",
          "text": [
            "1/1 [==============================] - 0s 63ms/step\n",
            "Predicted Sentiment:    Suicide\n"
          ]
        }
      ],
      "source": [
        "# input_text = (\"i forgot my car keys, i will jump on the floor\")\n",
        "# input_text= (\"just die\")\n",
        "input_text =(\"my partner broke up with me, i'm in hundered of thousands in debt, i dont have any alternative, i will jump out of the building\")\n",
        "processed_data = prepare_data(input_text, tokenizer)\n",
        "result = make_prediction(sentiment_model, processed_data=processed_data)\n",
        "print(f\"Predicted Sentiment:    {result}\")"
      ]
    },
    {
      "cell_type": "code",
      "execution_count": 104,
      "id": "f5bd8a6d",
      "metadata": {
        "colab": {
          "base_uri": "https://localhost:8080/"
        },
        "id": "f5bd8a6d",
        "outputId": "3461354e-8335-49e5-923e-3bce884e1689"
      },
      "outputs": [
        {
          "name": "stdout",
          "output_type": "stream",
          "text": [
            "1/1 [==============================] - 0s 63ms/step\n",
            "Predicted Sentiment:    Suicide\n"
          ]
        }
      ],
      "source": [
        "# input_text = (\" \")\n",
        "input_text= (\"just kill yourself\")\n",
        "\n",
        "processed_data = prepare_data(input_text, tokenizer)\n",
        "result = make_prediction(sentiment_model, processed_data=processed_data)\n",
        "print(f\"Predicted Sentiment:    {result}\")"
      ]
    },
    {
      "cell_type": "code",
      "execution_count": 105,
      "id": "5fa4d5fa",
      "metadata": {
        "colab": {
          "base_uri": "https://localhost:8080/"
        },
        "id": "5fa4d5fa",
        "outputId": "64bad9ee-4d21-418f-e2b0-b71ccb486b0f"
      },
      "outputs": [
        {
          "name": "stdout",
          "output_type": "stream",
          "text": [
            "1/1 [==============================] - 0s 64ms/step\n",
            "Predicted Sentiment: Suicide\n"
          ]
        }
      ],
      "source": [
        "input_text = (\"Despondency failure at not doing home work sooner, convinced that I was now a total failure, total lack of motivation, fears about the future\")\n",
        "processed_data = prepare_data(input_text, tokenizer)\n",
        "result = make_prediction(sentiment_model, processed_data=processed_data)\n",
        "print(f\"Predicted Sentiment: {result}\")"
      ]
    },
    {
      "cell_type": "code",
      "execution_count": 106,
      "id": "e69d2aca",
      "metadata": {
        "colab": {
          "base_uri": "https://localhost:8080/"
        },
        "id": "e69d2aca",
        "outputId": "f01f1716-70c0-4681-a4c2-4b5e5a2f7bdf"
      },
      "outputs": [
        {
          "name": "stdout",
          "output_type": "stream",
          "text": [
            "1/1 [==============================] - 0s 63ms/step\n",
            "Predicted Sentiment: Suicide\n"
          ]
        }
      ],
      "source": [
        "\n",
        "\n",
        "input_text = (\"I taught two people the value of life, You will lose me. My god, it will destroy you. What I will do, will be unforgiveable. I will commit the worst thing you can ever do to someone who loves you: killing yourself The scary thing is, I'm okay with that I am not sad so much as gone\")\n",
        "processed_data = prepare_data(input_text, tokenizer)\n",
        "result = make_prediction(sentiment_model, processed_data=processed_data)\n",
        "print(f\"Predicted Sentiment: {result}\")"
      ]
    },
    {
      "cell_type": "code",
      "execution_count": 107,
      "id": "9243b20e",
      "metadata": {
        "colab": {
          "base_uri": "https://localhost:8080/"
        },
        "id": "9243b20e",
        "outputId": "e5781304-5ec0-488c-ecc9-9ffc19851f96"
      },
      "outputs": [
        {
          "name": "stdout",
          "output_type": "stream",
          "text": [
            "1/1 [==============================] - 0s 65ms/step\n",
            "Predicted Sentiment: Suicide\n"
          ]
        }
      ],
      "source": [
        "input_text=(\"'sorry if this is awfully spelt or something doing this a i can t sleep i have been really sick recently and i have been missing a lot of work and college i have had a bad time with my family and it s only gotten weirder ever since i tried to end it all they will be nice to me and then act like i am a bad person maybe i am i don t talk to them or go near them a all they do is speak badly about me i am in a great relationship and have lot of people who love and care for me but i suffer really badly with depression my depression ha lead to me not being able to shower or brush my teeth getting awful grade at college and just not being around people i partly blame my antidepressant and my unwillingness to call up for a new prescription so i am suffering i have lost all joy in life again a all you can feel is doubt and dread fear of entering college again and being with my family i am just a failure and wats of oxygen which would be better to die and get it all over with i constantly think about ending it every day the idea of just disappearing is so welcomed in my mind that if plague every waking moment and hour yet it just feel right especially a this all run through your head making you suffer till stupid hour in the morning a all you want is to get those pill or that blade and just die for your own betterment\")\n",
        "\n",
        "processed_data = prepare_data(input_text, tokenizer)\n",
        "result = make_prediction(sentiment_model, processed_data=processed_data)\n",
        "print(f\"Predicted Sentiment: {result}\")"
      ]
    },
    {
      "cell_type": "code",
      "execution_count": 108,
      "id": "xKx_WI0u1vEJ",
      "metadata": {
        "colab": {
          "base_uri": "https://localhost:8080/"
        },
        "id": "xKx_WI0u1vEJ",
        "outputId": "59cf0a82-2630-4204-a1e8-890b5ab31351"
      },
      "outputs": [
        {
          "name": "stdout",
          "output_type": "stream",
          "text": [
            "1/1 [==============================] - 0s 64ms/step\n",
            "Predicted Sentiment: Suicide\n"
          ]
        }
      ],
      "source": [
        "# input_text=(\"i have therapy every week other week and each session it get 10x worse because of last week s session i almost killed myself because i didn t want to do another all i have to talk about is school and not even thing that happen in school like dance or classmate stuff like that since i do online it s just schoolwork every time i get asked so what ha happened since our last session absolutely fucking nothing i have absolutely nothing to talk about to anyone and on top of that even i did have something to talk about my extreme social anxiety and insecurity fill in i can feel everyone around me getting so bored and annoyed with me mom think i m not good enough i ll never be the person dad want me to be best friend barely tell me anything anymore haven t talked to my brother in a whole day therapist is clearly getting bored of the 10 minute session because i have nothing going on in my life i wa literally going to km before today so i didn t have to do another session because i knew how it would go today and surprise surprise i wa right once again everything i tell my therapist about school he talk to my parent about it what happened to confidentiality i accidentally told him something that i wasn t going to only because there wa nothing else to talk about and now he s going to talk to my mom about it and our next session is going to be with my mom all i said wa that schoolwork give me panic attack what the fuck so over it i wa planning on staying until sunday 2 of my favorite singer are releasing new music and the season premiere of my favorite show is starting but i can not wait any fucking longer too much pain too much stress too much anxiety too much irrelevent bullshit too much boredom im out of here\")\n",
        "processed_data = prepare_data(input_text, tokenizer)\n",
        "result = make_prediction(sentiment_model, processed_data=processed_data)\n",
        "print(f\"Predicted Sentiment: {result}\")"
      ]
    },
    {
      "cell_type": "code",
      "execution_count": 109,
      "id": "vEJkwUdY1vfV",
      "metadata": {
        "colab": {
          "base_uri": "https://localhost:8080/"
        },
        "id": "vEJkwUdY1vfV",
        "outputId": "1dda738f-3fa1-4478-aaf0-9edfa8d1cffe"
      },
      "outputs": [
        {
          "name": "stdout",
          "output_type": "stream",
          "text": [
            "1/1 [==============================] - 0s 64ms/step\n",
            "Predicted Sentiment: Depression\n"
          ]
        }
      ],
      "source": [
        "# input_text=(\"i have accidentally cut off all of my friend almost completely i barely talk to my family member i just want to sleep forever and not have to talk to anyone or do anything i feel like my entire life i have had to be okay 24 7 or it s a problem for someone and i m a burden and when i did ask for help i wa called selfish and berated and sent to the same hospital 3 time where i went through so much trauma at such a young age i feel like i can t function i am at such a low point but i can t say anything to anyone because i don t want to be seen a crazy or weak and i absolutely can t go back to the hospital i have to just put everything away and distract myself but i feel like i can t anymore and i m going insane\")\n",
        "input_text=(\"i m really close to just buying a shotgun online i don t want my mind changed i want someone to give me permission to leave i try to tell people how i feel like my therapist and such and they tell me i need to find my own way like lol i ve found it age ago and nobody will let me do it but you know what no one can really stop me if i really want to right now i m so drunk and high i feel fuckin great i m sure happy that i now have the power in my hand to do what i ve always wanted to do i guess i m just looking for someone to do it with me anyone else want to join me i don t want to be lonely in this venture crown apple royal is great\")\n",
        "processed_data = prepare_data(input_text, tokenizer)\n",
        "result = make_prediction(sentiment_model, processed_data=processed_data)\n",
        "print(f\"Predicted Sentiment: {result}\")"
      ]
    },
    {
      "cell_type": "code",
      "execution_count": 109,
      "id": "edWNspi33o8d",
      "metadata": {
        "id": "edWNspi33o8d"
      },
      "outputs": [],
      "source": []
    }
  ],
  "metadata": {
    "accelerator": "GPU",
    "colab": {
      "collapsed_sections": [],
      "machine_shape": "hm",
      "provenance": []
    },
    "gpuClass": "premium",
    "kernelspec": {
      "display_name": "Python 3 (ipykernel)",
      "language": "python",
      "name": "python3"
    },
    "language_info": {
      "codemirror_mode": {
        "name": "ipython",
        "version": 3
      },
      "file_extension": ".py",
      "mimetype": "text/x-python",
      "name": "python",
      "nbconvert_exporter": "python",
      "pygments_lexer": "ipython3",
      "version": "3.9.12"
    },
    "widgets": {
      "application/vnd.jupyter.widget-state+json": {
        "034d85113bce48f3beb73bd8f2e515cf": {
          "model_module": "@jupyter-widgets/controls",
          "model_module_version": "1.5.0",
          "model_name": "HTMLModel",
          "state": {
            "_dom_classes": [],
            "_model_module": "@jupyter-widgets/controls",
            "_model_module_version": "1.5.0",
            "_model_name": "HTMLModel",
            "_view_count": null,
            "_view_module": "@jupyter-widgets/controls",
            "_view_module_version": "1.5.0",
            "_view_name": "HTMLView",
            "description": "",
            "description_tooltip": null,
            "layout": "IPY_MODEL_2913109abf6740dfbaddfe1d076a0dbc",
            "placeholder": "​",
            "style": "IPY_MODEL_e3e55f2bd2f348acaaa900605e797d09",
            "value": "100%"
          }
        },
        "19aae274cd564934a5c32f7ee0ffd85f": {
          "model_module": "@jupyter-widgets/base",
          "model_module_version": "1.2.0",
          "model_name": "LayoutModel",
          "state": {
            "_model_module": "@jupyter-widgets/base",
            "_model_module_version": "1.2.0",
            "_model_name": "LayoutModel",
            "_view_count": null,
            "_view_module": "@jupyter-widgets/base",
            "_view_module_version": "1.2.0",
            "_view_name": "LayoutView",
            "align_content": null,
            "align_items": null,
            "align_self": null,
            "border": null,
            "bottom": null,
            "display": null,
            "flex": null,
            "flex_flow": null,
            "grid_area": null,
            "grid_auto_columns": null,
            "grid_auto_flow": null,
            "grid_auto_rows": null,
            "grid_column": null,
            "grid_gap": null,
            "grid_row": null,
            "grid_template_areas": null,
            "grid_template_columns": null,
            "grid_template_rows": null,
            "height": null,
            "justify_content": null,
            "justify_items": null,
            "left": null,
            "margin": null,
            "max_height": null,
            "max_width": null,
            "min_height": null,
            "min_width": null,
            "object_fit": null,
            "object_position": null,
            "order": null,
            "overflow": null,
            "overflow_x": null,
            "overflow_y": null,
            "padding": null,
            "right": null,
            "top": null,
            "visibility": null,
            "width": null
          }
        },
        "2913109abf6740dfbaddfe1d076a0dbc": {
          "model_module": "@jupyter-widgets/base",
          "model_module_version": "1.2.0",
          "model_name": "LayoutModel",
          "state": {
            "_model_module": "@jupyter-widgets/base",
            "_model_module_version": "1.2.0",
            "_model_name": "LayoutModel",
            "_view_count": null,
            "_view_module": "@jupyter-widgets/base",
            "_view_module_version": "1.2.0",
            "_view_name": "LayoutView",
            "align_content": null,
            "align_items": null,
            "align_self": null,
            "border": null,
            "bottom": null,
            "display": null,
            "flex": null,
            "flex_flow": null,
            "grid_area": null,
            "grid_auto_columns": null,
            "grid_auto_flow": null,
            "grid_auto_rows": null,
            "grid_column": null,
            "grid_gap": null,
            "grid_row": null,
            "grid_template_areas": null,
            "grid_template_columns": null,
            "grid_template_rows": null,
            "height": null,
            "justify_content": null,
            "justify_items": null,
            "left": null,
            "margin": null,
            "max_height": null,
            "max_width": null,
            "min_height": null,
            "min_width": null,
            "object_fit": null,
            "object_position": null,
            "order": null,
            "overflow": null,
            "overflow_x": null,
            "overflow_y": null,
            "padding": null,
            "right": null,
            "top": null,
            "visibility": null,
            "width": null
          }
        },
        "2e9f5a688bee4bdea24bebe3d2d17d16": {
          "model_module": "@jupyter-widgets/controls",
          "model_module_version": "1.5.0",
          "model_name": "DescriptionStyleModel",
          "state": {
            "_model_module": "@jupyter-widgets/controls",
            "_model_module_version": "1.5.0",
            "_model_name": "DescriptionStyleModel",
            "_view_count": null,
            "_view_module": "@jupyter-widgets/base",
            "_view_module_version": "1.2.0",
            "_view_name": "StyleView",
            "description_width": ""
          }
        },
        "40bf5f89fbd34ad19b4903335fd329b1": {
          "model_module": "@jupyter-widgets/controls",
          "model_module_version": "1.5.0",
          "model_name": "HTMLModel",
          "state": {
            "_dom_classes": [],
            "_model_module": "@jupyter-widgets/controls",
            "_model_module_version": "1.5.0",
            "_model_name": "HTMLModel",
            "_view_count": null,
            "_view_module": "@jupyter-widgets/controls",
            "_view_module_version": "1.5.0",
            "_view_name": "HTMLView",
            "description": "",
            "description_tooltip": null,
            "layout": "IPY_MODEL_c8559907f13a43228a919207f01adc6a",
            "placeholder": "​",
            "style": "IPY_MODEL_2e9f5a688bee4bdea24bebe3d2d17d16",
            "value": "100%"
          }
        },
        "54ce808f2d534c5bbf170e549bc5bd7d": {
          "model_module": "@jupyter-widgets/controls",
          "model_module_version": "1.5.0",
          "model_name": "FloatProgressModel",
          "state": {
            "_dom_classes": [],
            "_model_module": "@jupyter-widgets/controls",
            "_model_module_version": "1.5.0",
            "_model_name": "FloatProgressModel",
            "_view_count": null,
            "_view_module": "@jupyter-widgets/controls",
            "_view_module_version": "1.5.0",
            "_view_name": "ProgressView",
            "bar_style": "success",
            "description": "",
            "description_tooltip": null,
            "layout": "IPY_MODEL_c6e81ac71bd743ffb1ea86b84836ed4f",
            "max": 11912,
            "min": 0,
            "orientation": "horizontal",
            "style": "IPY_MODEL_7db1dc313f254029885fa7ed06600dd0",
            "value": 11912
          }
        },
        "54e506551c274cafa4f35258aaa9c7aa": {
          "model_module": "@jupyter-widgets/controls",
          "model_module_version": "1.5.0",
          "model_name": "ProgressStyleModel",
          "state": {
            "_model_module": "@jupyter-widgets/controls",
            "_model_module_version": "1.5.0",
            "_model_name": "ProgressStyleModel",
            "_view_count": null,
            "_view_module": "@jupyter-widgets/base",
            "_view_module_version": "1.2.0",
            "_view_name": "StyleView",
            "bar_color": null,
            "description_width": ""
          }
        },
        "5a36cf9c67224dec99b492bbb2921306": {
          "model_module": "@jupyter-widgets/controls",
          "model_module_version": "1.5.0",
          "model_name": "FloatProgressModel",
          "state": {
            "_dom_classes": [],
            "_model_module": "@jupyter-widgets/controls",
            "_model_module_version": "1.5.0",
            "_model_name": "FloatProgressModel",
            "_view_count": null,
            "_view_module": "@jupyter-widgets/controls",
            "_view_module_version": "1.5.0",
            "_view_name": "ProgressView",
            "bar_style": "success",
            "description": "",
            "description_tooltip": null,
            "layout": "IPY_MODEL_19aae274cd564934a5c32f7ee0ffd85f",
            "max": 5106,
            "min": 0,
            "orientation": "horizontal",
            "style": "IPY_MODEL_54e506551c274cafa4f35258aaa9c7aa",
            "value": 5106
          }
        },
        "5eec475fee4547a399c77029a916ae4a": {
          "model_module": "@jupyter-widgets/controls",
          "model_module_version": "1.5.0",
          "model_name": "DescriptionStyleModel",
          "state": {
            "_model_module": "@jupyter-widgets/controls",
            "_model_module_version": "1.5.0",
            "_model_name": "DescriptionStyleModel",
            "_view_count": null,
            "_view_module": "@jupyter-widgets/base",
            "_view_module_version": "1.2.0",
            "_view_name": "StyleView",
            "description_width": ""
          }
        },
        "6abfc2e8db864e2393ca6a87e5cf88f2": {
          "model_module": "@jupyter-widgets/controls",
          "model_module_version": "1.5.0",
          "model_name": "DescriptionStyleModel",
          "state": {
            "_model_module": "@jupyter-widgets/controls",
            "_model_module_version": "1.5.0",
            "_model_name": "DescriptionStyleModel",
            "_view_count": null,
            "_view_module": "@jupyter-widgets/base",
            "_view_module_version": "1.2.0",
            "_view_name": "StyleView",
            "description_width": ""
          }
        },
        "6d40d80c9ef244139bbb901e0c7bffb0": {
          "model_module": "@jupyter-widgets/base",
          "model_module_version": "1.2.0",
          "model_name": "LayoutModel",
          "state": {
            "_model_module": "@jupyter-widgets/base",
            "_model_module_version": "1.2.0",
            "_model_name": "LayoutModel",
            "_view_count": null,
            "_view_module": "@jupyter-widgets/base",
            "_view_module_version": "1.2.0",
            "_view_name": "LayoutView",
            "align_content": null,
            "align_items": null,
            "align_self": null,
            "border": null,
            "bottom": null,
            "display": null,
            "flex": null,
            "flex_flow": null,
            "grid_area": null,
            "grid_auto_columns": null,
            "grid_auto_flow": null,
            "grid_auto_rows": null,
            "grid_column": null,
            "grid_gap": null,
            "grid_row": null,
            "grid_template_areas": null,
            "grid_template_columns": null,
            "grid_template_rows": null,
            "height": null,
            "justify_content": null,
            "justify_items": null,
            "left": null,
            "margin": null,
            "max_height": null,
            "max_width": null,
            "min_height": null,
            "min_width": null,
            "object_fit": null,
            "object_position": null,
            "order": null,
            "overflow": null,
            "overflow_x": null,
            "overflow_y": null,
            "padding": null,
            "right": null,
            "top": null,
            "visibility": null,
            "width": null
          }
        },
        "7db1dc313f254029885fa7ed06600dd0": {
          "model_module": "@jupyter-widgets/controls",
          "model_module_version": "1.5.0",
          "model_name": "ProgressStyleModel",
          "state": {
            "_model_module": "@jupyter-widgets/controls",
            "_model_module_version": "1.5.0",
            "_model_name": "ProgressStyleModel",
            "_view_count": null,
            "_view_module": "@jupyter-widgets/base",
            "_view_module_version": "1.2.0",
            "_view_name": "StyleView",
            "bar_color": null,
            "description_width": ""
          }
        },
        "843d78ed24cd44d98a6778eacebf05ed": {
          "model_module": "@jupyter-widgets/base",
          "model_module_version": "1.2.0",
          "model_name": "LayoutModel",
          "state": {
            "_model_module": "@jupyter-widgets/base",
            "_model_module_version": "1.2.0",
            "_model_name": "LayoutModel",
            "_view_count": null,
            "_view_module": "@jupyter-widgets/base",
            "_view_module_version": "1.2.0",
            "_view_name": "LayoutView",
            "align_content": null,
            "align_items": null,
            "align_self": null,
            "border": null,
            "bottom": null,
            "display": null,
            "flex": null,
            "flex_flow": null,
            "grid_area": null,
            "grid_auto_columns": null,
            "grid_auto_flow": null,
            "grid_auto_rows": null,
            "grid_column": null,
            "grid_gap": null,
            "grid_row": null,
            "grid_template_areas": null,
            "grid_template_columns": null,
            "grid_template_rows": null,
            "height": null,
            "justify_content": null,
            "justify_items": null,
            "left": null,
            "margin": null,
            "max_height": null,
            "max_width": null,
            "min_height": null,
            "min_width": null,
            "object_fit": null,
            "object_position": null,
            "order": null,
            "overflow": null,
            "overflow_x": null,
            "overflow_y": null,
            "padding": null,
            "right": null,
            "top": null,
            "visibility": null,
            "width": null
          }
        },
        "93ccc5012e7b4c93bdc5001d877273d0": {
          "model_module": "@jupyter-widgets/controls",
          "model_module_version": "1.5.0",
          "model_name": "HTMLModel",
          "state": {
            "_dom_classes": [],
            "_model_module": "@jupyter-widgets/controls",
            "_model_module_version": "1.5.0",
            "_model_name": "HTMLModel",
            "_view_count": null,
            "_view_module": "@jupyter-widgets/controls",
            "_view_module_version": "1.5.0",
            "_view_name": "HTMLView",
            "description": "",
            "description_tooltip": null,
            "layout": "IPY_MODEL_f42593a2ed124d199f0913cc34c5b650",
            "placeholder": "​",
            "style": "IPY_MODEL_6abfc2e8db864e2393ca6a87e5cf88f2",
            "value": " 5106/5106 [00:11&lt;00:00, 481.35it/s]"
          }
        },
        "b6992dd26de44a5d85e26b5906c3b78b": {
          "model_module": "@jupyter-widgets/controls",
          "model_module_version": "1.5.0",
          "model_name": "HTMLModel",
          "state": {
            "_dom_classes": [],
            "_model_module": "@jupyter-widgets/controls",
            "_model_module_version": "1.5.0",
            "_model_name": "HTMLModel",
            "_view_count": null,
            "_view_module": "@jupyter-widgets/controls",
            "_view_module_version": "1.5.0",
            "_view_name": "HTMLView",
            "description": "",
            "description_tooltip": null,
            "layout": "IPY_MODEL_f145cacf993841948340dc5b00b2adae",
            "placeholder": "​",
            "style": "IPY_MODEL_5eec475fee4547a399c77029a916ae4a",
            "value": " 11912/11912 [00:27&lt;00:00, 436.76it/s]"
          }
        },
        "c6e81ac71bd743ffb1ea86b84836ed4f": {
          "model_module": "@jupyter-widgets/base",
          "model_module_version": "1.2.0",
          "model_name": "LayoutModel",
          "state": {
            "_model_module": "@jupyter-widgets/base",
            "_model_module_version": "1.2.0",
            "_model_name": "LayoutModel",
            "_view_count": null,
            "_view_module": "@jupyter-widgets/base",
            "_view_module_version": "1.2.0",
            "_view_name": "LayoutView",
            "align_content": null,
            "align_items": null,
            "align_self": null,
            "border": null,
            "bottom": null,
            "display": null,
            "flex": null,
            "flex_flow": null,
            "grid_area": null,
            "grid_auto_columns": null,
            "grid_auto_flow": null,
            "grid_auto_rows": null,
            "grid_column": null,
            "grid_gap": null,
            "grid_row": null,
            "grid_template_areas": null,
            "grid_template_columns": null,
            "grid_template_rows": null,
            "height": null,
            "justify_content": null,
            "justify_items": null,
            "left": null,
            "margin": null,
            "max_height": null,
            "max_width": null,
            "min_height": null,
            "min_width": null,
            "object_fit": null,
            "object_position": null,
            "order": null,
            "overflow": null,
            "overflow_x": null,
            "overflow_y": null,
            "padding": null,
            "right": null,
            "top": null,
            "visibility": null,
            "width": null
          }
        },
        "c8559907f13a43228a919207f01adc6a": {
          "model_module": "@jupyter-widgets/base",
          "model_module_version": "1.2.0",
          "model_name": "LayoutModel",
          "state": {
            "_model_module": "@jupyter-widgets/base",
            "_model_module_version": "1.2.0",
            "_model_name": "LayoutModel",
            "_view_count": null,
            "_view_module": "@jupyter-widgets/base",
            "_view_module_version": "1.2.0",
            "_view_name": "LayoutView",
            "align_content": null,
            "align_items": null,
            "align_self": null,
            "border": null,
            "bottom": null,
            "display": null,
            "flex": null,
            "flex_flow": null,
            "grid_area": null,
            "grid_auto_columns": null,
            "grid_auto_flow": null,
            "grid_auto_rows": null,
            "grid_column": null,
            "grid_gap": null,
            "grid_row": null,
            "grid_template_areas": null,
            "grid_template_columns": null,
            "grid_template_rows": null,
            "height": null,
            "justify_content": null,
            "justify_items": null,
            "left": null,
            "margin": null,
            "max_height": null,
            "max_width": null,
            "min_height": null,
            "min_width": null,
            "object_fit": null,
            "object_position": null,
            "order": null,
            "overflow": null,
            "overflow_x": null,
            "overflow_y": null,
            "padding": null,
            "right": null,
            "top": null,
            "visibility": null,
            "width": null
          }
        },
        "d1da7b7a561e4c0590533ff74b91c163": {
          "model_module": "@jupyter-widgets/controls",
          "model_module_version": "1.5.0",
          "model_name": "HBoxModel",
          "state": {
            "_dom_classes": [],
            "_model_module": "@jupyter-widgets/controls",
            "_model_module_version": "1.5.0",
            "_model_name": "HBoxModel",
            "_view_count": null,
            "_view_module": "@jupyter-widgets/controls",
            "_view_module_version": "1.5.0",
            "_view_name": "HBoxView",
            "box_style": "",
            "children": [
              "IPY_MODEL_034d85113bce48f3beb73bd8f2e515cf",
              "IPY_MODEL_5a36cf9c67224dec99b492bbb2921306",
              "IPY_MODEL_93ccc5012e7b4c93bdc5001d877273d0"
            ],
            "layout": "IPY_MODEL_6d40d80c9ef244139bbb901e0c7bffb0"
          }
        },
        "e3e55f2bd2f348acaaa900605e797d09": {
          "model_module": "@jupyter-widgets/controls",
          "model_module_version": "1.5.0",
          "model_name": "DescriptionStyleModel",
          "state": {
            "_model_module": "@jupyter-widgets/controls",
            "_model_module_version": "1.5.0",
            "_model_name": "DescriptionStyleModel",
            "_view_count": null,
            "_view_module": "@jupyter-widgets/base",
            "_view_module_version": "1.2.0",
            "_view_name": "StyleView",
            "description_width": ""
          }
        },
        "e5360a088c66418a8570250eaeeb6af4": {
          "model_module": "@jupyter-widgets/controls",
          "model_module_version": "1.5.0",
          "model_name": "HBoxModel",
          "state": {
            "_dom_classes": [],
            "_model_module": "@jupyter-widgets/controls",
            "_model_module_version": "1.5.0",
            "_model_name": "HBoxModel",
            "_view_count": null,
            "_view_module": "@jupyter-widgets/controls",
            "_view_module_version": "1.5.0",
            "_view_name": "HBoxView",
            "box_style": "",
            "children": [
              "IPY_MODEL_40bf5f89fbd34ad19b4903335fd329b1",
              "IPY_MODEL_54ce808f2d534c5bbf170e549bc5bd7d",
              "IPY_MODEL_b6992dd26de44a5d85e26b5906c3b78b"
            ],
            "layout": "IPY_MODEL_843d78ed24cd44d98a6778eacebf05ed"
          }
        },
        "f145cacf993841948340dc5b00b2adae": {
          "model_module": "@jupyter-widgets/base",
          "model_module_version": "1.2.0",
          "model_name": "LayoutModel",
          "state": {
            "_model_module": "@jupyter-widgets/base",
            "_model_module_version": "1.2.0",
            "_model_name": "LayoutModel",
            "_view_count": null,
            "_view_module": "@jupyter-widgets/base",
            "_view_module_version": "1.2.0",
            "_view_name": "LayoutView",
            "align_content": null,
            "align_items": null,
            "align_self": null,
            "border": null,
            "bottom": null,
            "display": null,
            "flex": null,
            "flex_flow": null,
            "grid_area": null,
            "grid_auto_columns": null,
            "grid_auto_flow": null,
            "grid_auto_rows": null,
            "grid_column": null,
            "grid_gap": null,
            "grid_row": null,
            "grid_template_areas": null,
            "grid_template_columns": null,
            "grid_template_rows": null,
            "height": null,
            "justify_content": null,
            "justify_items": null,
            "left": null,
            "margin": null,
            "max_height": null,
            "max_width": null,
            "min_height": null,
            "min_width": null,
            "object_fit": null,
            "object_position": null,
            "order": null,
            "overflow": null,
            "overflow_x": null,
            "overflow_y": null,
            "padding": null,
            "right": null,
            "top": null,
            "visibility": null,
            "width": null
          }
        },
        "f42593a2ed124d199f0913cc34c5b650": {
          "model_module": "@jupyter-widgets/base",
          "model_module_version": "1.2.0",
          "model_name": "LayoutModel",
          "state": {
            "_model_module": "@jupyter-widgets/base",
            "_model_module_version": "1.2.0",
            "_model_name": "LayoutModel",
            "_view_count": null,
            "_view_module": "@jupyter-widgets/base",
            "_view_module_version": "1.2.0",
            "_view_name": "LayoutView",
            "align_content": null,
            "align_items": null,
            "align_self": null,
            "border": null,
            "bottom": null,
            "display": null,
            "flex": null,
            "flex_flow": null,
            "grid_area": null,
            "grid_auto_columns": null,
            "grid_auto_flow": null,
            "grid_auto_rows": null,
            "grid_column": null,
            "grid_gap": null,
            "grid_row": null,
            "grid_template_areas": null,
            "grid_template_columns": null,
            "grid_template_rows": null,
            "height": null,
            "justify_content": null,
            "justify_items": null,
            "left": null,
            "margin": null,
            "max_height": null,
            "max_width": null,
            "min_height": null,
            "min_width": null,
            "object_fit": null,
            "object_position": null,
            "order": null,
            "overflow": null,
            "overflow_x": null,
            "overflow_y": null,
            "padding": null,
            "right": null,
            "top": null,
            "visibility": null,
            "width": null
          }
        }
      }
    }
  },
  "nbformat": 4,
  "nbformat_minor": 5
}
