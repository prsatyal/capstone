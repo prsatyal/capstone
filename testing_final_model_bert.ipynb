{
  "nbformat": 4,
  "nbformat_minor": 0,
  "metadata": {
    "colab": {
      "provenance": [],
      "collapsed_sections": []
    },
    "kernelspec": {
      "name": "python3",
      "display_name": "Python 3"
    },
    "language_info": {
      "name": "python"
    }
  },
  "cells": [
    {
      "cell_type": "code",
      "execution_count": 1,
      "metadata": {
        "colab": {
          "base_uri": "https://localhost:8080/"
        },
        "id": "ZlI9tKOABfpQ",
        "outputId": "18a2c3d2-46df-40ff-ae02-ac7d2da3cafe"
      },
      "outputs": [
        {
          "output_type": "stream",
          "name": "stdout",
          "text": [
            "Looking in indexes: https://pypi.org/simple, https://us-python.pkg.dev/colab-wheels/public/simple/\n",
            "Collecting transformers\n",
            "  Downloading transformers-4.24.0-py3-none-any.whl (5.5 MB)\n",
            "\u001b[K     |████████████████████████████████| 5.5 MB 5.3 MB/s \n",
            "\u001b[?25hCollecting huggingface-hub<1.0,>=0.10.0\n",
            "  Downloading huggingface_hub-0.10.1-py3-none-any.whl (163 kB)\n",
            "\u001b[K     |████████████████████████████████| 163 kB 55.6 MB/s \n",
            "\u001b[?25hRequirement already satisfied: filelock in /usr/local/lib/python3.7/dist-packages (from transformers) (3.8.0)\n",
            "Requirement already satisfied: numpy>=1.17 in /usr/local/lib/python3.7/dist-packages (from transformers) (1.21.6)\n",
            "Requirement already satisfied: tqdm>=4.27 in /usr/local/lib/python3.7/dist-packages (from transformers) (4.64.1)\n",
            "Requirement already satisfied: packaging>=20.0 in /usr/local/lib/python3.7/dist-packages (from transformers) (21.3)\n",
            "Requirement already satisfied: pyyaml>=5.1 in /usr/local/lib/python3.7/dist-packages (from transformers) (6.0)\n",
            "Collecting tokenizers!=0.11.3,<0.14,>=0.11.1\n",
            "  Downloading tokenizers-0.13.2-cp37-cp37m-manylinux_2_17_x86_64.manylinux2014_x86_64.whl (7.6 MB)\n",
            "\u001b[K     |████████████████████████████████| 7.6 MB 39.5 MB/s \n",
            "\u001b[?25hRequirement already satisfied: requests in /usr/local/lib/python3.7/dist-packages (from transformers) (2.23.0)\n",
            "Requirement already satisfied: regex!=2019.12.17 in /usr/local/lib/python3.7/dist-packages (from transformers) (2022.6.2)\n",
            "Requirement already satisfied: importlib-metadata in /usr/local/lib/python3.7/dist-packages (from transformers) (4.13.0)\n",
            "Requirement already satisfied: typing-extensions>=3.7.4.3 in /usr/local/lib/python3.7/dist-packages (from huggingface-hub<1.0,>=0.10.0->transformers) (4.1.1)\n",
            "Requirement already satisfied: pyparsing!=3.0.5,>=2.0.2 in /usr/local/lib/python3.7/dist-packages (from packaging>=20.0->transformers) (3.0.9)\n",
            "Requirement already satisfied: zipp>=0.5 in /usr/local/lib/python3.7/dist-packages (from importlib-metadata->transformers) (3.10.0)\n",
            "Requirement already satisfied: urllib3!=1.25.0,!=1.25.1,<1.26,>=1.21.1 in /usr/local/lib/python3.7/dist-packages (from requests->transformers) (1.24.3)\n",
            "Requirement already satisfied: chardet<4,>=3.0.2 in /usr/local/lib/python3.7/dist-packages (from requests->transformers) (3.0.4)\n",
            "Requirement already satisfied: idna<3,>=2.5 in /usr/local/lib/python3.7/dist-packages (from requests->transformers) (2.10)\n",
            "Requirement already satisfied: certifi>=2017.4.17 in /usr/local/lib/python3.7/dist-packages (from requests->transformers) (2022.9.24)\n",
            "Installing collected packages: tokenizers, huggingface-hub, transformers\n",
            "Successfully installed huggingface-hub-0.10.1 tokenizers-0.13.2 transformers-4.24.0\n"
          ]
        }
      ],
      "source": [
        "!pip install transformers"
      ]
    },
    {
      "cell_type": "code",
      "source": [
        "from google.colab import drive\n",
        "drive.mount('/content/drive')"
      ],
      "metadata": {
        "colab": {
          "base_uri": "https://localhost:8080/"
        },
        "id": "9AhJu59lBjJJ",
        "outputId": "b80e03e5-bd72-4d84-a1c7-959f97ed6311"
      },
      "execution_count": 2,
      "outputs": [
        {
          "output_type": "stream",
          "name": "stdout",
          "text": [
            "Mounted at /content/drive\n"
          ]
        }
      ]
    },
    {
      "cell_type": "code",
      "source": [
        "from transformers import BertTokenizer, TFBertModel\n",
        "import tensorflow as tf\n",
        "import numpy as np\n",
        "from tensorflow.keras.models import load_model\n",
        "\n",
        "\n",
        "tokenizer = BertTokenizer.from_pretrained('bert-base-cased')\n",
        "labels_5=['Casual-Talk', 'Depression', 'Highly-Suicidal', 'Stressed', 'Suicide']\n",
        "\n",
        "max_length = 500 ## max length of text\n",
        "\n",
        "def prepare_data(input_text, tokenizer):\n",
        "    token = tokenizer.encode_plus(\n",
        "        input_text,\n",
        "        max_length=max_length, \n",
        "        truncation=True, \n",
        "        padding='max_length', \n",
        "        add_special_tokens=True,\n",
        "        return_tensors='tf'\n",
        "    )\n",
        "    return {\n",
        "        'input_token': tf.cast(token.input_ids, tf.float64),\n",
        "        'masked_token': tf.cast(token.attention_mask, tf.float64)\n",
        "    }\n",
        "\n",
        "def make_prediction(model, processed_data, classes=labels_5):\n",
        "    probs = model.predict(processed_data)[0]\n",
        "    return classes[np.argmax(probs)]\n"
      ],
      "metadata": {
        "id": "OZZObVYfBnBq"
      },
      "execution_count": 6,
      "outputs": []
    },
    {
      "cell_type": "code",
      "source": [
        "%cd \"/content/drive/MyDrive/Colab Notebooks/498-CAPSTONE/model\""
      ],
      "metadata": {
        "colab": {
          "base_uri": "https://localhost:8080/"
        },
        "id": "1gropLD0B4PV",
        "outputId": "e120f19c-dbaa-4423-c757-b7cc7832e5f6"
      },
      "execution_count": 7,
      "outputs": [
        {
          "output_type": "stream",
          "name": "stdout",
          "text": [
            "/content/drive/MyDrive/Colab Notebooks/498-CAPSTONE/model\n"
          ]
        }
      ]
    },
    {
      "cell_type": "code",
      "source": [
        "sentiment_model=load_model(\"LSTM_bert_model_epoch_11.00__val_loss_0.38__val_accuracy_0.88.h5\",\n",
        "                        custom_objects={'TFBertModel':TFBertModel})"
      ],
      "metadata": {
        "id": "aGc7Gik6B6UC"
      },
      "execution_count": 8,
      "outputs": []
    },
    {
      "cell_type": "code",
      "source": [],
      "metadata": {
        "id": "v4gxAl5DB9kt"
      },
      "execution_count": 8,
      "outputs": []
    },
    {
      "cell_type": "code",
      "execution_count": 9,
      "metadata": {
        "id": "9ac2696a",
        "colab": {
          "base_uri": "https://localhost:8080/"
        },
        "outputId": "6fc0e49b-4dbb-4a6e-b988-54a18c88b3d0"
      },
      "outputs": [
        {
          "output_type": "stream",
          "name": "stdout",
          "text": [
            "1/1 [==============================] - 8s 8s/step\n",
            "Predicted Sentiment: Suicide\n"
          ]
        }
      ],
      "source": [
        "input_text = (\"\"\"I don 't deserve to be alive. I don't want to face the trials of reality, which is obviously cowardice. \n",
        "I have let this cowardice envelop me, and I can't shake it off.\"\"\")\n",
        "\n",
        "\n",
        "processed_data = prepare_data(input_text, tokenizer)\n",
        "result = make_prediction(sentiment_model, processed_data=processed_data)\n",
        "print(f\"Predicted Sentiment: {result}\")"
      ]
    },
    {
      "cell_type": "code",
      "execution_count": 10,
      "metadata": {
        "id": "8a94fca6",
        "colab": {
          "base_uri": "https://localhost:8080/"
        },
        "outputId": "243da7c4-e54c-4099-c42d-b2cd2e5e599a"
      },
      "outputs": [
        {
          "output_type": "stream",
          "name": "stdout",
          "text": [
            "1/1 [==============================] - 2s 2s/step\n",
            "Predicted Sentiment: Suicide\n"
          ]
        }
      ],
      "source": [
        "input_text = (\"\"\"I will be - You lookup. Stars little lights  \n",
        "Little places where you Cannot live with your  Lungs and your skin But  with your heart. \n",
        "My little world will meet, Yours and yours mine.  My organs, though left Behind in the earth to become The trees, \n",
        "or to live and Be wanted in another's body, I will be there as Another dot to join the dots, So that when you look up, \n",
        "I will be there, and you know  I will be free.\"\"\")\n",
        "\n",
        "\n",
        "processed_data = prepare_data(input_text, tokenizer)\n",
        "result = make_prediction(sentiment_model, processed_data=processed_data)\n",
        "print(f\"Predicted Sentiment: {result}\")"
      ]
    },
    {
      "cell_type": "code",
      "execution_count": 11,
      "metadata": {
        "id": "889230a1",
        "colab": {
          "base_uri": "https://localhost:8080/"
        },
        "outputId": "29476544-eb47-4568-a453-baf39ce4311f"
      },
      "outputs": [
        {
          "output_type": "stream",
          "name": "stdout",
          "text": [
            "1/1 [==============================] - 2s 2s/step\n",
            "Predicted Sentiment: Suicide\n"
          ]
        }
      ],
      "source": [
        "input_text = (\"\"\"I guess I'm nothing more than another suicidal white girl, \n",
        "Just another first-world brat succumbing to society's perfect illusions \"\"\")\n",
        "\n",
        "\n",
        "processed_data = prepare_data(input_text, tokenizer)\n",
        "result = make_prediction(sentiment_model, processed_data=processed_data)\n",
        "print(f\"Predicted Sentiment: {result}\")"
      ]
    },
    {
      "cell_type": "code",
      "execution_count": 12,
      "metadata": {
        "id": "43247c30",
        "colab": {
          "base_uri": "https://localhost:8080/"
        },
        "outputId": "72e5377d-ca42-4d74-d035-d49e0776c8f9"
      },
      "outputs": [
        {
          "output_type": "stream",
          "name": "stdout",
          "text": [
            "1/1 [==============================] - 3s 3s/step\n",
            "Predicted Sentiment: Suicide\n"
          ]
        }
      ],
      "source": [
        "input_text = (\"We are each given a life. We're supposed to live it. I don 't. It's as simple as that It comes suddenly and then dissolves\")\n",
        "processed_data = prepare_data(input_text, tokenizer)\n",
        "result = make_prediction(sentiment_model, processed_data=processed_data)\n",
        "print(f\"Predicted Sentiment: {result}\")"
      ]
    },
    {
      "cell_type": "code",
      "execution_count": 13,
      "metadata": {
        "id": "e1ef9447",
        "colab": {
          "base_uri": "https://localhost:8080/"
        },
        "outputId": "97ab945a-e4a4-4c4e-a772-e2e9e0f4c0a2"
      },
      "outputs": [
        {
          "output_type": "stream",
          "name": "stdout",
          "text": [
            "1/1 [==============================] - 2s 2s/step\n",
            "Predicted Sentiment: Depression\n"
          ]
        }
      ],
      "source": [
        "input_text = (\"\"\"if I fail these exams, I know that my will be ruined and I can kiss University goodbye.\n",
        "I can kiss my life goodbye. All I want is to be a good psychologist. I can't do that without a proper degree and a Masters\"\"\")\n",
        "\n",
        "\n",
        "processed_data = prepare_data(input_text, tokenizer)\n",
        "result = make_prediction(sentiment_model, processed_data=processed_data)\n",
        "print(f\"Predicted Sentiment: {result}\")"
      ]
    },
    {
      "cell_type": "code",
      "execution_count": 14,
      "metadata": {
        "id": "60e7c9d9",
        "colab": {
          "base_uri": "https://localhost:8080/"
        },
        "outputId": "671afb04-c3c5-4fdc-e5f1-28cf03ff566b"
      },
      "outputs": [
        {
          "output_type": "stream",
          "name": "stdout",
          "text": [
            "1/1 [==============================] - 2s 2s/step\n",
            "Predicted Sentiment: Suicide\n"
          ]
        }
      ],
      "source": [
        "input_text = (\"i will die\")\n",
        "processed_data = prepare_data(input_text, tokenizer)\n",
        "result = make_prediction(sentiment_model, processed_data=processed_data)\n",
        "print(f\"Predicted Sentiment: {result}\")"
      ]
    },
    {
      "cell_type": "code",
      "source": [
        "input_text = (\"i failed my classes, i want to die\")\n",
        "processed_data = prepare_data(input_text, tokenizer)\n",
        "result = make_prediction(sentiment_model, processed_data=processed_data)\n",
        "print(f\"Predicted Sentiment: {result}\")"
      ],
      "metadata": {
        "colab": {
          "base_uri": "https://localhost:8080/"
        },
        "id": "Qp_awlf3A0G9",
        "outputId": "d1ee3061-731a-4de5-a9a9-d15e45d0b91d"
      },
      "execution_count": 15,
      "outputs": [
        {
          "output_type": "stream",
          "name": "stdout",
          "text": [
            "1/1 [==============================] - 2s 2s/step\n",
            "Predicted Sentiment: Suicide\n"
          ]
        }
      ]
    },
    {
      "cell_type": "code",
      "source": [
        "input_text = (\"if i fail my classes, i will die\")\n",
        "processed_data = prepare_data(input_text, tokenizer)\n",
        "result = make_prediction(sentiment_model, processed_data=processed_data)\n",
        "print(f\"Predicted Sentiment: {result}\")"
      ],
      "metadata": {
        "colab": {
          "base_uri": "https://localhost:8080/"
        },
        "id": "Huu9KHN8YSOV",
        "outputId": "d9a4b6fd-e524-4840-8af4-e831d8cf0fbb"
      },
      "execution_count": 16,
      "outputs": [
        {
          "output_type": "stream",
          "name": "stdout",
          "text": [
            "1/1 [==============================] - 2s 2s/step\n",
            "Predicted Sentiment: Suicide\n"
          ]
        }
      ]
    },
    {
      "cell_type": "code",
      "source": [
        "input_text = (\"i failed my classes, i want to die\")\n",
        "processed_data = prepare_data(input_text, tokenizer)\n",
        "result = make_prediction(sentiment_model, processed_data=processed_data)\n",
        "print(f\"Predicted Sentiment: {result}\")"
      ],
      "metadata": {
        "colab": {
          "base_uri": "https://localhost:8080/"
        },
        "id": "PVbTgvW7YWeN",
        "outputId": "e45a4b70-09a3-4ecb-db31-ec5fa5df4241"
      },
      "execution_count": 17,
      "outputs": [
        {
          "output_type": "stream",
          "name": "stdout",
          "text": [
            "1/1 [==============================] - 2s 2s/step\n",
            "Predicted Sentiment: Suicide\n"
          ]
        }
      ]
    },
    {
      "cell_type": "code",
      "source": [
        "input_text = (\"i forgot my car keys, i want to die\")\n",
        "processed_data = prepare_data(input_text, tokenizer)\n",
        "result = make_prediction(sentiment_model, processed_data=processed_data)\n",
        "print(f\"Predicted Sentiment: {result}\")"
      ],
      "metadata": {
        "colab": {
          "base_uri": "https://localhost:8080/"
        },
        "id": "1YC8ZdPkA5Ui",
        "outputId": "2ffa34e2-4410-4ab7-e106-fecc6aa0ad79"
      },
      "execution_count": 18,
      "outputs": [
        {
          "output_type": "stream",
          "name": "stdout",
          "text": [
            "1/1 [==============================] - 2s 2s/step\n",
            "Predicted Sentiment: Suicide\n"
          ]
        }
      ]
    },
    {
      "cell_type": "code",
      "execution_count": 19,
      "metadata": {
        "id": "43af8360",
        "colab": {
          "base_uri": "https://localhost:8080/"
        },
        "outputId": "e5bfcc9f-5757-4a70-ee34-5d78e3dca547"
      },
      "outputs": [
        {
          "output_type": "stream",
          "name": "stdout",
          "text": [
            "1/1 [==============================] - 2s 2s/step\n",
            "Predicted Sentiment: Suicide\n"
          ]
        }
      ],
      "source": [
        "input_text = (\"i want to die\")\n",
        "processed_data = prepare_data(input_text, tokenizer)\n",
        "result = make_prediction(sentiment_model, processed_data=processed_data)\n",
        "print(f\"Predicted Sentiment: {result}\")"
      ]
    },
    {
      "cell_type": "code",
      "execution_count": 20,
      "metadata": {
        "id": "ed1d34b0",
        "colab": {
          "base_uri": "https://localhost:8080/"
        },
        "outputId": "63b63dbd-3f8c-4388-a771-eb774de1d98a"
      },
      "outputs": [
        {
          "output_type": "stream",
          "name": "stdout",
          "text": [
            "1/1 [==============================] - 2s 2s/step\n",
            "Predicted Sentiment: Suicide\n"
          ]
        }
      ],
      "source": [
        "input_text = (\"i want to kill myself\")\n",
        "processed_data = prepare_data(input_text, tokenizer)\n",
        "result = make_prediction(sentiment_model, processed_data=processed_data)\n",
        "print(f\"Predicted Sentiment: {result}\")"
      ]
    },
    {
      "cell_type": "code",
      "execution_count": 21,
      "metadata": {
        "id": "55f72987",
        "colab": {
          "base_uri": "https://localhost:8080/"
        },
        "outputId": "141d911f-ff47-4a48-be6f-5b90d00345d8"
      },
      "outputs": [
        {
          "output_type": "stream",
          "name": "stdout",
          "text": [
            "1/1 [==============================] - 2s 2s/step\n",
            "Predicted Sentiment:    Suicide\n"
          ]
        }
      ],
      "source": [
        "# input_text = (\"i forgot my car keys, i will jump on the floor\")\n",
        "# input_text= (\"just die\")\n",
        "input_text =(\" i will jump out of the building\")\n",
        "processed_data = prepare_data(input_text, tokenizer)\n",
        "result = make_prediction(sentiment_model, processed_data=processed_data)\n",
        "print(f\"Predicted Sentiment:    {result}\")"
      ]
    },
    {
      "cell_type": "code",
      "source": [
        "input_text = (\"i forgot my car keys, i want to kill myself\")\n",
        "# input_text= (\"just die\")\n",
        "\n",
        "processed_data = prepare_data(input_text, tokenizer)\n",
        "result = make_prediction(sentiment_model, processed_data=processed_data)\n",
        "print(f\"Predicted Sentiment:    {result}\")"
      ],
      "metadata": {
        "colab": {
          "base_uri": "https://localhost:8080/"
        },
        "id": "HKQl8KY7BBxa",
        "outputId": "d9838b88-7249-4b2b-9792-00672cd15e84"
      },
      "execution_count": 22,
      "outputs": [
        {
          "output_type": "stream",
          "name": "stdout",
          "text": [
            "1/1 [==============================] - 2s 2s/step\n",
            "Predicted Sentiment:    Suicide\n"
          ]
        }
      ]
    },
    {
      "cell_type": "code",
      "source": [
        "input_text = (\"i forgot my car keys, i will jump off the building\")\n",
        "\n",
        "\n",
        "processed_data = prepare_data(input_text, tokenizer)\n",
        "result = make_prediction(sentiment_model, processed_data=processed_data)\n",
        "print(f\"Predicted Sentiment:    {result}\")"
      ],
      "metadata": {
        "colab": {
          "base_uri": "https://localhost:8080/"
        },
        "id": "d_Qos18L_auY",
        "outputId": "0e5328d2-e02a-4406-8608-f2b2f9167971"
      },
      "execution_count": 23,
      "outputs": [
        {
          "output_type": "stream",
          "name": "stdout",
          "text": [
            "1/1 [==============================] - 2s 2s/step\n",
            "Predicted Sentiment:    Suicide\n"
          ]
        }
      ]
    },
    {
      "cell_type": "code",
      "source": [
        "input_text = (\"i forgot my car keys, i will jump out of the window\")\n",
        "# input_text= (\"just die\")\n",
        "\n",
        "processed_data = prepare_data(input_text, tokenizer)\n",
        "result = make_prediction(sentiment_model, processed_data=processed_data)\n",
        "print(f\"Predicted Sentiment:    {result}\")"
      ],
      "metadata": {
        "colab": {
          "base_uri": "https://localhost:8080/"
        },
        "id": "-SRBbTtABLEz",
        "outputId": "74c6860b-9561-4c06-808b-9fc528239777"
      },
      "execution_count": 24,
      "outputs": [
        {
          "output_type": "stream",
          "name": "stdout",
          "text": [
            "1/1 [==============================] - 2s 2s/step\n",
            "Predicted Sentiment:    Suicide\n"
          ]
        }
      ]
    },
    {
      "cell_type": "code",
      "source": [
        "input_text = (\"i forgot my car keys, i want to die\")\n",
        "# input_text= (\"just die\")\n",
        "\n",
        "processed_data = prepare_data(input_text, tokenizer)\n",
        "result = make_prediction(sentiment_model, processed_data=processed_data)\n",
        "print(f\"Predicted Sentiment:    {result}\")"
      ],
      "metadata": {
        "colab": {
          "base_uri": "https://localhost:8080/"
        },
        "id": "zQVY2q5__d1v",
        "outputId": "f59346ca-404b-4df5-bdbe-23cc6ca9c4f2"
      },
      "execution_count": 25,
      "outputs": [
        {
          "output_type": "stream",
          "name": "stdout",
          "text": [
            "1/1 [==============================] - 2s 2s/step\n",
            "Predicted Sentiment:    Suicide\n"
          ]
        }
      ]
    },
    {
      "cell_type": "code",
      "source": [
        "input_text = (\"i forgot my car keys, i will die\")\n",
        "\n",
        "\n",
        "processed_data = prepare_data(input_text, tokenizer)\n",
        "result = make_prediction(sentiment_model, processed_data=processed_data)\n",
        "print(f\"Predicted Sentiment:    {result}\")"
      ],
      "metadata": {
        "colab": {
          "base_uri": "https://localhost:8080/"
        },
        "id": "CQlTIPTUZKf9",
        "outputId": "2b983acb-2df3-4e68-ce4d-4fafa440216f"
      },
      "execution_count": 26,
      "outputs": [
        {
          "output_type": "stream",
          "name": "stdout",
          "text": [
            "1/1 [==============================] - 2s 2s/step\n",
            "Predicted Sentiment:    Suicide\n"
          ]
        }
      ]
    },
    {
      "cell_type": "code",
      "execution_count": 27,
      "metadata": {
        "id": "98483777",
        "colab": {
          "base_uri": "https://localhost:8080/"
        },
        "outputId": "acddc4f8-80a9-4df4-b407-ce1bd22c4aa1"
      },
      "outputs": [
        {
          "output_type": "stream",
          "name": "stdout",
          "text": [
            "1/1 [==============================] - 2s 2s/step\n",
            "Predicted Sentiment:    Suicide\n"
          ]
        }
      ],
      "source": [
        "# input_text = (\"i forgot my car keys, i will jump on the floor\")\n",
        "# input_text= (\"just die\")\n",
        "input_text =(\"my partner broke up with me, i'm in hundered of thousands in debt, i dont have any alternative, i will jump out of the building\")\n",
        "processed_data = prepare_data(input_text, tokenizer)\n",
        "result = make_prediction(sentiment_model, processed_data=processed_data)\n",
        "print(f\"Predicted Sentiment:    {result}\")"
      ]
    },
    {
      "cell_type": "code",
      "execution_count": 28,
      "metadata": {
        "id": "f5bd8a6d",
        "colab": {
          "base_uri": "https://localhost:8080/"
        },
        "outputId": "369943eb-d4e8-434a-efcc-a8ae067eddbf"
      },
      "outputs": [
        {
          "output_type": "stream",
          "name": "stdout",
          "text": [
            "1/1 [==============================] - 2s 2s/step\n",
            "Predicted Sentiment:    Suicide\n"
          ]
        }
      ],
      "source": [
        "# input_text = (\" \")\n",
        "input_text= (\"just kill yourself\")\n",
        "\n",
        "processed_data = prepare_data(input_text, tokenizer)\n",
        "result = make_prediction(sentiment_model, processed_data=processed_data)\n",
        "print(f\"Predicted Sentiment:    {result}\")"
      ]
    },
    {
      "cell_type": "code",
      "execution_count": 29,
      "metadata": {
        "id": "5fa4d5fa",
        "colab": {
          "base_uri": "https://localhost:8080/"
        },
        "outputId": "d9c15f9a-1b03-44be-8c17-94c4ad4dbdf6"
      },
      "outputs": [
        {
          "output_type": "stream",
          "name": "stdout",
          "text": [
            "1/1 [==============================] - 4s 4s/step\n",
            "Predicted Sentiment: Suicide\n"
          ]
        }
      ],
      "source": [
        "input_text = (\"\"\"Despondency failure at not doing home work sooner, convinced that I was now a total failure, \n",
        "total lack of motivation, fears about the future\"\"\")\n",
        "\n",
        "processed_data = prepare_data(input_text, tokenizer)\n",
        "result = make_prediction(sentiment_model, processed_data=processed_data)\n",
        "print(f\"Predicted Sentiment: {result}\")"
      ]
    },
    {
      "cell_type": "code",
      "execution_count": 30,
      "metadata": {
        "id": "e69d2aca",
        "colab": {
          "base_uri": "https://localhost:8080/"
        },
        "outputId": "4c47a566-1ff4-4da8-9513-5c91d68f22f9"
      },
      "outputs": [
        {
          "output_type": "stream",
          "name": "stdout",
          "text": [
            "1/1 [==============================] - 2s 2s/step\n",
            "Predicted Sentiment: Suicide\n"
          ]
        }
      ],
      "source": [
        "\n",
        "\n",
        "input_text = (\"\"\"I taught two people the value of life, You will lose me. \n",
        "My god, it will destroy you. What I will do, will be unforgiveable. \n",
        "I will commit the worst thing you can ever do to someone who loves you: \n",
        "killing yourself The scary thing is, I'm okay with that I am not sad so much as gone\"\"\")\n",
        "\n",
        "\n",
        "processed_data = prepare_data(input_text, tokenizer)\n",
        "result = make_prediction(sentiment_model, processed_data=processed_data)\n",
        "print(f\"Predicted Sentiment: {result}\")"
      ]
    },
    {
      "cell_type": "code",
      "source": [
        "input_text= (\"\"\"My mom then hit me with the newspaper and it shocked me that she would do this, \n",
        "she knows I don't like play hitting, smacking, striking, hitting or violence of any sort on my person. \n",
        "Do I send out this vibe asking for it from the universe? Then yesterday I decided to take my friend to go help another friend move to a new place.\n",
        " While we were driving the friend we are moving strikes me on my shoulder. \n",
        " And I address it immediately because this is the 4th time I have told him not to do these things, \n",
        " then my other friend who is driving nearly gets into an collision with another car i think because he was high on marijuana and \n",
        " the friend we are moving in the backseat is like you have to understand I was just trying to get your attention you know the thing 5 \n",
        " year olds do to get peoples attention by smacking them, this guy is in his 60's.\"\"\")\n",
        "\n",
        "processed_data = prepare_data(input_text, tokenizer)\n",
        "result = make_prediction(sentiment_model, processed_data=processed_data)\n",
        "print(f\"Predicted Sentiment: {result}\")"
      ],
      "metadata": {
        "colab": {
          "base_uri": "https://localhost:8080/"
        },
        "id": "0-TSj8R2_0WM",
        "outputId": "0df9db27-fadf-4bc3-c519-0ba4269d376e"
      },
      "execution_count": 31,
      "outputs": [
        {
          "output_type": "stream",
          "name": "stdout",
          "text": [
            "1/1 [==============================] - 3s 3s/step\n",
            "Predicted Sentiment: Casual-Talk\n"
          ]
        }
      ]
    },
    {
      "cell_type": "code",
      "execution_count": 32,
      "metadata": {
        "id": "9243b20e",
        "colab": {
          "base_uri": "https://localhost:8080/"
        },
        "outputId": "1c7729dc-c986-45e0-82c3-01a9766ea6f9"
      },
      "outputs": [
        {
          "output_type": "stream",
          "name": "stdout",
          "text": [
            "1/1 [==============================] - 2s 2s/step\n",
            "Predicted Sentiment: Stressed\n"
          ]
        }
      ],
      "source": [
        "input_text=(\"\"\"Yesterday afternoon, two black males attacked me from behind, took my phone, \n",
        "and shoved me to the ground. The police came and did all the investigation he could and \n",
        "I came to my hotel I'm currently staying at 'I'm traveling right now-yes female solo travel can be dangerous lol',\n",
        " slightly scraped and shaken but no major injuries. The police weren't hopeful that they will get to find \n",
        " my phone with all of my not-backed up travel photos but at least I survived the day and I can get a new phone! \n",
        " Money doesn't concern me, I'm just really bugged that I won't have all of my photos from two-week travel. \n",
        " The thing is, I was scrolling through youtube to find phone reviews (so that I can get a new one and not regret it lol) \n",
        " and clicked on a video with a black male person showed up.\"\"\")\n",
        "\n",
        "processed_data = prepare_data(input_text, tokenizer)\n",
        "result = make_prediction(sentiment_model, processed_data=processed_data)\n",
        "print(f\"Predicted Sentiment: {result}\")\n"
      ]
    },
    {
      "cell_type": "code",
      "source": [],
      "metadata": {
        "id": "Ci5dEm89AibR"
      },
      "execution_count": 32,
      "outputs": []
    }
  ]
}