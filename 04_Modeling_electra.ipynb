{
  "cells": [
    {
      "cell_type": "code",
      "source": [
        "!pip install transformers\n",
        "!pip install termcolor\n",
        "!pip install mlxtend\n",
        "!pip install tqdm"
      ],
      "metadata": {
        "colab": {
          "base_uri": "https://localhost:8080/"
        },
        "id": "YCAHJNpcQVR7",
        "outputId": "9e951fc3-d6ba-4b01-9e42-57b51d8bd53c"
      },
      "id": "YCAHJNpcQVR7",
      "execution_count": 1,
      "outputs": [
        {
          "output_type": "stream",
          "name": "stdout",
          "text": [
            "Looking in indexes: https://pypi.org/simple, https://us-python.pkg.dev/colab-wheels/public/simple/\n",
            "Requirement already satisfied: transformers in /usr/local/lib/python3.7/dist-packages (4.24.0)\n",
            "Requirement already satisfied: numpy>=1.17 in /usr/local/lib/python3.7/dist-packages (from transformers) (1.21.6)\n",
            "Requirement already satisfied: tokenizers!=0.11.3,<0.14,>=0.11.1 in /usr/local/lib/python3.7/dist-packages (from transformers) (0.13.2)\n",
            "Requirement already satisfied: packaging>=20.0 in /usr/local/lib/python3.7/dist-packages (from transformers) (21.3)\n",
            "Requirement already satisfied: filelock in /usr/local/lib/python3.7/dist-packages (from transformers) (3.8.0)\n",
            "Requirement already satisfied: regex!=2019.12.17 in /usr/local/lib/python3.7/dist-packages (from transformers) (2022.6.2)\n",
            "Requirement already satisfied: huggingface-hub<1.0,>=0.10.0 in /usr/local/lib/python3.7/dist-packages (from transformers) (0.10.1)\n",
            "Requirement already satisfied: importlib-metadata in /usr/local/lib/python3.7/dist-packages (from transformers) (4.13.0)\n",
            "Requirement already satisfied: requests in /usr/local/lib/python3.7/dist-packages (from transformers) (2.23.0)\n",
            "Requirement already satisfied: tqdm>=4.27 in /usr/local/lib/python3.7/dist-packages (from transformers) (4.64.1)\n",
            "Requirement already satisfied: pyyaml>=5.1 in /usr/local/lib/python3.7/dist-packages (from transformers) (6.0)\n",
            "Requirement already satisfied: typing-extensions>=3.7.4.3 in /usr/local/lib/python3.7/dist-packages (from huggingface-hub<1.0,>=0.10.0->transformers) (4.1.1)\n",
            "Requirement already satisfied: pyparsing!=3.0.5,>=2.0.2 in /usr/local/lib/python3.7/dist-packages (from packaging>=20.0->transformers) (3.0.9)\n",
            "Requirement already satisfied: zipp>=0.5 in /usr/local/lib/python3.7/dist-packages (from importlib-metadata->transformers) (3.10.0)\n",
            "Requirement already satisfied: certifi>=2017.4.17 in /usr/local/lib/python3.7/dist-packages (from requests->transformers) (2022.9.24)\n",
            "Requirement already satisfied: urllib3!=1.25.0,!=1.25.1,<1.26,>=1.21.1 in /usr/local/lib/python3.7/dist-packages (from requests->transformers) (1.24.3)\n",
            "Requirement already satisfied: idna<3,>=2.5 in /usr/local/lib/python3.7/dist-packages (from requests->transformers) (2.10)\n",
            "Requirement already satisfied: chardet<4,>=3.0.2 in /usr/local/lib/python3.7/dist-packages (from requests->transformers) (3.0.4)\n",
            "Looking in indexes: https://pypi.org/simple, https://us-python.pkg.dev/colab-wheels/public/simple/\n",
            "Requirement already satisfied: termcolor in /usr/local/lib/python3.7/dist-packages (2.1.0)\n",
            "Looking in indexes: https://pypi.org/simple, https://us-python.pkg.dev/colab-wheels/public/simple/\n",
            "Requirement already satisfied: mlxtend in /usr/local/lib/python3.7/dist-packages (0.14.0)\n",
            "Requirement already satisfied: numpy>=1.10.4 in /usr/local/lib/python3.7/dist-packages (from mlxtend) (1.21.6)\n",
            "Requirement already satisfied: matplotlib>=1.5.1 in /usr/local/lib/python3.7/dist-packages (from mlxtend) (3.2.2)\n",
            "Requirement already satisfied: pandas>=0.17.1 in /usr/local/lib/python3.7/dist-packages (from mlxtend) (1.3.5)\n",
            "Requirement already satisfied: scipy>=0.17 in /usr/local/lib/python3.7/dist-packages (from mlxtend) (1.7.3)\n",
            "Requirement already satisfied: setuptools in /usr/local/lib/python3.7/dist-packages (from mlxtend) (57.4.0)\n",
            "Requirement already satisfied: scikit-learn>=0.18 in /usr/local/lib/python3.7/dist-packages (from mlxtend) (1.0.2)\n",
            "Requirement already satisfied: pyparsing!=2.0.4,!=2.1.2,!=2.1.6,>=2.0.1 in /usr/local/lib/python3.7/dist-packages (from matplotlib>=1.5.1->mlxtend) (3.0.9)\n",
            "Requirement already satisfied: cycler>=0.10 in /usr/local/lib/python3.7/dist-packages (from matplotlib>=1.5.1->mlxtend) (0.11.0)\n",
            "Requirement already satisfied: kiwisolver>=1.0.1 in /usr/local/lib/python3.7/dist-packages (from matplotlib>=1.5.1->mlxtend) (1.4.4)\n",
            "Requirement already satisfied: python-dateutil>=2.1 in /usr/local/lib/python3.7/dist-packages (from matplotlib>=1.5.1->mlxtend) (2.8.2)\n",
            "Requirement already satisfied: typing-extensions in /usr/local/lib/python3.7/dist-packages (from kiwisolver>=1.0.1->matplotlib>=1.5.1->mlxtend) (4.1.1)\n",
            "Requirement already satisfied: pytz>=2017.3 in /usr/local/lib/python3.7/dist-packages (from pandas>=0.17.1->mlxtend) (2022.6)\n",
            "Requirement already satisfied: six>=1.5 in /usr/local/lib/python3.7/dist-packages (from python-dateutil>=2.1->matplotlib>=1.5.1->mlxtend) (1.15.0)\n",
            "Requirement already satisfied: threadpoolctl>=2.0.0 in /usr/local/lib/python3.7/dist-packages (from scikit-learn>=0.18->mlxtend) (3.1.0)\n",
            "Requirement already satisfied: joblib>=0.11 in /usr/local/lib/python3.7/dist-packages (from scikit-learn>=0.18->mlxtend) (1.2.0)\n",
            "Looking in indexes: https://pypi.org/simple, https://us-python.pkg.dev/colab-wheels/public/simple/\n",
            "Requirement already satisfied: tqdm in /usr/local/lib/python3.7/dist-packages (4.64.1)\n"
          ]
        }
      ]
    },
    {
      "cell_type": "code",
      "execution_count": 2,
      "id": "edebc30c",
      "metadata": {
        "id": "edebc30c"
      },
      "outputs": [],
      "source": [
        "import pandas as pd\n",
        "import numpy as np\n",
        "\n",
        "#Data Visualization\n",
        "import matplotlib.pyplot as plt\n",
        "\n",
        "#Text Color\n",
        "from termcolor import colored\n",
        "\n",
        "#Train Test Split\n",
        "from sklearn.model_selection import train_test_split\n",
        "\n",
        "#Model Evaluation\n",
        "from sklearn.metrics import confusion_matrix, precision_score, recall_score, accuracy_score\n",
        "from mlxtend.plotting import plot_confusion_matrix\n",
        "\n",
        "#Deep Learning\n",
        "import tensorflow as tf\n",
        "from tensorflow.keras.models import Model, Sequential\n",
        "from tensorflow.keras.layers import Embedding, LSTM, Dense, Dropout, GlobalMaxPooling1D, Bidirectional\n",
        "from tensorflow.keras.preprocessing.text import Tokenizer\n",
        "from tensorflow.keras.optimizers import Adam\n",
        "from tensorflow.keras.preprocessing.sequence import pad_sequences\n",
        "from tensorflow.keras.callbacks import ModelCheckpoint, EarlyStopping\n",
        "from tensorflow.keras.utils import plot_model\n",
        "\n",
        "import keras\n",
        "\n",
        "from transformers import ElectraTokenizer, TFElectraForPreTraining\n",
        "\n",
        "from tqdm.auto import tqdm\n",
        "\n",
        "import pandas as pd\n",
        "import numpy as np"
      ]
    },
    {
      "cell_type": "code",
      "source": [
        "ssssfrom google.colab import drive\n",
        "drive.mount('/content/drive')\n"
      ],
      "metadata": {
        "colab": {
          "base_uri": "https://localhost:8080/"
        },
        "id": "TvC2-A1SQ-xb",
        "outputId": "f52ea47c-67ab-4358-e125-5206ad9ab3e0"
      },
      "id": "TvC2-A1SQ-xb",
      "execution_count": 3,
      "outputs": [
        {
          "output_type": "stream",
          "name": "stdout",
          "text": [
            "Drive already mounted at /content/drive; to attempt to forcibly remount, call drive.mount(\"/content/drive\", force_remount=True).\n"
          ]
        }
      ]
    },
    {
      "cell_type": "code",
      "source": [
        "%cd \"/content/drive/MyDrive/Colab Notebooks/498-CAPSTONE/Data/data_for_model\""
      ],
      "metadata": {
        "colab": {
          "base_uri": "https://localhost:8080/"
        },
        "id": "eJs4wXZdLtMM",
        "outputId": "e8960034-970c-42b9-8759-9edb64cdf8c5"
      },
      "id": "eJs4wXZdLtMM",
      "execution_count": 4,
      "outputs": [
        {
          "output_type": "stream",
          "name": "stdout",
          "text": [
            "/content/drive/MyDrive/Colab Notebooks/498-CAPSTONE/Data/data_for_model\n"
          ]
        }
      ]
    },
    {
      "cell_type": "code",
      "source": [
        "%ls"
      ],
      "metadata": {
        "colab": {
          "base_uri": "https://localhost:8080/"
        },
        "id": "ezvHIv9BLj8Q",
        "outputId": "cf297c16-a6c2-47c5-f70e-f3c36d2e0e10"
      },
      "id": "ezvHIv9BLj8Q",
      "execution_count": 5,
      "outputs": [
        {
          "output_type": "stream",
          "name": "stdout",
          "text": [
            "Final_data_model_no_stop_lement.csv  new_reduced_data_nov_1.csv\n",
            "new_reduced_data.csv\n"
          ]
        }
      ]
    },
    {
      "cell_type": "code",
      "execution_count": 6,
      "id": "22a78d7b",
      "metadata": {
        "colab": {
          "base_uri": "https://localhost:8080/",
          "height": 424
        },
        "id": "22a78d7b",
        "outputId": "ee61cc5a-3ea3-450d-96d0-341f6b080566"
      },
      "outputs": [
        {
          "output_type": "execute_result",
          "data": {
            "text/plain": [
              "                                            cleaned_text     class  \\\n",
              "0      what is the point see no point in doing life y...   suicide   \n",
              "1      had shotgun off safety in my mouth today i am ...   suicide   \n",
              "2      i am going to commit suicide within next few h...   suicide   \n",
              "3      depression and no one around be been dealing w...   suicide   \n",
              "4      nothing like seeing all the other posts around...   suicide   \n",
              "...                                                  ...       ...   \n",
              "17015  accounts incredibly overdue a life entirely un...  stressed   \n",
              "17016  hey so i come from a middle class family and s...  stressed   \n",
              "17017  but then i will get there and he will drop the...  stressed   \n",
              "17018  i do not have the ability to cope with it anym...  stressed   \n",
              "17019  i was talking to my mon this morning and she s...  stressed   \n",
              "\n",
              "       selftext_length  \n",
              "0                  282  \n",
              "1                  308  \n",
              "2                   76  \n",
              "3                  108  \n",
              "4                   25  \n",
              "...                ...  \n",
              "17015               28  \n",
              "17016               59  \n",
              "17017               77  \n",
              "17018               61  \n",
              "17019               24  \n",
              "\n",
              "[17020 rows x 3 columns]"
            ],
            "text/html": [
              "\n",
              "  <div id=\"df-b493fcbf-691e-4f93-80f8-b95e7393990f\">\n",
              "    <div class=\"colab-df-container\">\n",
              "      <div>\n",
              "<style scoped>\n",
              "    .dataframe tbody tr th:only-of-type {\n",
              "        vertical-align: middle;\n",
              "    }\n",
              "\n",
              "    .dataframe tbody tr th {\n",
              "        vertical-align: top;\n",
              "    }\n",
              "\n",
              "    .dataframe thead th {\n",
              "        text-align: right;\n",
              "    }\n",
              "</style>\n",
              "<table border=\"1\" class=\"dataframe\">\n",
              "  <thead>\n",
              "    <tr style=\"text-align: right;\">\n",
              "      <th></th>\n",
              "      <th>cleaned_text</th>\n",
              "      <th>class</th>\n",
              "      <th>selftext_length</th>\n",
              "    </tr>\n",
              "  </thead>\n",
              "  <tbody>\n",
              "    <tr>\n",
              "      <th>0</th>\n",
              "      <td>what is the point see no point in doing life y...</td>\n",
              "      <td>suicide</td>\n",
              "      <td>282</td>\n",
              "    </tr>\n",
              "    <tr>\n",
              "      <th>1</th>\n",
              "      <td>had shotgun off safety in my mouth today i am ...</td>\n",
              "      <td>suicide</td>\n",
              "      <td>308</td>\n",
              "    </tr>\n",
              "    <tr>\n",
              "      <th>2</th>\n",
              "      <td>i am going to commit suicide within next few h...</td>\n",
              "      <td>suicide</td>\n",
              "      <td>76</td>\n",
              "    </tr>\n",
              "    <tr>\n",
              "      <th>3</th>\n",
              "      <td>depression and no one around be been dealing w...</td>\n",
              "      <td>suicide</td>\n",
              "      <td>108</td>\n",
              "    </tr>\n",
              "    <tr>\n",
              "      <th>4</th>\n",
              "      <td>nothing like seeing all the other posts around...</td>\n",
              "      <td>suicide</td>\n",
              "      <td>25</td>\n",
              "    </tr>\n",
              "    <tr>\n",
              "      <th>...</th>\n",
              "      <td>...</td>\n",
              "      <td>...</td>\n",
              "      <td>...</td>\n",
              "    </tr>\n",
              "    <tr>\n",
              "      <th>17015</th>\n",
              "      <td>accounts incredibly overdue a life entirely un...</td>\n",
              "      <td>stressed</td>\n",
              "      <td>28</td>\n",
              "    </tr>\n",
              "    <tr>\n",
              "      <th>17016</th>\n",
              "      <td>hey so i come from a middle class family and s...</td>\n",
              "      <td>stressed</td>\n",
              "      <td>59</td>\n",
              "    </tr>\n",
              "    <tr>\n",
              "      <th>17017</th>\n",
              "      <td>but then i will get there and he will drop the...</td>\n",
              "      <td>stressed</td>\n",
              "      <td>77</td>\n",
              "    </tr>\n",
              "    <tr>\n",
              "      <th>17018</th>\n",
              "      <td>i do not have the ability to cope with it anym...</td>\n",
              "      <td>stressed</td>\n",
              "      <td>61</td>\n",
              "    </tr>\n",
              "    <tr>\n",
              "      <th>17019</th>\n",
              "      <td>i was talking to my mon this morning and she s...</td>\n",
              "      <td>stressed</td>\n",
              "      <td>24</td>\n",
              "    </tr>\n",
              "  </tbody>\n",
              "</table>\n",
              "<p>17020 rows × 3 columns</p>\n",
              "</div>\n",
              "      <button class=\"colab-df-convert\" onclick=\"convertToInteractive('df-b493fcbf-691e-4f93-80f8-b95e7393990f')\"\n",
              "              title=\"Convert this dataframe to an interactive table.\"\n",
              "              style=\"display:none;\">\n",
              "        \n",
              "  <svg xmlns=\"http://www.w3.org/2000/svg\" height=\"24px\"viewBox=\"0 0 24 24\"\n",
              "       width=\"24px\">\n",
              "    <path d=\"M0 0h24v24H0V0z\" fill=\"none\"/>\n",
              "    <path d=\"M18.56 5.44l.94 2.06.94-2.06 2.06-.94-2.06-.94-.94-2.06-.94 2.06-2.06.94zm-11 1L8.5 8.5l.94-2.06 2.06-.94-2.06-.94L8.5 2.5l-.94 2.06-2.06.94zm10 10l.94 2.06.94-2.06 2.06-.94-2.06-.94-.94-2.06-.94 2.06-2.06.94z\"/><path d=\"M17.41 7.96l-1.37-1.37c-.4-.4-.92-.59-1.43-.59-.52 0-1.04.2-1.43.59L10.3 9.45l-7.72 7.72c-.78.78-.78 2.05 0 2.83L4 21.41c.39.39.9.59 1.41.59.51 0 1.02-.2 1.41-.59l7.78-7.78 2.81-2.81c.8-.78.8-2.07 0-2.86zM5.41 20L4 18.59l7.72-7.72 1.47 1.35L5.41 20z\"/>\n",
              "  </svg>\n",
              "      </button>\n",
              "      \n",
              "  <style>\n",
              "    .colab-df-container {\n",
              "      display:flex;\n",
              "      flex-wrap:wrap;\n",
              "      gap: 12px;\n",
              "    }\n",
              "\n",
              "    .colab-df-convert {\n",
              "      background-color: #E8F0FE;\n",
              "      border: none;\n",
              "      border-radius: 50%;\n",
              "      cursor: pointer;\n",
              "      display: none;\n",
              "      fill: #1967D2;\n",
              "      height: 32px;\n",
              "      padding: 0 0 0 0;\n",
              "      width: 32px;\n",
              "    }\n",
              "\n",
              "    .colab-df-convert:hover {\n",
              "      background-color: #E2EBFA;\n",
              "      box-shadow: 0px 1px 2px rgba(60, 64, 67, 0.3), 0px 1px 3px 1px rgba(60, 64, 67, 0.15);\n",
              "      fill: #174EA6;\n",
              "    }\n",
              "\n",
              "    [theme=dark] .colab-df-convert {\n",
              "      background-color: #3B4455;\n",
              "      fill: #D2E3FC;\n",
              "    }\n",
              "\n",
              "    [theme=dark] .colab-df-convert:hover {\n",
              "      background-color: #434B5C;\n",
              "      box-shadow: 0px 1px 3px 1px rgba(0, 0, 0, 0.15);\n",
              "      filter: drop-shadow(0px 1px 2px rgba(0, 0, 0, 0.3));\n",
              "      fill: #FFFFFF;\n",
              "    }\n",
              "  </style>\n",
              "\n",
              "      <script>\n",
              "        const buttonEl =\n",
              "          document.querySelector('#df-b493fcbf-691e-4f93-80f8-b95e7393990f button.colab-df-convert');\n",
              "        buttonEl.style.display =\n",
              "          google.colab.kernel.accessAllowed ? 'block' : 'none';\n",
              "\n",
              "        async function convertToInteractive(key) {\n",
              "          const element = document.querySelector('#df-b493fcbf-691e-4f93-80f8-b95e7393990f');\n",
              "          const dataTable =\n",
              "            await google.colab.kernel.invokeFunction('convertToInteractive',\n",
              "                                                     [key], {});\n",
              "          if (!dataTable) return;\n",
              "\n",
              "          const docLinkHtml = 'Like what you see? Visit the ' +\n",
              "            '<a target=\"_blank\" href=https://colab.research.google.com/notebooks/data_table.ipynb>data table notebook</a>'\n",
              "            + ' to learn more about interactive tables.';\n",
              "          element.innerHTML = '';\n",
              "          dataTable['output_type'] = 'display_data';\n",
              "          await google.colab.output.renderOutput(dataTable, element);\n",
              "          const docLink = document.createElement('div');\n",
              "          docLink.innerHTML = docLinkHtml;\n",
              "          element.appendChild(docLink);\n",
              "        }\n",
              "      </script>\n",
              "    </div>\n",
              "  </div>\n",
              "  "
            ]
          },
          "metadata": {},
          "execution_count": 6
        }
      ],
      "source": [
        "df=pd.read_csv(\"Final_data_model_no_stop_lement.csv\")\n",
        "df"
      ]
    },
    {
      "cell_type": "code",
      "execution_count": 7,
      "id": "b9c48b29",
      "metadata": {
        "id": "b9c48b29"
      },
      "outputs": [],
      "source": [
        "df=df.dropna()\n",
        "df=df.reset_index(drop=True)"
      ]
    },
    {
      "cell_type": "code",
      "execution_count": 8,
      "id": "ad3ca607",
      "metadata": {
        "colab": {
          "base_uri": "https://localhost:8080/"
        },
        "id": "ad3ca607",
        "outputId": "b6f9cb28-c813-483a-9f7e-466051912477"
      },
      "outputs": [
        {
          "output_type": "execute_result",
          "data": {
            "text/plain": [
              "suicide          10162\n",
              "depression        4338\n",
              "stressed          1486\n",
              "casual-talk       1018\n",
              "high-suicidal       16\n",
              "Name: class, dtype: int64"
            ]
          },
          "metadata": {},
          "execution_count": 8
        }
      ],
      "source": [
        "df[\"class\"].value_counts()"
      ]
    },
    {
      "cell_type": "code",
      "execution_count": 8,
      "id": "5a7596dd",
      "metadata": {
        "id": "5a7596dd"
      },
      "outputs": [],
      "source": []
    },
    {
      "cell_type": "code",
      "execution_count": 9,
      "id": "41c16dd4",
      "metadata": {
        "colab": {
          "base_uri": "https://localhost:8080/"
        },
        "id": "41c16dd4",
        "outputId": "cecd1374-7b33-4abe-a308-60dea083d83b"
      },
      "outputs": [
        {
          "output_type": "execute_result",
          "data": {
            "text/plain": [
              "982"
            ]
          },
          "metadata": {},
          "execution_count": 9
        }
      ],
      "source": [
        "text_data= df['cleaned_text'].astype(str)\n",
        "\n",
        "max_len=text_data.map(lambda x: len(x.split())).max()\n",
        "\n",
        "\n",
        "\n",
        "max_len"
      ]
    },
    {
      "cell_type": "code",
      "execution_count": 10,
      "id": "1754bf0d",
      "metadata": {
        "colab": {
          "base_uri": "https://localhost:8080/"
        },
        "id": "1754bf0d",
        "outputId": "273b57cf-b32a-4580-aa84-98075a7bec1c"
      },
      "outputs": [
        {
          "output_type": "execute_result",
          "data": {
            "text/plain": [
              "count    17020.000000\n",
              "mean       128.089307\n",
              "std        107.045258\n",
              "min          3.000000\n",
              "25%         50.000000\n",
              "50%         95.000000\n",
              "75%        178.000000\n",
              "max        982.000000\n",
              "Name: selftext_length, dtype: float64"
            ]
          },
          "metadata": {},
          "execution_count": 10
        }
      ],
      "source": [
        "df[\"selftext_length\"]= [len(df[\"cleaned_text\"][i].split()) for i in range(len(df))]\n",
        "df[\"selftext_length\"].describe()\n",
        "\n"
      ]
    },
    {
      "cell_type": "code",
      "execution_count": 11,
      "id": "10784002",
      "metadata": {
        "colab": {
          "base_uri": "https://localhost:8080/"
        },
        "id": "10784002",
        "outputId": "0b076b25-3625-45c9-a5f1-44381273d2ad"
      },
      "outputs": [
        {
          "output_type": "execute_result",
          "data": {
            "text/plain": [
              "depression    110\n",
              "suicide         2\n",
              "Name: class, dtype: int64"
            ]
          },
          "metadata": {},
          "execution_count": 11
        }
      ],
      "source": [
        "dd=df[df[\"selftext_length\"]>=500]\n",
        "dd[\"class\"].value_counts()\n",
        "\n"
      ]
    },
    {
      "cell_type": "code",
      "execution_count": 12,
      "id": "c9ed6912",
      "metadata": {
        "id": "c9ed6912"
      },
      "outputs": [],
      "source": [
        "data=pd.DataFrame()\n",
        "data[\"X\"]=df[\"cleaned_text\"].astype(str)\n",
        "data[\"Y\"]=df['class']"
      ]
    },
    {
      "cell_type": "code",
      "execution_count": 13,
      "id": "c47d454d",
      "metadata": {
        "id": "c47d454d"
      },
      "outputs": [],
      "source": [
        "train_df,test_df= train_test_split(data,\n",
        "                                   train_size=0.70, \n",
        "                                   shuffle=True, \n",
        "                                   random_state=42, \n",
        "                                   stratify=data[\"Y\"])"
      ]
    },
    {
      "cell_type": "code",
      "execution_count": 14,
      "id": "429633f1",
      "metadata": {
        "id": "429633f1"
      },
      "outputs": [],
      "source": [
        "from sklearn.preprocessing import LabelEncoder\n",
        "le = LabelEncoder()\n",
        "\n",
        "train_df['Sentiment_label'] = le.fit_transform(train_df['Y'])\n",
        "test_df['Sentiment_label'] = le.transform(test_df['Y'])\n"
      ]
    },
    {
      "cell_type": "code",
      "execution_count": 15,
      "id": "50b58a6f",
      "metadata": {
        "colab": {
          "base_uri": "https://localhost:8080/"
        },
        "id": "50b58a6f",
        "outputId": "1b025837-b1b7-440c-f576-3dd91af1745c"
      },
      "outputs": [
        {
          "output_type": "stream",
          "name": "stdout",
          "text": [
            "0 casual-talk\n",
            "1 depression\n",
            "2 high-suicidal\n",
            "3 stressed\n",
            "4 suicide\n"
          ]
        }
      ],
      "source": [
        "label_dict = (test_df[['Y','Sentiment_label']].drop_duplicates()\n",
        "              .sort_values(by='Sentiment_label')\n",
        "              .reset_index(drop=True)['Y']\n",
        "              .to_dict())\n",
        "\n",
        "for index, key in label_dict.items():\n",
        "    print(index, key)"
      ]
    },
    {
      "cell_type": "code",
      "source": [
        "labels_5 = ['Casual-Talk','Depression','Highly-Suicidal',\"Stressed\",\"Suicide\"]"
      ],
      "metadata": {
        "id": "12RnPsyeOLTD"
      },
      "id": "12RnPsyeOLTD",
      "execution_count": 16,
      "outputs": []
    },
    {
      "cell_type": "code",
      "execution_count": 17,
      "id": "c3369707",
      "metadata": {
        "colab": {
          "base_uri": "https://localhost:8080/"
        },
        "id": "c3369707",
        "outputId": "989e4c4b-73b3-49ec-d1a5-7024533af197"
      },
      "outputs": [
        {
          "output_type": "execute_result",
          "data": {
            "text/plain": [
              "11914"
            ]
          },
          "metadata": {},
          "execution_count": 17
        }
      ],
      "source": [
        "len(train_df)"
      ]
    },
    {
      "cell_type": "code",
      "execution_count": 18,
      "id": "a355d46e",
      "metadata": {
        "id": "a355d46e"
      },
      "outputs": [],
      "source": [
        "x_train = train_df['X']\n",
        "y_train = train_df['Sentiment_label']"
      ]
    },
    {
      "cell_type": "code",
      "execution_count": 19,
      "id": "48038b3b",
      "metadata": {
        "colab": {
          "base_uri": "https://localhost:8080/"
        },
        "id": "48038b3b",
        "outputId": "095bca56-713b-49c5-844c-fad6cc7d5af5"
      },
      "outputs": [
        {
          "output_type": "stream",
          "name": "stdout",
          "text": [
            "5106 testing examples\n"
          ]
        }
      ],
      "source": [
        "x_test = test_df['X']\n",
        "y_test = test_df['Sentiment_label']\n",
        "print(f\"{len(x_test)} testing examples\")"
      ]
    },
    {
      "cell_type": "markdown",
      "id": "e26ebe5b",
      "metadata": {
        "id": "e26ebe5b"
      },
      "source": [
        "## Naive Bayes (Baseline Model)"
      ]
    },
    {
      "cell_type": "code",
      "execution_count": 20,
      "id": "2cd90f67",
      "metadata": {
        "id": "2cd90f67"
      },
      "outputs": [],
      "source": [
        "from sklearn.feature_extraction.text import TfidfVectorizer\n",
        "from sklearn.naive_bayes import MultinomialNB\n",
        "from sklearn.pipeline import make_pipeline\n",
        "\n",
        "from sklearn.model_selection import train_test_split\n",
        "\n",
        "from sklearn.metrics import confusion_matrix, precision_score, recall_score, accuracy_score, classification_report, confusion_matrix\n",
        "from mlxtend.plotting import plot_confusion_matrix"
      ]
    },
    {
      "cell_type": "code",
      "execution_count": 21,
      "id": "2f20baa9",
      "metadata": {
        "id": "2f20baa9"
      },
      "outputs": [],
      "source": [
        "model = make_pipeline(TfidfVectorizer(), MultinomialNB())\n",
        "model.fit(x_train, y_train)\n",
        "\n",
        "### Make predictions\n",
        "y_hat = model.predict(x_test)"
      ]
    },
    {
      "cell_type": "code",
      "execution_count": 22,
      "id": "b86777f0",
      "metadata": {
        "scrolled": true,
        "colab": {
          "base_uri": "https://localhost:8080/",
          "height": 408
        },
        "id": "b86777f0",
        "outputId": "e3cf31b7-caa5-4b1a-f0a5-bd8709eae72c"
      },
      "outputs": [
        {
          "output_type": "stream",
          "name": "stdout",
          "text": [
            "Accuracy: 0.6388562475518997\n"
          ]
        },
        {
          "output_type": "display_data",
          "data": {
            "text/plain": [
              "<Figure size 432x288 with 2 Axes>"
            ],
            "image/png": "[encoded data removed]"
          },
          "metadata": {}
        }
      ],
      "source": [
        "import seaborn as sns\n",
        "print(\"Accuracy:\", accuracy_score(y_test, y_hat))\n",
        "labels_5 = ['Casual-Talk','Depression','Highly-Suicidal',\"Stressed\",\"Suicide\"]\n",
        "\n",
        "def print_cf1(y_test, y_hat):\n",
        "    cm = confusion_matrix(y_test, y_hat)\n",
        "    sns.set(font_scale = 1.4, color_codes=True, palette=\"deep\")\n",
        "    sns.heatmap(pd.DataFrame(cm, index=labels_5,columns=[0,1,2,3,4]), \n",
        "                annot = True,\n",
        "                annot_kws = {\"size\":16},\n",
        "                fmt=\"d\",\n",
        "                cmap=\"YlGnBu\")\n",
        "    plt.title(\"Confusion Matrix\")\n",
        "    plt.xlabel(\"Predicted Value\")\n",
        "    plt.xticks([0,1,2,3,4], labels_5, rotation=45)\n",
        "    plt.ylabel(\"True Value\")\n",
        "    plt.show()\n",
        "    \n",
        "print_cf1(y_test, y_hat)"
      ]
    },
    {
      "cell_type": "code",
      "execution_count": 23,
      "id": "a9075e36",
      "metadata": {
        "colab": {
          "base_uri": "https://localhost:8080/"
        },
        "id": "a9075e36",
        "outputId": "40d03aa4-e36a-4b9a-eac5-2c7e017db984"
      },
      "outputs": [
        {
          "output_type": "stream",
          "name": "stdout",
          "text": [
            "                 precision    recall  f1-score   support\n",
            "\n",
            "    Casual-Talk       1.00      0.00      0.01       305\n",
            "     Depression       0.96      0.17      0.28      1301\n",
            "Highly-Suicidal       0.00      0.00      0.00         5\n",
            "       Stressed       0.00      0.00      0.00       446\n",
            "        Suicide       0.62      1.00      0.77      3049\n",
            "\n",
            "       accuracy                           0.64      5106\n",
            "      macro avg       0.52      0.23      0.21      5106\n",
            "   weighted avg       0.68      0.64      0.53      5106\n",
            "\n"
          ]
        },
        {
          "output_type": "stream",
          "name": "stderr",
          "text": [
            "/usr/local/lib/python3.7/dist-packages/sklearn/metrics/_classification.py:1318: UndefinedMetricWarning: Precision and F-score are ill-defined and being set to 0.0 in labels with no predicted samples. Use `zero_division` parameter to control this behavior.\n",
            "  _warn_prf(average, modifier, msg_start, len(result))\n",
            "/usr/local/lib/python3.7/dist-packages/sklearn/metrics/_classification.py:1318: UndefinedMetricWarning: Precision and F-score are ill-defined and being set to 0.0 in labels with no predicted samples. Use `zero_division` parameter to control this behavior.\n",
            "  _warn_prf(average, modifier, msg_start, len(result))\n",
            "/usr/local/lib/python3.7/dist-packages/sklearn/metrics/_classification.py:1318: UndefinedMetricWarning: Precision and F-score are ill-defined and being set to 0.0 in labels with no predicted samples. Use `zero_division` parameter to control this behavior.\n",
            "  _warn_prf(average, modifier, msg_start, len(result))\n"
          ]
        }
      ],
      "source": [
        "print(classification_report(y_test, y_hat, target_names=labels_5))"
      ]
    },
    {
      "cell_type": "code",
      "execution_count": 23,
      "id": "778d5ead",
      "metadata": {
        "id": "778d5ead"
      },
      "outputs": [],
      "source": []
    },
    {
      "cell_type": "code",
      "execution_count": 24,
      "id": "35b31c3c",
      "metadata": {
        "id": "35b31c3c"
      },
      "outputs": [],
      "source": [
        "import keras\n",
        "from sklearn.preprocessing import LabelEncoder\n",
        "from sklearn.pipeline import Pipeline\n",
        "from keras.utils.np_utils import to_categorical\n",
        "\n",
        "### Converting Y to Categorical\n",
        "\n",
        "# Y = keras.utils.to_categorical(Y, num_classes)\n",
        "# labels = Y"
      ]
    },
    {
      "cell_type": "code",
      "execution_count": 25,
      "id": "70a85aed",
      "metadata": {
        "id": "70a85aed"
      },
      "outputs": [],
      "source": [
        "# from sklearn.model_selection import train_test_split\n",
        "# x_train, x_test, y_train, y_test = train_test_split(X, Y, \n",
        "#                                                     test_size=0.30, shuffle=True, random_state=42, stratify=Y)"
      ]
    },
    {
      "cell_type": "markdown",
      "id": "2b6bdea0",
      "metadata": {
        "id": "2b6bdea0"
      },
      "source": [
        "## Electra"
      ]
    },
    {
      "cell_type": "code",
      "execution_count": 26,
      "id": "da9515bc",
      "metadata": {
        "id": "da9515bc"
      },
      "outputs": [],
      "source": [
        "max_length=500\n",
        "\n",
        "MAX_LENGTH=max_length\n",
        "max_len=max_length\n",
        "maxlen=max_len"
      ]
    },
    {
      "cell_type": "code",
      "execution_count": 27,
      "id": "bc61a6d0",
      "metadata": {
        "id": "bc61a6d0"
      },
      "outputs": [],
      "source": [
        "from transformers import AutoTokenizer, AutoModel"
      ]
    },
    {
      "cell_type": "code",
      "execution_count": 28,
      "id": "47341f28",
      "metadata": {
        "id": "47341f28"
      },
      "outputs": [],
      "source": [
        "# tokenizer = ElectraTokenizer.from_pretrained(\"google/electra-small-discriminator\")"
      ]
    },
    {
      "cell_type": "code",
      "execution_count": 29,
      "id": "6fab6dd8",
      "metadata": {
        "id": "6fab6dd8"
      },
      "outputs": [],
      "source": [
        "tokenizer = ElectraTokenizer.from_pretrained(\"google/electra-base-discriminator\")\n"
      ]
    },
    {
      "cell_type": "code",
      "execution_count": 30,
      "id": "96b6ccad",
      "metadata": {
        "id": "96b6ccad"
      },
      "outputs": [],
      "source": [
        "\n",
        "def tokenize(sentences, tokenizer):\n",
        "    input_ids, input_masks, input_segments = [], [], []\n",
        "    for sentence in tqdm(sentences):\n",
        "        inputs = tokenizer.encode_plus(sentence, \n",
        "                                       add_special_tokens=True, \n",
        "                                       max_length=MAX_LENGTH, \n",
        "                                       pad_to_max_length=True, \n",
        "                                       return_attention_mask=True, \n",
        "                                       return_token_type_ids=True, \n",
        "                                       truncation=True)\n",
        "        input_ids.append(inputs['input_ids'])\n",
        "        input_masks.append(inputs['attention_mask'])\n",
        "        input_segments.append(inputs['token_type_ids'])        \n",
        "        \n",
        "    return np.asarray(input_ids, dtype='int32'), np.asarray(input_masks, dtype='int32')"
      ]
    },
    {
      "cell_type": "code",
      "execution_count": 31,
      "id": "a3c42df9",
      "metadata": {
        "colab": {
          "base_uri": "https://localhost:8080/",
          "height": 136,
          "referenced_widgets": [
            "7cb7fb5f39094d1aa3093f36f5a6fcfa",
            "4562cbee5ca14706bd167392f08ffe91",
            "22f1dae4bc044ea7ace3a38bb6606fe2",
            "54f4c540e6d44c22baa881aba4d417f1",
            "ed803e2c907a4624b37e8f6bd8c80ad9",
            "20e90718f6724ca1ab695446eb2e3e8f",
            "7e40035fe1e14f45bd3b6f8ef662ea13",
            "9401368a54bc4c34b4aad05091212a10",
            "b166600b5e4949b4ab37e6515820b794",
            "245aa99743084377912824a57c9e1786",
            "1073cb4d343641bb9f8ab789f11c8fb1",
            "77cc84c98b0347249535885fada3fd72",
            "39da9491c0724f0a8190061dfab2fd9c",
            "244f9f8a720d437c864bc49e5039ba86",
            "913dc3f551f64fb2888a24508ccff9c3",
            "aee9570062aa4c8ba31a516ef1ca279e",
            "e005e4abe7c249d69ccbdb9ee8a9a75d",
            "455af5e6f80d4e19b8e5a30941fe22e3",
            "d74bf2fa01474ecbb70171b9839a44c7",
            "f212960656e24ed090fb8c9d5c87c073",
            "be05f5c956fc4426adbb3584af3c46d1",
            "bcaa125be13e41368e92e7749776eba1"
          ]
        },
        "id": "a3c42df9",
        "outputId": "75f1a2a5-76e4-4ebc-bb78-ffc7cf57961d"
      },
      "outputs": [
        {
          "output_type": "display_data",
          "data": {
            "text/plain": [
              "  0%|          | 0/11914 [00:00<?, ?it/s]"
            ],
            "application/vnd.jupyter.widget-view+json": {
              "version_major": 2,
              "version_minor": 0,
              "model_id": "7cb7fb5f39094d1aa3093f36f5a6fcfa"
            }
          },
          "metadata": {}
        },
        {
          "output_type": "stream",
          "name": "stderr",
          "text": [
            "/usr/local/lib/python3.7/dist-packages/transformers/tokenization_utils_base.py:2310: FutureWarning: The `pad_to_max_length` argument is deprecated and will be removed in a future version, use `padding=True` or `padding='longest'` to pad to the longest sequence in the batch, or use `padding='max_length'` to pad to a max length. In this case, you can give a specific length with `max_length` (e.g. `max_length=45`) or leave max_length to None to pad to the maximal input size of the model (e.g. 512 for Bert).\n",
            "  FutureWarning,\n"
          ]
        },
        {
          "output_type": "display_data",
          "data": {
            "text/plain": [
              "  0%|          | 0/5106 [00:00<?, ?it/s]"
            ],
            "application/vnd.jupyter.widget-view+json": {
              "version_major": 2,
              "version_minor": 0,
              "model_id": "77cc84c98b0347249535885fada3fd72"
            }
          },
          "metadata": {}
        }
      ],
      "source": [
        "X_train = tokenize(x_train, tokenizer)\n",
        "X_test = tokenize(x_test, tokenizer)"
      ]
    },
    {
      "cell_type": "code",
      "execution_count": 31,
      "id": "b879ab4c",
      "metadata": {
        "id": "b879ab4c"
      },
      "outputs": [],
      "source": []
    },
    {
      "cell_type": "markdown",
      "id": "a3193df0",
      "metadata": {
        "id": "a3193df0"
      },
      "source": [
        "## Building Model"
      ]
    },
    {
      "cell_type": "code",
      "execution_count": 32,
      "id": "60c1fb71",
      "metadata": {
        "id": "60c1fb71"
      },
      "outputs": [],
      "source": [
        "from transformers import TFElectraModel, ElectraConfig, AutoConfig"
      ]
    },
    {
      "cell_type": "code",
      "execution_count": 33,
      "id": "af0d90da",
      "metadata": {
        "id": "af0d90da"
      },
      "outputs": [],
      "source": [
        "#  \"google/electra-small-generator\",\n",
        "#   \"google/electra-base-generator\",\n",
        "#   \"google/electra-large-generator\",\n",
        "#   \"google/electra-small-discriminator\",\n",
        "#   \"google/electra-base-discriminator\",\n",
        "#   \"google/electra-large-discriminator\""
      ]
    },
    {
      "cell_type": "code",
      "execution_count": 44,
      "id": "19c1535a",
      "metadata": {
        "colab": {
          "base_uri": "https://localhost:8080/"
        },
        "id": "19c1535a",
        "outputId": "042ba08f-19f8-4bc3-a8de-0f904d167fe7"
      },
      "outputs": [
        {
          "output_type": "stream",
          "name": "stderr",
          "text": [
            "Some layers from the model checkpoint at google/electra-base-discriminator were not used when initializing TFElectraModel: ['discriminator_predictions']\n",
            "- This IS expected if you are initializing TFElectraModel from the checkpoint of a model trained on another task or with another architecture (e.g. initializing a BertForSequenceClassification model from a BertForPreTraining model).\n",
            "- This IS NOT expected if you are initializing TFElectraModel from the checkpoint of a model that you expect to be exactly identical (initializing a BertForSequenceClassification model from a BertForSequenceClassification model).\n",
            "All the layers of TFElectraModel were initialized from the model checkpoint at google/electra-base-discriminator.\n",
            "If your task is similar to the task the model of the checkpoint was trained on, you can already use TFElectraModel for predictions without further training.\n"
          ]
        },
        {
          "output_type": "stream",
          "name": "stdout",
          "text": [
            "Model: \"model_1\"\n",
            "__________________________________________________________________________________________________\n",
            " Layer (type)                   Output Shape         Param #     Connected to                     \n",
            "==================================================================================================\n",
            " input_token (InputLayer)       [(None, 500)]        0           []                               \n",
            "                                                                                                  \n",
            " masked_token (InputLayer)      [(None, 500)]        0           []                               \n",
            "                                                                                                  \n",
            " electra (TFElectraMainLayer)   TFBaseModelOutputWi  108891648   ['input_token[0][0]',            \n",
            "                                thPastAndCrossAtten               'masked_token[0][0]']           \n",
            "                                tions(last_hidden_s                                               \n",
            "                                tate=(None, 500, 76                                               \n",
            "                                8),                                                               \n",
            "                                 past_key_values=No                                               \n",
            "                                ne, hidden_states=N                                               \n",
            "                                one, attentions=Non                                               \n",
            "                                e, cross_attentions                                               \n",
            "                                =None)                                                            \n",
            "                                                                                                  \n",
            " bidirectional_2 (Bidirectional  (None, 500, 1024)   5246976     ['electra[0][0]']                \n",
            " )                                                                                                \n",
            "                                                                                                  \n",
            " dropout_79 (Dropout)           (None, 500, 1024)    0           ['bidirectional_2[0][0]']        \n",
            "                                                                                                  \n",
            " bidirectional_3 (Bidirectional  (None, 500, 64)     270592      ['dropout_79[0][0]']             \n",
            " )                                                                                                \n",
            "                                                                                                  \n",
            " dropout_80 (Dropout)           (None, 500, 64)      0           ['bidirectional_3[0][0]']        \n",
            "                                                                                                  \n",
            " global_max_pooling1d_1 (Global  (None, 64)          0           ['dropout_80[0][0]']             \n",
            " MaxPooling1D)                                                                                    \n",
            "                                                                                                  \n",
            " dense_4 (Dense)                (None, 1024)         66560       ['global_max_pooling1d_1[0][0]'] \n",
            "                                                                                                  \n",
            " dropout_81 (Dropout)           (None, 1024)         0           ['dense_4[0][0]']                \n",
            "                                                                                                  \n",
            " dense_5 (Dense)                (None, 128)          131200      ['dropout_81[0][0]']             \n",
            "                                                                                                  \n",
            " dropout_82 (Dropout)           (None, 128)          0           ['dense_5[0][0]']                \n",
            "                                                                                                  \n",
            " dense_6 (Dense)                (None, 32)           4128        ['dropout_82[0][0]']             \n",
            "                                                                                                  \n",
            " dropout_83 (Dropout)           (None, 32)           0           ['dense_6[0][0]']                \n",
            "                                                                                                  \n",
            " dense_7 (Dense)                (None, 5)            165         ['dropout_83[0][0]']             \n",
            "                                                                                                  \n",
            "==================================================================================================\n",
            "Total params: 114,611,269\n",
            "Trainable params: 5,719,621\n",
            "Non-trainable params: 108,891,648\n",
            "__________________________________________________________________________________________________\n"
          ]
        }
      ],
      "source": [
        "\n",
        "\n",
        "config = AutoConfig.from_pretrained('google/electra-base-discriminator', output_hidden_states=True, output_attentions=True)\n",
        "electra= TFElectraModel.from_pretrained('google/electra-base-discriminator') # bert base model with pretrained weights\n",
        "\n",
        "input_ids_in = tf.keras.layers.Input(shape=(MAX_LENGTH,), name='input_token', dtype='int32')\n",
        "input_masks_in = tf.keras.layers.Input(shape=(MAX_LENGTH,), name='masked_token', dtype='int32') \n",
        "\n",
        "embedding_layer = electra.electra(input_ids = input_ids_in, attention_mask = input_masks_in)[0]\n",
        "\n",
        "X = tf.keras.layers.Bidirectional(tf.keras.layers.LSTM(512, return_sequences=True))(embedding_layer)\n",
        "X = tf.keras.layers.Dropout(0.5)(X)\n",
        "# X = tf.keras.layers.GlobalMaxPool1D()(X)\n",
        "\n",
        "X = tf.keras.layers.Bidirectional(tf.keras.layers.LSTM(32, return_sequences=True))(X)\n",
        "X = tf.keras.layers.Dropout(0.5)(X)\n",
        "X = tf.keras.layers.GlobalMaxPool1D()(X)\n",
        "\n",
        "X = tf.keras.layers.Dense(1024, activation='relu')(X)\n",
        "X = tf.keras.layers.Dropout(0.5)(X)\n",
        "\n",
        "X = tf.keras.layers.Dense(128, activation='relu')(X)\n",
        "X = tf.keras.layers.Dropout(0.5)(X)\n",
        "\n",
        "X = tf.keras.layers.Dense(32, activation='relu')(X)\n",
        "X = tf.keras.layers.Dropout(0.5)(X)\n",
        "# X = tf.keras.layers.GlobalMaxPool1D()(X)\n",
        "\n",
        "X = tf.keras.layers.Dense(5, activation='softmax')(X)\n",
        "\n",
        "model = tf.keras.Model(inputs=[input_ids_in, input_masks_in], outputs = X)\n",
        "\n",
        "for layer in model.layers[:3]:\n",
        "    layer.trainable = False\n",
        "\n",
        "model.summary()"
      ]
    },
    {
      "cell_type": "code",
      "execution_count": 45,
      "id": "dd9c4d21",
      "metadata": {
        "id": "dd9c4d21"
      },
      "outputs": [],
      "source": [
        "# optim = tf.keras.optimizers.Adam(learning_rate=1e-5, decay=1e-6)\n",
        "optim = tf.keras.optimizers.Adam()\n",
        "loss_func = tf.keras.losses.CategoricalCrossentropy()\n",
        "acc = tf.keras.metrics.CategoricalAccuracy('accuracy')"
      ]
    },
    {
      "cell_type": "code",
      "execution_count": 46,
      "id": "58ca4354",
      "metadata": {
        "colab": {
          "base_uri": "https://localhost:8080/"
        },
        "id": "58ca4354",
        "outputId": "9ef326e4-58a7-4915-9d9d-3ad98a2de60b"
      },
      "outputs": [
        {
          "output_type": "stream",
          "name": "stdout",
          "text": [
            "Model: \"model_1\"\n",
            "__________________________________________________________________________________________________\n",
            " Layer (type)                   Output Shape         Param #     Connected to                     \n",
            "==================================================================================================\n",
            " input_token (InputLayer)       [(None, 500)]        0           []                               \n",
            "                                                                                                  \n",
            " masked_token (InputLayer)      [(None, 500)]        0           []                               \n",
            "                                                                                                  \n",
            " electra (TFElectraMainLayer)   TFBaseModelOutputWi  108891648   ['input_token[0][0]',            \n",
            "                                thPastAndCrossAtten               'masked_token[0][0]']           \n",
            "                                tions(last_hidden_s                                               \n",
            "                                tate=(None, 500, 76                                               \n",
            "                                8),                                                               \n",
            "                                 past_key_values=No                                               \n",
            "                                ne, hidden_states=N                                               \n",
            "                                one, attentions=Non                                               \n",
            "                                e, cross_attentions                                               \n",
            "                                =None)                                                            \n",
            "                                                                                                  \n",
            " bidirectional_2 (Bidirectional  (None, 500, 1024)   5246976     ['electra[0][0]']                \n",
            " )                                                                                                \n",
            "                                                                                                  \n",
            " dropout_79 (Dropout)           (None, 500, 1024)    0           ['bidirectional_2[0][0]']        \n",
            "                                                                                                  \n",
            " bidirectional_3 (Bidirectional  (None, 500, 64)     270592      ['dropout_79[0][0]']             \n",
            " )                                                                                                \n",
            "                                                                                                  \n",
            " dropout_80 (Dropout)           (None, 500, 64)      0           ['bidirectional_3[0][0]']        \n",
            "                                                                                                  \n",
            " global_max_pooling1d_1 (Global  (None, 64)          0           ['dropout_80[0][0]']             \n",
            " MaxPooling1D)                                                                                    \n",
            "                                                                                                  \n",
            " dense_4 (Dense)                (None, 1024)         66560       ['global_max_pooling1d_1[0][0]'] \n",
            "                                                                                                  \n",
            " dropout_81 (Dropout)           (None, 1024)         0           ['dense_4[0][0]']                \n",
            "                                                                                                  \n",
            " dense_5 (Dense)                (None, 128)          131200      ['dropout_81[0][0]']             \n",
            "                                                                                                  \n",
            " dropout_82 (Dropout)           (None, 128)          0           ['dense_5[0][0]']                \n",
            "                                                                                                  \n",
            " dense_6 (Dense)                (None, 32)           4128        ['dropout_82[0][0]']             \n",
            "                                                                                                  \n",
            " dropout_83 (Dropout)           (None, 32)           0           ['dense_6[0][0]']                \n",
            "                                                                                                  \n",
            " dense_7 (Dense)                (None, 5)            165         ['dropout_83[0][0]']             \n",
            "                                                                                                  \n",
            "==================================================================================================\n",
            "Total params: 114,611,269\n",
            "Trainable params: 5,719,621\n",
            "Non-trainable params: 108,891,648\n",
            "__________________________________________________________________________________________________\n"
          ]
        }
      ],
      "source": [
        "\n",
        "model.compile(loss=loss_func, \n",
        "                        optimizer=optim, \n",
        "                        metrics=[tf.keras.metrics.categorical_accuracy,\n",
        "#                                  tf.keras.metrics.PrecisionAtRecall(0.5),\n",
        "#                                  tf.keras.metrics.Precision(),\n",
        "#                                  tf.keras.metrics.Recall(),\n",
        "#                                 tf.keras.metrics.TopKCategoricalAccuracy(),\n",
        "#                                 tf.keras.metrics.TrueNegatives(),\n",
        "#                                  tf.keras.metrics.TruePositives(),\n",
        "#                                 tf.keras.metrics.FalseNegatives(),\n",
        "#                                 tf.keras.metrics.FalsePositives(),\n",
        "#                                 tf.keras.metrics.MeanAbsoluteError(),\n",
        "                                ])\n",
        "                        \n",
        "                        \n",
        "                        \n",
        "                        \n",
        "model.summary()"
      ]
    },
    {
      "cell_type": "code",
      "source": [
        "%cd \"/content/drive/MyDrive/Colab Notebooks/498-CAPSTONE/model\""
      ],
      "metadata": {
        "colab": {
          "base_uri": "https://localhost:8080/"
        },
        "id": "6ceRKFFwSf9i",
        "outputId": "f075f8e7-13f9-4442-e251-1ce6cd3a12e1"
      },
      "id": "6ceRKFFwSf9i",
      "execution_count": 47,
      "outputs": [
        {
          "output_type": "stream",
          "name": "stdout",
          "text": [
            "/content/drive/MyDrive/Colab Notebooks/498-CAPSTONE/model\n"
          ]
        }
      ]
    },
    {
      "cell_type": "code",
      "source": [
        "%ls"
      ],
      "metadata": {
        "colab": {
          "base_uri": "https://localhost:8080/"
        },
        "id": "5i9GUM7APD0M",
        "outputId": "e92c26e6-716e-413c-b619-41a39ca35c9d"
      },
      "id": "5i9GUM7APD0M",
      "execution_count": 48,
      "outputs": [
        {
          "output_type": "stream",
          "name": "stdout",
          "text": [
            "checkpoint\n",
            "electra_full.h5\n",
            "electra_full_model_epoch_1.00__val_loss1.0882__val_accuracy_0.5921.h5\n",
            "electra_full_model_epoch_1.00__val_loss1.1013__val_accuracy_0.5921.h5\n",
            "electra_full_model_epoch_1.00__val_loss1.18__val_accuracy_0.59.h5\n",
            "electra_full_model_epoch_2.00__val_loss1.0807__val_accuracy_0.5921.h5\n",
            "electra_full_model_epoch_2.00__val_loss1.0835__val_accuracy_0.5921.h5\n",
            "electra_full_model_epoch_2.00__val_loss1.13__val_accuracy_0.59.h5\n",
            "electra_full_model_epoch_3.00__val_loss1.0607__val_accuracy_0.5921.h5\n",
            "electra_full_model_epoch_3.00__val_loss1.0609__val_accuracy_0.5921.h5\n",
            "electra_full_model_epoch_3.00__val_loss1.09__val_accuracy_0.59.h5\n",
            "electra_full_model_epoch_4.00__val_loss1.0894__val_accuracy_0.5921.h5\n",
            "electra_full_model_epoch_4.00__val_loss1.08__val_accuracy_0.59.h5\n",
            "electra_full_model_epoch_4.00__val_loss1.0974__val_accuracy_0.5921.h5\n",
            "electra_full_model_epoch_5.00__val_loss1.07__val_accuracy_0.59.h5\n",
            "electra_full_model_epoch_5.00__val_loss1.0961__val_accuracy_0.5921.h5\n",
            "electra_full_model_epoch_5.00__val_loss1.1021__val_accuracy_0.5921.h5\n",
            "electra_full_model_epoch_6.00__val_loss1.06__val_accuracy_0.59.h5\n",
            "electra_full_model_epoch_6.00__val_loss1.1027__val_accuracy_0.5921.h5\n",
            "electra_full_model_epoch_7.00__val_loss1.06__val_accuracy_0.59.h5\n",
            "electra_full_model_epoch_7.00__val_loss1.0743__val_accuracy_0.5921.h5\n",
            "electra_full_model_epoch_8.00__val_loss1.06__val_accuracy_0.59.h5\n",
            "electra_full_model.h5\n",
            "electra_model_epoch_10.00__val_loss0.5159__val_accuracy_0.8296.h5\n",
            "electra_model_epoch_1.00__val_loss1.2508__val_accuracy_0.5921.h5\n",
            "electra_model_epoch_11.00__val_loss0.5033__val_accuracy_0.8330.h5\n",
            "electra_model_epoch_12.00__val_loss0.4827__val_accuracy_0.8391.h5\n",
            "electra_model_epoch_13.00__val_loss0.5605__val_accuracy_0.8360.h5\n",
            "electra_model_epoch_14.00__val_loss0.4834__val_accuracy_0.8366.h5\n",
            "electra_model_epoch_15.00__val_loss0.4821__val_accuracy_0.8366.h5\n",
            "electra_model_epoch_16.00__val_loss0.4770__val_accuracy_0.8467.h5\n",
            "electra_model_epoch_17.00__val_loss0.4735__val_accuracy_0.8500.h5\n",
            "electra_model_epoch_18.00__val_loss0.5086__val_accuracy_0.8377.h5\n",
            "electra_model_epoch_19.00__val_loss0.5535__val_accuracy_0.8265.h5\n",
            "electra_model_epoch_20.00__val_loss0.5109__val_accuracy_0.8629.h5\n",
            "electra_model_epoch_2.00__val_loss0.8539__val_accuracy_0.7625.h5\n",
            "electra_model_epoch_21.00__val_loss0.5301__val_accuracy_0.8565.h5\n",
            "electra_model_epoch_22.00__val_loss0.4879__val_accuracy_0.8517.h5\n",
            "electra_model_epoch_23.00__val_loss0.5130__val_accuracy_0.8629.h5\n",
            "electra_model_epoch_24.00__val_loss0.5588__val_accuracy_0.8668.h5\n",
            "electra_model_epoch_25.00__val_loss0.5589__val_accuracy_0.8363.h5\n",
            "electra_model_epoch_26.00__val_loss0.4838__val_accuracy_0.8615.h5\n",
            "electra_model_epoch_27.00__val_loss0.5109__val_accuracy_0.8651.h5\n",
            "electra_model_epoch_3.00__val_loss0.7483__val_accuracy_0.7501.h5\n",
            "electra_model_epoch_4.00__val_loss0.8168__val_accuracy_0.7633.h5\n",
            "electra_model_epoch_5.00__val_loss0.6228__val_accuracy_0.7784.h5\n",
            "electra_model_epoch_6.00__val_loss0.5853__val_accuracy_0.8212.h5\n",
            "electra_model_epoch_7.00__val_loss0.5948__val_accuracy_0.8170.h5\n",
            "electra_model_epoch_8.00__val_loss0.5267__val_accuracy_0.8296.h5\n",
            "electra_model_epoch_9.00__val_loss0.5424__val_accuracy_0.8349.h5\n",
            "\u001b[0m\u001b[01;34mFinal_models\u001b[0m/\n",
            "LSTM_bert_model_epoch_10.00__val_loss_0.417__val_accuracy_0.864.h5\n",
            "LSTM_bert_model_epoch_10.00__val_loss_0.43__val_accuracy_0.88.h5\n",
            "LSTM_bert_model_epoch_1.00__val_loss_0.918__val_accuracy_0.661.h5\n",
            "LSTM_bert_model_epoch_1.00__val_loss_0.94__val_accuracy_0.68.h5\n",
            "LSTM_bert_model_epoch_11.00__val_loss_0.38__val_accuracy_0.88.h5\n",
            "LSTM_bert_model_epoch_11.00__val_loss_0.396__val_accuracy_0.871.h5\n",
            "LSTM_bert_model_epoch_12.00__val_loss_0.39__val_accuracy_0.88.h5\n",
            "LSTM_bert_model_epoch_12.00__val_loss_0.407__val_accuracy_0.862.h5\n",
            "LSTM_bert_model_epoch_13.00__val_loss_0.388__val_accuracy_0.874.h5\n",
            "LSTM_bert_model_epoch_14.00__val_loss_0.376__val_accuracy_0.879.h5\n",
            "LSTM_bert_model_epoch_14.00__val_loss0.38__val_accuracy_0.88.h5\n",
            "LSTM_bert_model_epoch_15.00__val_loss_0.398__val_accuracy_0.864.h5\n",
            "LSTM_bert_model_epoch_16.00__val_loss_0.373__val_accuracy_0.873.h5\n",
            "LSTM_bert_model_epoch_17.00__val_loss_0.365__val_accuracy_0.879.h5\n",
            "LSTM_bert_model_epoch_18.00__val_loss_0.368__val_accuracy_0.878.h5\n",
            "LSTM_bert_model_epoch_18.00__val_loss0.37__val_accuracy_0.88.h5\n",
            "LSTM_bert_model_epoch_19.00__val_loss_0.388__val_accuracy_0.869.h5\n",
            "LSTM_bert_model_epoch_20.00__val_loss0.38__val_accuracy_0.87.h5\n",
            "LSTM_bert_model_epoch_20.00__val_loss_0.402__val_accuracy_0.861.h5\n",
            "LSTM_bert_model_epoch_2.00__val_loss_0.71__val_accuracy_0.80.h5\n",
            "LSTM_bert_model_epoch_2.00__val_loss_0.741__val_accuracy_0.760.h5\n",
            "LSTM_bert_model_epoch_21.00__val_loss0.37__val_accuracy_0.88.h5\n",
            "LSTM_bert_model_epoch_21.00__val_loss_0.384__val_accuracy_0.875.h5\n",
            "LSTM_bert_model_epoch_22.00__val_loss_0.372__val_accuracy_0.877.h5\n",
            "LSTM_bert_model_epoch_22.00__val_loss0.39__val_accuracy_0.87.h5\n",
            "LSTM_bert_model_epoch_23.00__val_loss_0.380__val_accuracy_0.872.h5\n",
            "LSTM_bert_model_epoch_23.00__val_loss0.40__val_accuracy_0.88.h5\n",
            "LSTM_bert_model_epoch_24.00__val_loss_0.376__val_accuracy_0.879.h5\n",
            "LSTM_bert_model_epoch_24.00__val_loss0.38__val_accuracy_0.88.h5\n",
            "LSTM_bert_model_epoch_25.00__val_loss_0.425__val_accuracy_0.873.h5\n",
            "LSTM_bert_model_epoch_26.00__val_loss_0.387__val_accuracy_0.872.h5\n",
            "LSTM_bert_model_epoch_27.00__val_loss_0.376__val_accuracy_0.878.h5\n",
            "LSTM_bert_model_epoch_3.00__val_loss_0.632__val_accuracy_0.835.h5\n",
            "LSTM_bert_model_epoch_3.00__val_loss_0.66__val_accuracy_0.83.h5\n",
            "LSTM_bert_model_epoch_4.00__val_loss_0.55__val_accuracy_0.84.h5\n",
            "LSTM_bert_model_epoch_4.00__val_loss_0.566__val_accuracy_0.846.h5\n",
            "LSTM_bert_model_epoch_5.00__val_loss_0.55__val_accuracy_0.84.h5\n",
            "LSTM_bert_model_epoch_5.00__val_loss_0.600__val_accuracy_0.836.h5\n",
            "LSTM_bert_model_epoch_6.00__val_loss_0.485__val_accuracy_0.865.h5\n",
            "LSTM_bert_model_epoch_6.00__val_loss_0.50__val_accuracy_0.86.h5\n",
            "LSTM_bert_model_epoch_7.00__val_loss_0.472__val_accuracy_0.847.h5\n",
            "LSTM_bert_model_epoch_7.00__val_loss_0.50__val_accuracy_0.87.h5\n",
            "LSTM_bert_model_epoch_8.00__val_loss_0.442__val_accuracy_0.862.h5\n",
            "LSTM_bert_model_epoch_8.00__val_loss_0.47__val_accuracy_0.84.h5\n",
            "LSTM_bert_model_epoch_9.00__val_loss_0.409__val_accuracy_0.874.h5\n",
            "LSTM_bert_model_epoch_9.00__val_loss_0.45__val_accuracy_0.86.h5\n",
            "model.png\n",
            "new_electra_full_weights.data-00000-of-00001\n",
            "new_electra_full_weights.index\n"
          ]
        }
      ]
    },
    {
      "cell_type": "code",
      "execution_count": 49,
      "id": "ccaf57d2",
      "metadata": {
        "id": "ccaf57d2"
      },
      "outputs": [],
      "source": [
        "filepath= \"electra_full_model_epoch_{epoch:.2f}__val_loss{val_loss:.3f}__val_accuracy_{val_categorical_accuracy:.3f}.h5\"\n"
      ]
    },
    {
      "cell_type": "code",
      "execution_count": 49,
      "id": "00dbff0a",
      "metadata": {
        "id": "00dbff0a"
      },
      "outputs": [],
      "source": []
    },
    {
      "cell_type": "code",
      "execution_count": 50,
      "id": "254a88be",
      "metadata": {
        "id": "254a88be"
      },
      "outputs": [],
      "source": [
        "epoch=200\n",
        "patiences= 10\n",
        "batch_size= 32"
      ]
    },
    {
      "cell_type": "code",
      "source": [],
      "metadata": {
        "id": "STyatZ-TUgZ2"
      },
      "id": "STyatZ-TUgZ2",
      "execution_count": 50,
      "outputs": []
    },
    {
      "cell_type": "code",
      "execution_count": 51,
      "id": "efd7872a",
      "metadata": {
        "id": "efd7872a"
      },
      "outputs": [],
      "source": [
        "cp_callback = tf.keras.callbacks.ModelCheckpoint(\n",
        "    filepath, \n",
        "    verbose=2, \n",
        "    save_weights_only=False,\n",
        "    mode=\"max\",\n",
        "    save_best_only=False,\n",
        "    save_freq=\"epoch\")"
      ]
    },
    {
      "cell_type": "code",
      "execution_count": 52,
      "id": "ff322fbd",
      "metadata": {
        "id": "ff322fbd"
      },
      "outputs": [],
      "source": [
        "Y_train_cat = keras.utils.to_categorical(y_train)"
      ]
    },
    {
      "cell_type": "code",
      "execution_count": 53,
      "id": "b6aee0a4",
      "metadata": {
        "colab": {
          "base_uri": "https://localhost:8080/"
        },
        "id": "b6aee0a4",
        "outputId": "1eb78ec8-5c27-4356-805c-759c6284e428"
      },
      "outputs": [
        {
          "output_type": "stream",
          "name": "stdout",
          "text": [
            "Epoch 1/200\n",
            "261/261 [==============================] - ETA: 0s - loss: 1.0246 - categorical_accuracy: 0.6322\n",
            "Epoch 1: saving model to electra_full_model_epoch_1.00__val_loss0.992__val_accuracy_0.770.h5\n",
            "261/261 [==============================] - 112s 358ms/step - loss: 1.0246 - categorical_accuracy: 0.6322 - val_loss: 0.9919 - val_categorical_accuracy: 0.7695\n",
            "Epoch 2/200\n",
            "261/261 [==============================] - ETA: 0s - loss: 0.7215 - categorical_accuracy: 0.7582\n",
            "Epoch 2: saving model to electra_full_model_epoch_2.00__val_loss0.699__val_accuracy_0.776.h5\n",
            "261/261 [==============================] - 89s 340ms/step - loss: 0.7215 - categorical_accuracy: 0.7582 - val_loss: 0.6995 - val_categorical_accuracy: 0.7762\n",
            "Epoch 3/200\n",
            "261/261 [==============================] - ETA: 0s - loss: 0.6335 - categorical_accuracy: 0.7680\n",
            "Epoch 3: saving model to electra_full_model_epoch_3.00__val_loss0.619__val_accuracy_0.786.h5\n",
            "261/261 [==============================] - 89s 340ms/step - loss: 0.6335 - categorical_accuracy: 0.7680 - val_loss: 0.6190 - val_categorical_accuracy: 0.7857\n",
            "Epoch 4/200\n",
            "261/261 [==============================] - ETA: 0s - loss: 0.5592 - categorical_accuracy: 0.8092\n",
            "Epoch 4: saving model to electra_full_model_epoch_4.00__val_loss0.522__val_accuracy_0.823.h5\n",
            "261/261 [==============================] - 89s 340ms/step - loss: 0.5592 - categorical_accuracy: 0.8092 - val_loss: 0.5224 - val_categorical_accuracy: 0.8232\n",
            "Epoch 5/200\n",
            "261/261 [==============================] - ETA: 0s - loss: 0.5165 - categorical_accuracy: 0.8183\n",
            "Epoch 5: saving model to electra_full_model_epoch_5.00__val_loss0.518__val_accuracy_0.827.h5\n",
            "261/261 [==============================] - 89s 340ms/step - loss: 0.5165 - categorical_accuracy: 0.8183 - val_loss: 0.5182 - val_categorical_accuracy: 0.8266\n",
            "Epoch 6/200\n",
            "261/261 [==============================] - ETA: 0s - loss: 0.4699 - categorical_accuracy: 0.8337\n",
            "Epoch 6: saving model to electra_full_model_epoch_6.00__val_loss0.479__val_accuracy_0.841.h5\n",
            "261/261 [==============================] - 89s 340ms/step - loss: 0.4699 - categorical_accuracy: 0.8337 - val_loss: 0.4785 - val_categorical_accuracy: 0.8411\n",
            "Epoch 7/200\n",
            "261/261 [==============================] - ETA: 0s - loss: 0.4326 - categorical_accuracy: 0.8512\n",
            "Epoch 7: saving model to electra_full_model_epoch_7.00__val_loss0.427__val_accuracy_0.862.h5\n",
            "261/261 [==============================] - 89s 340ms/step - loss: 0.4326 - categorical_accuracy: 0.8512 - val_loss: 0.4270 - val_categorical_accuracy: 0.8618\n",
            "Epoch 8/200\n",
            "261/261 [==============================] - ETA: 0s - loss: 0.3830 - categorical_accuracy: 0.8647\n",
            "Epoch 8: saving model to electra_full_model_epoch_8.00__val_loss0.432__val_accuracy_0.862.h5\n",
            "261/261 [==============================] - 89s 340ms/step - loss: 0.3830 - categorical_accuracy: 0.8647 - val_loss: 0.4324 - val_categorical_accuracy: 0.8615\n",
            "Epoch 9/200\n",
            "261/261 [==============================] - ETA: 0s - loss: 0.3616 - categorical_accuracy: 0.8770\n",
            "Epoch 9: saving model to electra_full_model_epoch_9.00__val_loss0.461__val_accuracy_0.849.h5\n",
            "261/261 [==============================] - 89s 340ms/step - loss: 0.3616 - categorical_accuracy: 0.8770 - val_loss: 0.4615 - val_categorical_accuracy: 0.8490\n",
            "Epoch 10/200\n",
            "261/261 [==============================] - ETA: 0s - loss: 0.3199 - categorical_accuracy: 0.8888\n",
            "Epoch 10: saving model to electra_full_model_epoch_10.00__val_loss0.421__val_accuracy_0.859.h5\n",
            "261/261 [==============================] - 89s 340ms/step - loss: 0.3199 - categorical_accuracy: 0.8888 - val_loss: 0.4210 - val_categorical_accuracy: 0.8593\n",
            "Epoch 11/200\n",
            "261/261 [==============================] - ETA: 0s - loss: 0.3106 - categorical_accuracy: 0.8971\n",
            "Epoch 11: saving model to electra_full_model_epoch_11.00__val_loss0.433__val_accuracy_0.850.h5\n",
            "261/261 [==============================] - 89s 340ms/step - loss: 0.3106 - categorical_accuracy: 0.8971 - val_loss: 0.4334 - val_categorical_accuracy: 0.8495\n",
            "Epoch 12/200\n",
            "261/261 [==============================] - ETA: 0s - loss: 0.2680 - categorical_accuracy: 0.9097\n",
            "Epoch 12: saving model to electra_full_model_epoch_12.00__val_loss0.421__val_accuracy_0.865.h5\n",
            "261/261 [==============================] - 89s 339ms/step - loss: 0.2680 - categorical_accuracy: 0.9097 - val_loss: 0.4207 - val_categorical_accuracy: 0.8646\n",
            "Epoch 13/200\n",
            "261/261 [==============================] - ETA: 0s - loss: 0.2380 - categorical_accuracy: 0.9230\n",
            "Epoch 13: saving model to electra_full_model_epoch_13.00__val_loss0.421__val_accuracy_0.865.h5\n",
            "261/261 [==============================] - 89s 340ms/step - loss: 0.2380 - categorical_accuracy: 0.9230 - val_loss: 0.4209 - val_categorical_accuracy: 0.8649\n",
            "Epoch 14/200\n",
            "261/261 [==============================] - ETA: 0s - loss: 0.2248 - categorical_accuracy: 0.9274\n",
            "Epoch 14: saving model to electra_full_model_epoch_14.00__val_loss0.436__val_accuracy_0.861.h5\n",
            "261/261 [==============================] - 89s 340ms/step - loss: 0.2248 - categorical_accuracy: 0.9274 - val_loss: 0.4356 - val_categorical_accuracy: 0.8610\n",
            "Epoch 15/200\n",
            "261/261 [==============================] - ETA: 0s - loss: 0.2051 - categorical_accuracy: 0.9342\n",
            "Epoch 15: saving model to electra_full_model_epoch_15.00__val_loss0.436__val_accuracy_0.861.h5\n",
            "261/261 [==============================] - 89s 339ms/step - loss: 0.2051 - categorical_accuracy: 0.9342 - val_loss: 0.4358 - val_categorical_accuracy: 0.8613\n",
            "Epoch 16/200\n",
            "261/261 [==============================] - ETA: 0s - loss: 0.1921 - categorical_accuracy: 0.9414\n",
            "Epoch 16: saving model to electra_full_model_epoch_16.00__val_loss0.448__val_accuracy_0.874.h5\n",
            "261/261 [==============================] - 89s 340ms/step - loss: 0.1921 - categorical_accuracy: 0.9414 - val_loss: 0.4484 - val_categorical_accuracy: 0.8736\n",
            "Epoch 17/200\n",
            "261/261 [==============================] - ETA: 0s - loss: 0.1699 - categorical_accuracy: 0.9459\n",
            "Epoch 17: saving model to electra_full_model_epoch_17.00__val_loss0.470__val_accuracy_0.855.h5\n",
            "261/261 [==============================] - 89s 340ms/step - loss: 0.1699 - categorical_accuracy: 0.9459 - val_loss: 0.4699 - val_categorical_accuracy: 0.8548\n",
            "Epoch 18/200\n",
            "261/261 [==============================] - ETA: 0s - loss: 0.1567 - categorical_accuracy: 0.9494\n",
            "Epoch 18: saving model to electra_full_model_epoch_18.00__val_loss0.472__val_accuracy_0.838.h5\n",
            "261/261 [==============================] - 89s 340ms/step - loss: 0.1567 - categorical_accuracy: 0.9494 - val_loss: 0.4720 - val_categorical_accuracy: 0.8380\n",
            "Epoch 19/200\n",
            "261/261 [==============================] - ETA: 0s - loss: 0.1578 - categorical_accuracy: 0.9517\n",
            "Epoch 19: saving model to electra_full_model_epoch_19.00__val_loss0.452__val_accuracy_0.858.h5\n",
            "261/261 [==============================] - 88s 339ms/step - loss: 0.1578 - categorical_accuracy: 0.9517 - val_loss: 0.4524 - val_categorical_accuracy: 0.8576\n",
            "Epoch 20/200\n",
            "261/261 [==============================] - ETA: 0s - loss: 0.1254 - categorical_accuracy: 0.9611\n",
            "Epoch 20: saving model to electra_full_model_epoch_20.00__val_loss0.491__val_accuracy_0.857.h5\n",
            "261/261 [==============================] - 89s 339ms/step - loss: 0.1254 - categorical_accuracy: 0.9611 - val_loss: 0.4915 - val_categorical_accuracy: 0.8571\n",
            "Epoch 21/200\n",
            "261/261 [==============================] - ETA: 0s - loss: 0.1200 - categorical_accuracy: 0.9632\n",
            "Epoch 21: saving model to electra_full_model_epoch_21.00__val_loss0.561__val_accuracy_0.875.h5\n",
            "261/261 [==============================] - 89s 340ms/step - loss: 0.1200 - categorical_accuracy: 0.9632 - val_loss: 0.5605 - val_categorical_accuracy: 0.8747\n",
            "Epoch 22/200\n",
            "261/261 [==============================] - ETA: 0s - loss: 0.1360 - categorical_accuracy: 0.9614\n",
            "Epoch 22: saving model to electra_full_model_epoch_22.00__val_loss0.517__val_accuracy_0.847.h5\n",
            "261/261 [==============================] - 89s 340ms/step - loss: 0.1360 - categorical_accuracy: 0.9614 - val_loss: 0.5170 - val_categorical_accuracy: 0.8467\n"
          ]
        }
      ],
      "source": [
        "\n",
        "hist = model.fit(\n",
        "    X_train, \n",
        "    Y_train_cat, \n",
        "    epochs =epoch,\n",
        "    batch_size=batch_size,\n",
        "    shuffle= True,\n",
        "    validation_split=.3,\n",
        "    verbose=1,\n",
        "    \n",
        "    callbacks=[cp_callback,\n",
        "               tf.keras.callbacks.EarlyStopping(monitor='val_loss', patience=patiences)]\n",
        ")"
      ]
    },
    {
      "cell_type": "code",
      "execution_count": 54,
      "id": "0f2a0d84",
      "metadata": {
        "id": "0f2a0d84",
        "colab": {
          "base_uri": "https://localhost:8080/",
          "height": 459
        },
        "outputId": "36af9303-ec41-436c-da48-383d4951dfc4"
      },
      "outputs": [
        {
          "output_type": "stream",
          "name": "stdout",
          "text": [
            "dict_keys(['loss', 'categorical_accuracy', 'val_loss', 'val_categorical_accuracy'])\n"
          ]
        },
        {
          "output_type": "execute_result",
          "data": {
            "text/plain": [
              "<matplotlib.legend.Legend at 0x7fc6d7284b50>"
            ]
          },
          "metadata": {},
          "execution_count": 54
        },
        {
          "output_type": "display_data",
          "data": {
            "text/plain": [
              "<Figure size 864x432 with 2 Axes>"
            ],
            "image/png": "[encoded data removed]"
          },
          "metadata": {}
        }
      ],
      "source": [
        "history_dict = hist.history\n",
        "\n",
        "\n",
        "print(history_dict.keys())\n",
        "\n",
        "acc = history_dict['categorical_accuracy']\n",
        "val_acc = history_dict['val_categorical_accuracy']\n",
        "loss = history_dict['loss']\n",
        "val_loss = history_dict['val_loss']\n",
        "\n",
        "epochs = range(1, len(acc) + 1)\n",
        "fig = plt.figure(figsize=(12, 6))\n",
        "fig.tight_layout()\n",
        "\n",
        "plt.subplot(2, 1, 1)\n",
        "# r is for \"solid red line\"\n",
        "plt.plot(epochs, loss, 'r', label='Training loss')\n",
        "# b is for \"solid blue line\"\n",
        "plt.plot(epochs, val_loss, 'b', label='Validation loss')\n",
        "plt.title('Training and validation loss')\n",
        "# plt.xlabel('Epochs')\n",
        "plt.ylabel('Loss')\n",
        "plt.legend()\n",
        "\n",
        "plt.subplot(2, 1, 2)\n",
        "plt.plot(epochs, acc, 'r', label='Training acc')\n",
        "plt.plot(epochs, val_acc, 'b', label='Validation acc')\n",
        "plt.title('Training and validation accuracy')\n",
        "plt.xlabel('Epochs')\n",
        "plt.ylabel('Accuracy')\n",
        "plt.legend(loc='lower right')"
      ]
    },
    {
      "cell_type": "code",
      "execution_count": 55,
      "id": "2b79ad5d",
      "metadata": {
        "id": "2b79ad5d"
      },
      "outputs": [],
      "source": [
        "def get_min_val_loss_epoch(history):\n",
        "    return \"0\"+str(np.argmin(hist.history['val_loss'])+1)\n",
        "\n",
        "def get_max_val_acc_epoch(history):\n",
        "    return \"0\"+str(np.argmax(hist.history['val_categorical_accuracy'])+1)"
      ]
    },
    {
      "cell_type": "code",
      "execution_count": 56,
      "id": "ece652e8",
      "metadata": {
        "id": "ece652e8"
      },
      "outputs": [],
      "source": [
        "Y_test_cat = keras.utils.to_categorical(y_test)\n"
      ]
    },
    {
      "cell_type": "code",
      "execution_count": 57,
      "id": "728001e6",
      "metadata": {
        "id": "728001e6",
        "colab": {
          "base_uri": "https://localhost:8080/"
        },
        "outputId": "4d0b2dad-85d9-47e3-f5cc-c3ea9595a4fe"
      },
      "outputs": [
        {
          "output_type": "stream",
          "name": "stdout",
          "text": [
            "160/160 [==============================] - 29s 182ms/step - loss: 0.5395 - categorical_accuracy: 0.8420\n",
            "Loss: 0.5395209789276123\n",
            "Accuracy: 0.8419506549835205\n"
          ]
        }
      ],
      "source": [
        "test_loss, test_accuracy = model.evaluate(X_test,Y_test_cat )\n",
        "\n",
        "print(f'Loss: {test_loss}')\n",
        "print(f'Accuracy: {test_accuracy}')\n"
      ]
    },
    {
      "cell_type": "code",
      "execution_count": 60,
      "id": "a85ae46a",
      "metadata": {
        "id": "a85ae46a",
        "colab": {
          "base_uri": "https://localhost:8080/",
          "height": 36
        },
        "outputId": "0021039e-69be-405b-d309-344270d17085"
      },
      "outputs": [
        {
          "output_type": "execute_result",
          "data": {
            "text/plain": [
              "'021'"
            ],
            "application/vnd.google.colaboratory.intrinsic+json": {
              "type": "string"
            }
          },
          "metadata": {},
          "execution_count": 60
        }
      ],
      "source": [
        "epoch_num = get_max_val_acc_epoch(hist)\n",
        "epoch_num\n",
        "# model.load_weights(output_dir+\"/weights.\"+epoch_num+\".hdf5\") # Load in model weights"
      ]
    },
    {
      "cell_type": "code",
      "execution_count": 61,
      "id": "bb94c8a0",
      "metadata": {
        "id": "bb94c8a0",
        "colab": {
          "base_uri": "https://localhost:8080/"
        },
        "outputId": "adad6332-27ad-476f-9f45-51d4cc13233d"
      },
      "outputs": [
        {
          "output_type": "stream",
          "name": "stdout",
          "text": [
            "160/160 [==============================] - 33s 178ms/step\n"
          ]
        }
      ],
      "source": [
        "y_test_probs = model.predict(X_test)\n",
        "\n",
        "# Turn probabilities into an interger prediction\n",
        "y_hat = []\n",
        "for prob in y_test_probs:\n",
        "    y_hat.append(np.argmax(prob))"
      ]
    },
    {
      "cell_type": "code",
      "execution_count": 62,
      "id": "76b444cd",
      "metadata": {
        "id": "76b444cd",
        "colab": {
          "base_uri": "https://localhost:8080/",
          "height": 408
        },
        "outputId": "c2ce632a-5737-44ec-cdd7-887b9a9e51a1"
      },
      "outputs": [
        {
          "output_type": "stream",
          "name": "stdout",
          "text": [
            "Accuracy: 0.8419506462984724\n"
          ]
        },
        {
          "output_type": "display_data",
          "data": {
            "text/plain": [
              "<Figure size 432x288 with 2 Axes>"
            ],
            "image/png": "[encoded data removed]"
          },
          "metadata": {}
        }
      ],
      "source": [
        "print(\"Accuracy:\", accuracy_score(y_test, y_hat))\n",
        "print_cf1(y_test, y_hat)"
      ]
    },
    {
      "cell_type": "code",
      "execution_count": 75,
      "id": "62ff4b6f",
      "metadata": {
        "id": "62ff4b6f",
        "colab": {
          "base_uri": "https://localhost:8080/"
        },
        "outputId": "4dca8985-2817-4178-dfdc-3d21ec013b33"
      },
      "outputs": [
        {
          "output_type": "stream",
          "name": "stdout",
          "text": [
            "                 precision    recall  f1-score   support\n",
            "\n",
            "    Casual-Talk       0.56      0.64      0.60       305\n",
            "     Depression       0.90      0.79      0.84      1301\n",
            "Highly-Suicidal       0.00      0.00      0.00         5\n",
            "       Stressed       0.75      0.76      0.76       446\n",
            "        Suicide       0.90      0.93      0.92      3049\n",
            "\n",
            "       accuracy                           0.86      5106\n",
            "      macro avg       0.62      0.63      0.62      5106\n",
            "   weighted avg       0.87      0.86      0.86      5106\n",
            "\n"
          ]
        },
        {
          "output_type": "stream",
          "name": "stderr",
          "text": [
            "/usr/local/lib/python3.7/dist-packages/sklearn/metrics/_classification.py:1318: UndefinedMetricWarning: Precision and F-score are ill-defined and being set to 0.0 in labels with no predicted samples. Use `zero_division` parameter to control this behavior.\n",
            "  _warn_prf(average, modifier, msg_start, len(result))\n",
            "/usr/local/lib/python3.7/dist-packages/sklearn/metrics/_classification.py:1318: UndefinedMetricWarning: Precision and F-score are ill-defined and being set to 0.0 in labels with no predicted samples. Use `zero_division` parameter to control this behavior.\n",
            "  _warn_prf(average, modifier, msg_start, len(result))\n",
            "/usr/local/lib/python3.7/dist-packages/sklearn/metrics/_classification.py:1318: UndefinedMetricWarning: Precision and F-score are ill-defined and being set to 0.0 in labels with no predicted samples. Use `zero_division` parameter to control this behavior.\n",
            "  _warn_prf(average, modifier, msg_start, len(result))\n"
          ]
        }
      ],
      "source": [
        "print(classification_report(y_test, y_hat, target_names=labels_5))"
      ]
    },
    {
      "cell_type": "code",
      "execution_count": 76,
      "id": "65ca4e62",
      "metadata": {
        "scrolled": true,
        "id": "65ca4e62"
      },
      "outputs": [],
      "source": [
        "[print(example, '\\n') for example in x_test[(y_test == 2) & (np.asarray(y_hat) == 0)][:5]];\n"
      ]
    },
    {
      "cell_type": "markdown",
      "id": "65287b75",
      "metadata": {
        "id": "65287b75"
      },
      "source": [
        "## Saving and Loading model"
      ]
    },
    {
      "cell_type": "code",
      "execution_count": null,
      "id": "88fe9b13",
      "metadata": {
        "id": "88fe9b13"
      },
      "outputs": [],
      "source": [
        "%pwd"
      ]
    },
    {
      "cell_type": "code",
      "execution_count": 66,
      "id": "161ea37c",
      "metadata": {
        "id": "161ea37c"
      },
      "outputs": [],
      "source": [
        "from tensorflow.keras.models import save_model, load_model\n",
        "\n",
        "save_model(model,\"electra_full_nov12.h5\")\n",
        "\n",
        "model.save(\"electra_full_nov12.h5\")\n"
      ]
    },
    {
      "cell_type": "code",
      "execution_count": 67,
      "id": "e57f8659",
      "metadata": {
        "id": "e57f8659"
      },
      "outputs": [],
      "source": [
        "loaded_model=load_model(\"electra_full_model_epoch_16.00__val_loss0.448__val_accuracy_0.874.h5\",\n",
        "                         custom_objects={'TFElectraModel':TFElectraModel})"
      ]
    },
    {
      "cell_type": "markdown",
      "id": "ff58b56a",
      "metadata": {
        "id": "ff58b56a"
      },
      "source": [
        "#### evaluating loaded_model"
      ]
    },
    {
      "cell_type": "code",
      "execution_count": 68,
      "id": "b7334130",
      "metadata": {
        "id": "b7334130",
        "colab": {
          "base_uri": "https://localhost:8080/"
        },
        "outputId": "95fbb2f5-60a4-4241-8070-a670c802318c"
      },
      "outputs": [
        {
          "output_type": "stream",
          "name": "stdout",
          "text": [
            "160/160 [==============================] - 33s 182ms/step - loss: 0.4896 - categorical_accuracy: 0.8647\n",
            "Loss: 0.48959508538246155\n",
            "Accuracy: 0.8646690249443054\n"
          ]
        }
      ],
      "source": [
        "test_loss, test_accuracy = loaded_model.evaluate(X_test,Y_test_cat)\n",
        "\n",
        "print(f'Loss: {test_loss}')\n",
        "print(f'Accuracy: {test_accuracy}')\n"
      ]
    },
    {
      "cell_type": "code",
      "execution_count": 69,
      "id": "d72952a9",
      "metadata": {
        "id": "d72952a9",
        "colab": {
          "base_uri": "https://localhost:8080/"
        },
        "outputId": "655a12e3-5104-40f0-f6c2-14aecb085e91"
      },
      "outputs": [
        {
          "output_type": "stream",
          "name": "stdout",
          "text": [
            "160/160 [==============================] - 33s 177ms/step\n"
          ]
        }
      ],
      "source": [
        "y_test_probs = loaded_model.predict(X_test)\n",
        "\n",
        "# Turn probabilities into an interger prediction\n",
        "y_hat = []\n",
        "for prob in y_test_probs:\n",
        "    y_hat.append(np.argmax(prob))"
      ]
    },
    {
      "cell_type": "code",
      "execution_count": 70,
      "id": "ca4b3351",
      "metadata": {
        "id": "ca4b3351",
        "colab": {
          "base_uri": "https://localhost:8080/",
          "height": 408
        },
        "outputId": "0c046864-1db9-48f9-a876-ea2926c28d47"
      },
      "outputs": [
        {
          "output_type": "stream",
          "name": "stdout",
          "text": [
            "Accuracy: 0.8646690168429298\n"
          ]
        },
        {
          "output_type": "display_data",
          "data": {
            "text/plain": [
              "<Figure size 432x288 with 2 Axes>"
            ],
            "image/png": "[encoded data removed]"
          },
          "metadata": {}
        }
      ],
      "source": [
        "print(\"Accuracy:\", accuracy_score(y_test, y_hat))\n",
        "print_cf1(y_test, y_hat)"
      ]
    },
    {
      "cell_type": "code",
      "execution_count": 71,
      "id": "722430f2",
      "metadata": {
        "id": "722430f2",
        "colab": {
          "base_uri": "https://localhost:8080/"
        },
        "outputId": "3f4a335e-516f-4f58-b6ed-5fb63f0798b8"
      },
      "outputs": [
        {
          "output_type": "stream",
          "name": "stdout",
          "text": [
            "                 precision    recall  f1-score   support\n",
            "\n",
            "    Casual-Talk       0.56      0.64      0.60       305\n",
            "     Depression       0.90      0.79      0.84      1301\n",
            "Highly-Suicidal       0.00      0.00      0.00         5\n",
            "       Stressed       0.75      0.76      0.76       446\n",
            "        Suicide       0.90      0.93      0.92      3049\n",
            "\n",
            "       accuracy                           0.86      5106\n",
            "      macro avg       0.62      0.63      0.62      5106\n",
            "   weighted avg       0.87      0.86      0.86      5106\n",
            "\n"
          ]
        },
        {
          "output_type": "stream",
          "name": "stderr",
          "text": [
            "/usr/local/lib/python3.7/dist-packages/sklearn/metrics/_classification.py:1318: UndefinedMetricWarning: Precision and F-score are ill-defined and being set to 0.0 in labels with no predicted samples. Use `zero_division` parameter to control this behavior.\n",
            "  _warn_prf(average, modifier, msg_start, len(result))\n",
            "/usr/local/lib/python3.7/dist-packages/sklearn/metrics/_classification.py:1318: UndefinedMetricWarning: Precision and F-score are ill-defined and being set to 0.0 in labels with no predicted samples. Use `zero_division` parameter to control this behavior.\n",
            "  _warn_prf(average, modifier, msg_start, len(result))\n",
            "/usr/local/lib/python3.7/dist-packages/sklearn/metrics/_classification.py:1318: UndefinedMetricWarning: Precision and F-score are ill-defined and being set to 0.0 in labels with no predicted samples. Use `zero_division` parameter to control this behavior.\n",
            "  _warn_prf(average, modifier, msg_start, len(result))\n"
          ]
        }
      ],
      "source": [
        "print(classification_report(y_test, y_hat, target_names=labels_5))"
      ]
    },
    {
      "cell_type": "code",
      "execution_count": 72,
      "id": "77519b5f",
      "metadata": {
        "id": "77519b5f"
      },
      "outputs": [],
      "source": [
        "sentiment_model=loaded_model"
      ]
    },
    {
      "cell_type": "code",
      "execution_count": 72,
      "id": "3d239a89",
      "metadata": {
        "id": "3d239a89"
      },
      "outputs": [],
      "source": []
    },
    {
      "cell_type": "code",
      "execution_count": 80,
      "id": "bb22879f",
      "metadata": {
        "id": "bb22879f"
      },
      "outputs": [],
      "source": [
        "from transformers import BertTokenizer\n",
        "tokenizer = BertTokenizer.from_pretrained('bert-base-cased')\n",
        "\n",
        "def prepare_data(input_text, tokenizer):\n",
        "    token = tokenizer.encode_plus(\n",
        "        input_text,\n",
        "        max_length=500, \n",
        "        truncation=True, \n",
        "        padding='max_length', \n",
        "        add_special_tokens=True,\n",
        "        return_tensors='tf'\n",
        "    )\n",
        "    return {\n",
        "        'input_token': tf.cast(token.input_ids, tf.float64),\n",
        "        'masked_token': tf.cast(token.attention_mask, tf.float64)\n",
        "    }\n",
        "\n",
        "def make_prediction(model, processed_data, classes=['Casual-Talk', 'Depression', 'Suicide', 'High-Suicidal']):\n",
        "    probs = model.predict(processed_data)[0]\n",
        "    return classes[np.argmax(probs)]"
      ]
    },
    {
      "cell_type": "code",
      "execution_count": 81,
      "id": "9ac2696a",
      "metadata": {
        "id": "9ac2696a",
        "colab": {
          "base_uri": "https://localhost:8080/"
        },
        "outputId": "465e4fb0-9c93-40eb-a267-1baf0d78ea83"
      },
      "outputs": [
        {
          "output_type": "stream",
          "name": "stdout",
          "text": [
            "1/1 [==============================] - 4s 4s/step\n",
            "Predicted Sentiment: Casual-Talk\n"
          ]
        }
      ],
      "source": [
        "input_text = (\"I don 't deserve to be alive. I don't want to face the trials of reality, which is obviously cowardice. I have let this cowardice envelop me, and I can't shake it off.\")\n",
        "processed_data = prepare_data(input_text, tokenizer)\n",
        "result = make_prediction(sentiment_model, processed_data=processed_data)\n",
        "print(f\"Predicted Sentiment: {result}\")"
      ]
    },
    {
      "cell_type": "code",
      "execution_count": 82,
      "id": "8a94fca6",
      "metadata": {
        "id": "8a94fca6",
        "colab": {
          "base_uri": "https://localhost:8080/"
        },
        "outputId": "a3b1409b-0ee8-4db7-8f10-8d722f028aca"
      },
      "outputs": [
        {
          "output_type": "stream",
          "name": "stdout",
          "text": [
            "1/1 [==============================] - 0s 68ms/step\n",
            "Predicted Sentiment: Casual-Talk\n"
          ]
        }
      ],
      "source": [
        "input_text = (\"I will be - You lookup. Stars little lights  Little places where you Cannot live with your  Lungs and your skin But  with your heart. My little world will meet, Yours and yours mine.  My organs, though left Behind in the earth to become The trees, or to live and Be wanted in another's body, I will be there as Another dot to join the dots, So that when you look up, I will be there, and you know  I will be free.\")\n",
        "processed_data = prepare_data(input_text, tokenizer)\n",
        "result = make_prediction(sentiment_model, processed_data=processed_data)\n",
        "print(f\"Predicted Sentiment: {result}\")"
      ]
    },
    {
      "cell_type": "code",
      "execution_count": 83,
      "id": "889230a1",
      "metadata": {
        "id": "889230a1",
        "colab": {
          "base_uri": "https://localhost:8080/"
        },
        "outputId": "d8c5d34c-cd52-4d57-f983-db3f1def8c29"
      },
      "outputs": [
        {
          "output_type": "stream",
          "name": "stdout",
          "text": [
            "1/1 [==============================] - 0s 67ms/step\n",
            "Predicted Sentiment: Casual-Talk\n"
          ]
        }
      ],
      "source": [
        "input_text = (\"I guess I'm nothing more than another suicidal white girl,\" \"Just another first-world brat succumbing to society's perfect illusions \")\n",
        "processed_data = prepare_data(input_text, tokenizer)\n",
        "result = make_prediction(sentiment_model, processed_data=processed_data)\n",
        "print(f\"Predicted Sentiment: {result}\")"
      ]
    },
    {
      "cell_type": "code",
      "execution_count": 84,
      "id": "43247c30",
      "metadata": {
        "id": "43247c30",
        "colab": {
          "base_uri": "https://localhost:8080/"
        },
        "outputId": "2dd13588-4e4b-4e72-f08e-0b0085150ff2"
      },
      "outputs": [
        {
          "output_type": "stream",
          "name": "stdout",
          "text": [
            "1/1 [==============================] - 0s 70ms/step\n",
            "Predicted Sentiment: Casual-Talk\n"
          ]
        }
      ],
      "source": [
        "input_text = (\"We are each given a life. We're supposed to live it. I don 't. It's as simple as that It comes suddenly and then dissolves\")\n",
        "processed_data = prepare_data(input_text, tokenizer)\n",
        "result = make_prediction(sentiment_model, processed_data=processed_data)\n",
        "print(f\"Predicted Sentiment: {result}\")"
      ]
    },
    {
      "cell_type": "code",
      "execution_count": 85,
      "id": "e1ef9447",
      "metadata": {
        "id": "e1ef9447",
        "colab": {
          "base_uri": "https://localhost:8080/"
        },
        "outputId": "1beb4a04-2c7e-40a8-cd3f-d7c14c109287"
      },
      "outputs": [
        {
          "output_type": "stream",
          "name": "stdout",
          "text": [
            "1/1 [==============================] - 0s 69ms/step\n",
            "Predicted Sentiment: Depression\n"
          ]
        }
      ],
      "source": [
        "input_text = (\"if I fail these exams, I know that my will be ruined and I can kiss University goodbye. I can kiss my life goodbye. All I want is to be a good psychologist. I can't do that without a proper degree and a Masters\")\n",
        "processed_data = prepare_data(input_text, tokenizer)\n",
        "result = make_prediction(sentiment_model, processed_data=processed_data)\n",
        "print(f\"Predicted Sentiment: {result}\")"
      ]
    },
    {
      "cell_type": "code",
      "execution_count": 86,
      "id": "60e7c9d9",
      "metadata": {
        "id": "60e7c9d9",
        "colab": {
          "base_uri": "https://localhost:8080/"
        },
        "outputId": "5d2fa928-45ca-4fe7-e31a-22d35e96f5b3"
      },
      "outputs": [
        {
          "output_type": "stream",
          "name": "stdout",
          "text": [
            "1/1 [==============================] - 0s 68ms/step\n",
            "Predicted Sentiment: Casual-Talk\n"
          ]
        }
      ],
      "source": [
        "input_text = (\"i will die\")\n",
        "processed_data = prepare_data(input_text, tokenizer)\n",
        "result = make_prediction(sentiment_model, processed_data=processed_data)\n",
        "print(f\"Predicted Sentiment: {result}\")"
      ]
    },
    {
      "cell_type": "code",
      "execution_count": 87,
      "id": "43af8360",
      "metadata": {
        "id": "43af8360",
        "colab": {
          "base_uri": "https://localhost:8080/"
        },
        "outputId": "6ceb7798-9224-45d5-ebce-91cda5ef9f0f"
      },
      "outputs": [
        {
          "output_type": "stream",
          "name": "stdout",
          "text": [
            "1/1 [==============================] - 0s 67ms/step\n",
            "Predicted Sentiment: Casual-Talk\n"
          ]
        }
      ],
      "source": [
        "input_text = (\"i want to die\")\n",
        "processed_data = prepare_data(input_text, tokenizer)\n",
        "result = make_prediction(sentiment_model, processed_data=processed_data)\n",
        "print(f\"Predicted Sentiment: {result}\")"
      ]
    },
    {
      "cell_type": "code",
      "execution_count": 88,
      "id": "ed1d34b0",
      "metadata": {
        "id": "ed1d34b0",
        "colab": {
          "base_uri": "https://localhost:8080/"
        },
        "outputId": "f5954711-c19d-458d-b622-e9501fe09717"
      },
      "outputs": [
        {
          "output_type": "stream",
          "name": "stdout",
          "text": [
            "1/1 [==============================] - 0s 70ms/step\n",
            "Predicted Sentiment: Casual-Talk\n"
          ]
        }
      ],
      "source": [
        "input_text = (\"i want to kill myself\")\n",
        "processed_data = prepare_data(input_text, tokenizer)\n",
        "result = make_prediction(sentiment_model, processed_data=processed_data)\n",
        "print(f\"Predicted Sentiment: {result}\")"
      ]
    },
    {
      "cell_type": "code",
      "execution_count": 89,
      "id": "55f72987",
      "metadata": {
        "id": "55f72987",
        "colab": {
          "base_uri": "https://localhost:8080/"
        },
        "outputId": "ce9c543f-3ae3-4231-d806-a30dcf06e353"
      },
      "outputs": [
        {
          "output_type": "stream",
          "name": "stdout",
          "text": [
            "1/1 [==============================] - 0s 69ms/step\n",
            "Predicted Sentiment:    Casual-Talk\n"
          ]
        }
      ],
      "source": [
        "# input_text = (\"i forgot my car keys, i will jump on the floor\")\n",
        "# input_text= (\"just die\")\n",
        "input_text =(\" i will jump out of the building\")\n",
        "processed_data = prepare_data(input_text, tokenizer)\n",
        "result = make_prediction(sentiment_model, processed_data=processed_data)\n",
        "print(f\"Predicted Sentiment:    {result}\")"
      ]
    },
    {
      "cell_type": "code",
      "execution_count": 90,
      "id": "98483777",
      "metadata": {
        "id": "98483777",
        "colab": {
          "base_uri": "https://localhost:8080/"
        },
        "outputId": "0a2c79cb-2c11-429c-bb83-44812021514d"
      },
      "outputs": [
        {
          "output_type": "stream",
          "name": "stdout",
          "text": [
            "1/1 [==============================] - 0s 69ms/step\n",
            "Predicted Sentiment:    Casual-Talk\n"
          ]
        }
      ],
      "source": [
        "# input_text = (\"i forgot my car keys, i will jump on the floor\")\n",
        "# input_text= (\"just die\")\n",
        "input_text =(\"my partner broke up with me, i'm in hundered of thousands in debt, i dont have any alternative, i will jump out of the building\")\n",
        "processed_data = prepare_data(input_text, tokenizer)\n",
        "result = make_prediction(sentiment_model, processed_data=processed_data)\n",
        "print(f\"Predicted Sentiment:    {result}\")"
      ]
    },
    {
      "cell_type": "code",
      "execution_count": 91,
      "id": "f5bd8a6d",
      "metadata": {
        "id": "f5bd8a6d",
        "colab": {
          "base_uri": "https://localhost:8080/"
        },
        "outputId": "f8f747c7-fb2d-4c06-e7c3-8c5dc5a510de"
      },
      "outputs": [
        {
          "output_type": "stream",
          "name": "stdout",
          "text": [
            "1/1 [==============================] - 0s 66ms/step\n",
            "Predicted Sentiment:    Casual-Talk\n"
          ]
        }
      ],
      "source": [
        "# input_text = (\" \")\n",
        "input_text= (\"just kill yourself\")\n",
        "\n",
        "processed_data = prepare_data(input_text, tokenizer)\n",
        "result = make_prediction(sentiment_model, processed_data=processed_data)\n",
        "print(f\"Predicted Sentiment:    {result}\")"
      ]
    },
    {
      "cell_type": "code",
      "execution_count": 92,
      "id": "5fa4d5fa",
      "metadata": {
        "id": "5fa4d5fa",
        "colab": {
          "base_uri": "https://localhost:8080/"
        },
        "outputId": "deeddc0f-1b76-4d30-ed17-a4c2042675ac"
      },
      "outputs": [
        {
          "output_type": "stream",
          "name": "stdout",
          "text": [
            "1/1 [==============================] - 0s 69ms/step\n",
            "Predicted Sentiment: Casual-Talk\n"
          ]
        }
      ],
      "source": [
        "input_text = (\"Despondency failure at not doing home work sooner, convinced that I was now a total failure, total lack of motivation, fears about the future\")\n",
        "processed_data = prepare_data(input_text, tokenizer)\n",
        "result = make_prediction(sentiment_model, processed_data=processed_data)\n",
        "print(f\"Predicted Sentiment: {result}\")"
      ]
    },
    {
      "cell_type": "code",
      "execution_count": 93,
      "id": "e69d2aca",
      "metadata": {
        "id": "e69d2aca",
        "colab": {
          "base_uri": "https://localhost:8080/"
        },
        "outputId": "0bfe3806-e495-4266-82e7-84244999964e"
      },
      "outputs": [
        {
          "output_type": "stream",
          "name": "stdout",
          "text": [
            "1/1 [==============================] - 0s 68ms/step\n",
            "Predicted Sentiment: Casual-Talk\n"
          ]
        }
      ],
      "source": [
        "\n",
        "\n",
        "input_text = (\"I taught two people the value of life, You will lose me. My god, it will destroy you. What I will do, will be unforgiveable. I will commit the worst thing you can ever do to someone who loves you: killing yourself The scary thing is, I'm okay with that I am not sad so much as gone\")\n",
        "processed_data = prepare_data(input_text, tokenizer)\n",
        "result = make_prediction(sentiment_model, processed_data=processed_data)\n",
        "print(f\"Predicted Sentiment: {result}\")"
      ]
    },
    {
      "cell_type": "code",
      "execution_count": 93,
      "id": "9243b20e",
      "metadata": {
        "id": "9243b20e"
      },
      "outputs": [],
      "source": []
    }
  ],
  "metadata": {
    "kernelspec": {
      "display_name": "Python 3 (ipykernel)",
      "language": "python",
      "name": "python3"
    },
    "language_info": {
      "codemirror_mode": {
        "name": "ipython",
        "version": 3
      },
      "file_extension": ".py",
      "mimetype": "text/x-python",
      "name": "python",
      "nbconvert_exporter": "python",
      "pygments_lexer": "ipython3",
      "version": "3.9.12"
    },
    "colab": {
      "provenance": [],
      "collapsed_sections": [],
      "machine_shape": "hm"
    },
    "accelerator": "GPU",
    "gpuClass": "premium",
    "widgets": {
      "application/vnd.jupyter.widget-state+json": {
        "7cb7fb5f39094d1aa3093f36f5a6fcfa": {
          "model_module": "@jupyter-widgets/controls",
          "model_name": "HBoxModel",
          "model_module_version": "1.5.0",
          "state": {
            "_dom_classes": [],
            "_model_module": "@jupyter-widgets/controls",
            "_model_module_version": "1.5.0",
            "_model_name": "HBoxModel",
            "_view_count": null,
            "_view_module": "@jupyter-widgets/controls",
            "_view_module_version": "1.5.0",
            "_view_name": "HBoxView",
            "box_style": "",
            "children": [
              "IPY_MODEL_4562cbee5ca14706bd167392f08ffe91",
              "IPY_MODEL_22f1dae4bc044ea7ace3a38bb6606fe2",
              "IPY_MODEL_54f4c540e6d44c22baa881aba4d417f1"
            ],
            "layout": "IPY_MODEL_ed803e2c907a4624b37e8f6bd8c80ad9"
          }
        },
        "4562cbee5ca14706bd167392f08ffe91": {
          "model_module": "@jupyter-widgets/controls",
          "model_name": "HTMLModel",
          "model_module_version": "1.5.0",
          "state": {
            "_dom_classes": [],
            "_model_module": "@jupyter-widgets/controls",
            "_model_module_version": "1.5.0",
            "_model_name": "HTMLModel",
            "_view_count": null,
            "_view_module": "@jupyter-widgets/controls",
            "_view_module_version": "1.5.0",
            "_view_name": "HTMLView",
            "description": "",
            "description_tooltip": null,
            "layout": "IPY_MODEL_20e90718f6724ca1ab695446eb2e3e8f",
            "placeholder": "​",
            "style": "IPY_MODEL_7e40035fe1e14f45bd3b6f8ef662ea13",
            "value": "100%"
          }
        },
        "22f1dae4bc044ea7ace3a38bb6606fe2": {
          "model_module": "@jupyter-widgets/controls",
          "model_name": "FloatProgressModel",
          "model_module_version": "1.5.0",
          "state": {
            "_dom_classes": [],
            "_model_module": "@jupyter-widgets/controls",
            "_model_module_version": "1.5.0",
            "_model_name": "FloatProgressModel",
            "_view_count": null,
            "_view_module": "@jupyter-widgets/controls",
            "_view_module_version": "1.5.0",
            "_view_name": "ProgressView",
            "bar_style": "success",
            "description": "",
            "description_tooltip": null,
            "layout": "IPY_MODEL_9401368a54bc4c34b4aad05091212a10",
            "max": 11914,
            "min": 0,
            "orientation": "horizontal",
            "style": "IPY_MODEL_b166600b5e4949b4ab37e6515820b794",
            "value": 11914
          }
        },
        "54f4c540e6d44c22baa881aba4d417f1": {
          "model_module": "@jupyter-widgets/controls",
          "model_name": "HTMLModel",
          "model_module_version": "1.5.0",
          "state": {
            "_dom_classes": [],
            "_model_module": "@jupyter-widgets/controls",
            "_model_module_version": "1.5.0",
            "_model_name": "HTMLModel",
            "_view_count": null,
            "_view_module": "@jupyter-widgets/controls",
            "_view_module_version": "1.5.0",
            "_view_name": "HTMLView",
            "description": "",
            "description_tooltip": null,
            "layout": "IPY_MODEL_245aa99743084377912824a57c9e1786",
            "placeholder": "​",
            "style": "IPY_MODEL_1073cb4d343641bb9f8ab789f11c8fb1",
            "value": " 11914/11914 [00:34&lt;00:00, 338.68it/s]"
          }
        },
        "ed803e2c907a4624b37e8f6bd8c80ad9": {
          "model_module": "@jupyter-widgets/base",
          "model_name": "LayoutModel",
          "model_module_version": "1.2.0",
          "state": {
            "_model_module": "@jupyter-widgets/base",
            "_model_module_version": "1.2.0",
            "_model_name": "LayoutModel",
            "_view_count": null,
            "_view_module": "@jupyter-widgets/base",
            "_view_module_version": "1.2.0",
            "_view_name": "LayoutView",
            "align_content": null,
            "align_items": null,
            "align_self": null,
            "border": null,
            "bottom": null,
            "display": null,
            "flex": null,
            "flex_flow": null,
            "grid_area": null,
            "grid_auto_columns": null,
            "grid_auto_flow": null,
            "grid_auto_rows": null,
            "grid_column": null,
            "grid_gap": null,
            "grid_row": null,
            "grid_template_areas": null,
            "grid_template_columns": null,
            "grid_template_rows": null,
            "height": null,
            "justify_content": null,
            "justify_items": null,
            "left": null,
            "margin": null,
            "max_height": null,
            "max_width": null,
            "min_height": null,
            "min_width": null,
            "object_fit": null,
            "object_position": null,
            "order": null,
            "overflow": null,
            "overflow_x": null,
            "overflow_y": null,
            "padding": null,
            "right": null,
            "top": null,
            "visibility": null,
            "width": null
          }
        },
        "20e90718f6724ca1ab695446eb2e3e8f": {
          "model_module": "@jupyter-widgets/base",
          "model_name": "LayoutModel",
          "model_module_version": "1.2.0",
          "state": {
            "_model_module": "@jupyter-widgets/base",
            "_model_module_version": "1.2.0",
            "_model_name": "LayoutModel",
            "_view_count": null,
            "_view_module": "@jupyter-widgets/base",
            "_view_module_version": "1.2.0",
            "_view_name": "LayoutView",
            "align_content": null,
            "align_items": null,
            "align_self": null,
            "border": null,
            "bottom": null,
            "display": null,
            "flex": null,
            "flex_flow": null,
            "grid_area": null,
            "grid_auto_columns": null,
            "grid_auto_flow": null,
            "grid_auto_rows": null,
            "grid_column": null,
            "grid_gap": null,
            "grid_row": null,
            "grid_template_areas": null,
            "grid_template_columns": null,
            "grid_template_rows": null,
            "height": null,
            "justify_content": null,
            "justify_items": null,
            "left": null,
            "margin": null,
            "max_height": null,
            "max_width": null,
            "min_height": null,
            "min_width": null,
            "object_fit": null,
            "object_position": null,
            "order": null,
            "overflow": null,
            "overflow_x": null,
            "overflow_y": null,
            "padding": null,
            "right": null,
            "top": null,
            "visibility": null,
            "width": null
          }
        },
        "7e40035fe1e14f45bd3b6f8ef662ea13": {
          "model_module": "@jupyter-widgets/controls",
          "model_name": "DescriptionStyleModel",
          "model_module_version": "1.5.0",
          "state": {
            "_model_module": "@jupyter-widgets/controls",
            "_model_module_version": "1.5.0",
            "_model_name": "DescriptionStyleModel",
            "_view_count": null,
            "_view_module": "@jupyter-widgets/base",
            "_view_module_version": "1.2.0",
            "_view_name": "StyleView",
            "description_width": ""
          }
        },
        "9401368a54bc4c34b4aad05091212a10": {
          "model_module": "@jupyter-widgets/base",
          "model_name": "LayoutModel",
          "model_module_version": "1.2.0",
          "state": {
            "_model_module": "@jupyter-widgets/base",
            "_model_module_version": "1.2.0",
            "_model_name": "LayoutModel",
            "_view_count": null,
            "_view_module": "@jupyter-widgets/base",
            "_view_module_version": "1.2.0",
            "_view_name": "LayoutView",
            "align_content": null,
            "align_items": null,
            "align_self": null,
            "border": null,
            "bottom": null,
            "display": null,
            "flex": null,
            "flex_flow": null,
            "grid_area": null,
            "grid_auto_columns": null,
            "grid_auto_flow": null,
            "grid_auto_rows": null,
            "grid_column": null,
            "grid_gap": null,
            "grid_row": null,
            "grid_template_areas": null,
            "grid_template_columns": null,
            "grid_template_rows": null,
            "height": null,
            "justify_content": null,
            "justify_items": null,
            "left": null,
            "margin": null,
            "max_height": null,
            "max_width": null,
            "min_height": null,
            "min_width": null,
            "object_fit": null,
            "object_position": null,
            "order": null,
            "overflow": null,
            "overflow_x": null,
            "overflow_y": null,
            "padding": null,
            "right": null,
            "top": null,
            "visibility": null,
            "width": null
          }
        },
        "b166600b5e4949b4ab37e6515820b794": {
          "model_module": "@jupyter-widgets/controls",
          "model_name": "ProgressStyleModel",
          "model_module_version": "1.5.0",
          "state": {
            "_model_module": "@jupyter-widgets/controls",
            "_model_module_version": "1.5.0",
            "_model_name": "ProgressStyleModel",
            "_view_count": null,
            "_view_module": "@jupyter-widgets/base",
            "_view_module_version": "1.2.0",
            "_view_name": "StyleView",
            "bar_color": null,
            "description_width": ""
          }
        },
        "245aa99743084377912824a57c9e1786": {
          "model_module": "@jupyter-widgets/base",
          "model_name": "LayoutModel",
          "model_module_version": "1.2.0",
          "state": {
            "_model_module": "@jupyter-widgets/base",
            "_model_module_version": "1.2.0",
            "_model_name": "LayoutModel",
            "_view_count": null,
            "_view_module": "@jupyter-widgets/base",
            "_view_module_version": "1.2.0",
            "_view_name": "LayoutView",
            "align_content": null,
            "align_items": null,
            "align_self": null,
            "border": null,
            "bottom": null,
            "display": null,
            "flex": null,
            "flex_flow": null,
            "grid_area": null,
            "grid_auto_columns": null,
            "grid_auto_flow": null,
            "grid_auto_rows": null,
            "grid_column": null,
            "grid_gap": null,
            "grid_row": null,
            "grid_template_areas": null,
            "grid_template_columns": null,
            "grid_template_rows": null,
            "height": null,
            "justify_content": null,
            "justify_items": null,
            "left": null,
            "margin": null,
            "max_height": null,
            "max_width": null,
            "min_height": null,
            "min_width": null,
            "object_fit": null,
            "object_position": null,
            "order": null,
            "overflow": null,
            "overflow_x": null,
            "overflow_y": null,
            "padding": null,
            "right": null,
            "top": null,
            "visibility": null,
            "width": null
          }
        },
        "1073cb4d343641bb9f8ab789f11c8fb1": {
          "model_module": "@jupyter-widgets/controls",
          "model_name": "DescriptionStyleModel",
          "model_module_version": "1.5.0",
          "state": {
            "_model_module": "@jupyter-widgets/controls",
            "_model_module_version": "1.5.0",
            "_model_name": "DescriptionStyleModel",
            "_view_count": null,
            "_view_module": "@jupyter-widgets/base",
            "_view_module_version": "1.2.0",
            "_view_name": "StyleView",
            "description_width": ""
          }
        },
        "77cc84c98b0347249535885fada3fd72": {
          "model_module": "@jupyter-widgets/controls",
          "model_name": "HBoxModel",
          "model_module_version": "1.5.0",
          "state": {
            "_dom_classes": [],
            "_model_module": "@jupyter-widgets/controls",
            "_model_module_version": "1.5.0",
            "_model_name": "HBoxModel",
            "_view_count": null,
            "_view_module": "@jupyter-widgets/controls",
            "_view_module_version": "1.5.0",
            "_view_name": "HBoxView",
            "box_style": "",
            "children": [
              "IPY_MODEL_39da9491c0724f0a8190061dfab2fd9c",
              "IPY_MODEL_244f9f8a720d437c864bc49e5039ba86",
              "IPY_MODEL_913dc3f551f64fb2888a24508ccff9c3"
            ],
            "layout": "IPY_MODEL_aee9570062aa4c8ba31a516ef1ca279e"
          }
        },
        "39da9491c0724f0a8190061dfab2fd9c": {
          "model_module": "@jupyter-widgets/controls",
          "model_name": "HTMLModel",
          "model_module_version": "1.5.0",
          "state": {
            "_dom_classes": [],
            "_model_module": "@jupyter-widgets/controls",
            "_model_module_version": "1.5.0",
            "_model_name": "HTMLModel",
            "_view_count": null,
            "_view_module": "@jupyter-widgets/controls",
            "_view_module_version": "1.5.0",
            "_view_name": "HTMLView",
            "description": "",
            "description_tooltip": null,
            "layout": "IPY_MODEL_e005e4abe7c249d69ccbdb9ee8a9a75d",
            "placeholder": "​",
            "style": "IPY_MODEL_455af5e6f80d4e19b8e5a30941fe22e3",
            "value": "100%"
          }
        },
        "244f9f8a720d437c864bc49e5039ba86": {
          "model_module": "@jupyter-widgets/controls",
          "model_name": "FloatProgressModel",
          "model_module_version": "1.5.0",
          "state": {
            "_dom_classes": [],
            "_model_module": "@jupyter-widgets/controls",
            "_model_module_version": "1.5.0",
            "_model_name": "FloatProgressModel",
            "_view_count": null,
            "_view_module": "@jupyter-widgets/controls",
            "_view_module_version": "1.5.0",
            "_view_name": "ProgressView",
            "bar_style": "success",
            "description": "",
            "description_tooltip": null,
            "layout": "IPY_MODEL_d74bf2fa01474ecbb70171b9839a44c7",
            "max": 5106,
            "min": 0,
            "orientation": "horizontal",
            "style": "IPY_MODEL_f212960656e24ed090fb8c9d5c87c073",
            "value": 5106
          }
        },
        "913dc3f551f64fb2888a24508ccff9c3": {
          "model_module": "@jupyter-widgets/controls",
          "model_name": "HTMLModel",
          "model_module_version": "1.5.0",
          "state": {
            "_dom_classes": [],
            "_model_module": "@jupyter-widgets/controls",
            "_model_module_version": "1.5.0",
            "_model_name": "HTMLModel",
            "_view_count": null,
            "_view_module": "@jupyter-widgets/controls",
            "_view_module_version": "1.5.0",
            "_view_name": "HTMLView",
            "description": "",
            "description_tooltip": null,
            "layout": "IPY_MODEL_be05f5c956fc4426adbb3584af3c46d1",
            "placeholder": "​",
            "style": "IPY_MODEL_bcaa125be13e41368e92e7749776eba1",
            "value": " 5106/5106 [00:14&lt;00:00, 374.54it/s]"
          }
        },
        "aee9570062aa4c8ba31a516ef1ca279e": {
          "model_module": "@jupyter-widgets/base",
          "model_name": "LayoutModel",
          "model_module_version": "1.2.0",
          "state": {
            "_model_module": "@jupyter-widgets/base",
            "_model_module_version": "1.2.0",
            "_model_name": "LayoutModel",
            "_view_count": null,
            "_view_module": "@jupyter-widgets/base",
            "_view_module_version": "1.2.0",
            "_view_name": "LayoutView",
            "align_content": null,
            "align_items": null,
            "align_self": null,
            "border": null,
            "bottom": null,
            "display": null,
            "flex": null,
            "flex_flow": null,
            "grid_area": null,
            "grid_auto_columns": null,
            "grid_auto_flow": null,
            "grid_auto_rows": null,
            "grid_column": null,
            "grid_gap": null,
            "grid_row": null,
            "grid_template_areas": null,
            "grid_template_columns": null,
            "grid_template_rows": null,
            "height": null,
            "justify_content": null,
            "justify_items": null,
            "left": null,
            "margin": null,
            "max_height": null,
            "max_width": null,
            "min_height": null,
            "min_width": null,
            "object_fit": null,
            "object_position": null,
            "order": null,
            "overflow": null,
            "overflow_x": null,
            "overflow_y": null,
            "padding": null,
            "right": null,
            "top": null,
            "visibility": null,
            "width": null
          }
        },
        "e005e4abe7c249d69ccbdb9ee8a9a75d": {
          "model_module": "@jupyter-widgets/base",
          "model_name": "LayoutModel",
          "model_module_version": "1.2.0",
          "state": {
            "_model_module": "@jupyter-widgets/base",
            "_model_module_version": "1.2.0",
            "_model_name": "LayoutModel",
            "_view_count": null,
            "_view_module": "@jupyter-widgets/base",
            "_view_module_version": "1.2.0",
            "_view_name": "LayoutView",
            "align_content": null,
            "align_items": null,
            "align_self": null,
            "border": null,
            "bottom": null,
            "display": null,
            "flex": null,
            "flex_flow": null,
            "grid_area": null,
            "grid_auto_columns": null,
            "grid_auto_flow": null,
            "grid_auto_rows": null,
            "grid_column": null,
            "grid_gap": null,
            "grid_row": null,
            "grid_template_areas": null,
            "grid_template_columns": null,
            "grid_template_rows": null,
            "height": null,
            "justify_content": null,
            "justify_items": null,
            "left": null,
            "margin": null,
            "max_height": null,
            "max_width": null,
            "min_height": null,
            "min_width": null,
            "object_fit": null,
            "object_position": null,
            "order": null,
            "overflow": null,
            "overflow_x": null,
            "overflow_y": null,
            "padding": null,
            "right": null,
            "top": null,
            "visibility": null,
            "width": null
          }
        },
        "455af5e6f80d4e19b8e5a30941fe22e3": {
          "model_module": "@jupyter-widgets/controls",
          "model_name": "DescriptionStyleModel",
          "model_module_version": "1.5.0",
          "state": {
            "_model_module": "@jupyter-widgets/controls",
            "_model_module_version": "1.5.0",
            "_model_name": "DescriptionStyleModel",
            "_view_count": null,
            "_view_module": "@jupyter-widgets/base",
            "_view_module_version": "1.2.0",
            "_view_name": "StyleView",
            "description_width": ""
          }
        },
        "d74bf2fa01474ecbb70171b9839a44c7": {
          "model_module": "@jupyter-widgets/base",
          "model_name": "LayoutModel",
          "model_module_version": "1.2.0",
          "state": {
            "_model_module": "@jupyter-widgets/base",
            "_model_module_version": "1.2.0",
            "_model_name": "LayoutModel",
            "_view_count": null,
            "_view_module": "@jupyter-widgets/base",
            "_view_module_version": "1.2.0",
            "_view_name": "LayoutView",
            "align_content": null,
            "align_items": null,
            "align_self": null,
            "border": null,
            "bottom": null,
            "display": null,
            "flex": null,
            "flex_flow": null,
            "grid_area": null,
            "grid_auto_columns": null,
            "grid_auto_flow": null,
            "grid_auto_rows": null,
            "grid_column": null,
            "grid_gap": null,
            "grid_row": null,
            "grid_template_areas": null,
            "grid_template_columns": null,
            "grid_template_rows": null,
            "height": null,
            "justify_content": null,
            "justify_items": null,
            "left": null,
            "margin": null,
            "max_height": null,
            "max_width": null,
            "min_height": null,
            "min_width": null,
            "object_fit": null,
            "object_position": null,
            "order": null,
            "overflow": null,
            "overflow_x": null,
            "overflow_y": null,
            "padding": null,
            "right": null,
            "top": null,
            "visibility": null,
            "width": null
          }
        },
        "f212960656e24ed090fb8c9d5c87c073": {
          "model_module": "@jupyter-widgets/controls",
          "model_name": "ProgressStyleModel",
          "model_module_version": "1.5.0",
          "state": {
            "_model_module": "@jupyter-widgets/controls",
            "_model_module_version": "1.5.0",
            "_model_name": "ProgressStyleModel",
            "_view_count": null,
            "_view_module": "@jupyter-widgets/base",
            "_view_module_version": "1.2.0",
            "_view_name": "StyleView",
            "bar_color": null,
            "description_width": ""
          }
        },
        "be05f5c956fc4426adbb3584af3c46d1": {
          "model_module": "@jupyter-widgets/base",
          "model_name": "LayoutModel",
          "model_module_version": "1.2.0",
          "state": {
            "_model_module": "@jupyter-widgets/base",
            "_model_module_version": "1.2.0",
            "_model_name": "LayoutModel",
            "_view_count": null,
            "_view_module": "@jupyter-widgets/base",
            "_view_module_version": "1.2.0",
            "_view_name": "LayoutView",
            "align_content": null,
            "align_items": null,
            "align_self": null,
            "border": null,
            "bottom": null,
            "display": null,
            "flex": null,
            "flex_flow": null,
            "grid_area": null,
            "grid_auto_columns": null,
            "grid_auto_flow": null,
            "grid_auto_rows": null,
            "grid_column": null,
            "grid_gap": null,
            "grid_row": null,
            "grid_template_areas": null,
            "grid_template_columns": null,
            "grid_template_rows": null,
            "height": null,
            "justify_content": null,
            "justify_items": null,
            "left": null,
            "margin": null,
            "max_height": null,
            "max_width": null,
            "min_height": null,
            "min_width": null,
            "object_fit": null,
            "object_position": null,
            "order": null,
            "overflow": null,
            "overflow_x": null,
            "overflow_y": null,
            "padding": null,
            "right": null,
            "top": null,
            "visibility": null,
            "width": null
          }
        },
        "bcaa125be13e41368e92e7749776eba1": {
          "model_module": "@jupyter-widgets/controls",
          "model_name": "DescriptionStyleModel",
          "model_module_version": "1.5.0",
          "state": {
            "_model_module": "@jupyter-widgets/controls",
            "_model_module_version": "1.5.0",
            "_model_name": "DescriptionStyleModel",
            "_view_count": null,
            "_view_module": "@jupyter-widgets/base",
            "_view_module_version": "1.2.0",
            "_view_name": "StyleView",
            "description_width": ""
          }
        }
      }
    }
  },
  "nbformat": 4,
  "nbformat_minor": 5
}